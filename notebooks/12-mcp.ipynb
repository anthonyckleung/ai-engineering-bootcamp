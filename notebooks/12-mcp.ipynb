{
 "cells": [
  {
   "cell_type": "code",
   "execution_count": 1,
   "id": "87d31e0c",
   "metadata": {},
   "outputs": [],
   "source": [
    "from fastmcp import Client\n",
    "\n",
    "from pydantic import BaseModel, Field\n",
    "\n",
    "from qdrant_client import QdrantClient\n",
    "from qdrant_client.models import Prefetch, Filter, FieldCondition, MatchText, FusionQuery\n",
    "\n",
    "from langsmith import traceable, get_current_run_tree\n",
    "\n",
    "from langgraph.graph import StateGraph, START, END\n",
    "from langgraph.prebuilt import ToolNode\n",
    "\n",
    "from langchain_core.messages import AIMessage, ToolMessage\n",
    "\n",
    "from jinja2 import Template\n",
    "from typing import Literal, Dict, Any, Annotated, List, Optional, Union\n",
    "from IPython.display import Image, display\n",
    "from operator import add\n",
    "from openai import OpenAI\n",
    "\n",
    "import openai\n",
    "\n",
    "import random\n",
    "import ast\n",
    "import inspect\n",
    "import instructor\n",
    "import json"
   ]
  },
  {
   "cell_type": "code",
   "execution_count": 81,
   "id": "f23fac99",
   "metadata": {},
   "outputs": [],
   "source": [
    "client = Client(\"http://localhost:8001/mcp\")\n",
    "\n",
    "async with client:\n",
    "    tools = await client.list_tools()"
   ]
  },
  {
   "cell_type": "code",
   "execution_count": 82,
   "id": "f307860d",
   "metadata": {},
   "outputs": [
    {
     "data": {
      "text/plain": [
       "[Tool(name='get_formatted_context', title=None, description='Get the top k context, each representing an job posting for a given query.\\n\\nArgs:\\n    query: The query to get the top k context for\\n    top_k: The number of context chunks to retrieve, works best with 5 or more\\n\\nReturns:\\n    A string of the top k context chunks with IDs prepending each chunk, each representing job posting for a given query.', inputSchema={'properties': {'query': {'title': 'Query', 'type': 'string'}, 'top_k': {'default': 5, 'title': 'Top K', 'type': 'integer'}}, 'required': ['query'], 'type': 'object'}, outputSchema={'properties': {'result': {'title': 'Result', 'type': 'string'}}, 'required': ['result'], 'title': '_WrappedResult', 'type': 'object', 'x-fastmcp-wrap-result': True}, annotations=None, meta={'_fastmcp': {'tags': []}})]"
      ]
     },
     "execution_count": 82,
     "metadata": {},
     "output_type": "execute_result"
    }
   ],
   "source": [
    "tools"
   ]
  },
  {
   "cell_type": "code",
   "execution_count": 83,
   "id": "81663c5f",
   "metadata": {},
   "outputs": [
    {
     "name": "stdout",
     "output_type": "stream",
     "text": [
      "get_formatted_context\n",
      "Get the top k context, each representing an job posting for a given query.\n",
      "\n",
      "Args:\n",
      "    query: The query to get the top k context for\n",
      "    top_k: The number of context chunks to retrieve, works best with 5 or more\n",
      "\n",
      "Returns:\n",
      "    A string of the top k context chunks with IDs prepending each chunk, each representing job posting for a given query.\n",
      "{'properties': {'query': {'title': 'Query', 'type': 'string'}, 'top_k': {'default': 5, 'title': 'Top K', 'type': 'integer'}}, 'required': ['query'], 'type': 'object'}\n"
     ]
    }
   ],
   "source": [
    "print(tools[0].name)\n",
    "print(tools[0].description)\n",
    "print(tools[0].inputSchema)"
   ]
  },
  {
   "cell_type": "code",
   "execution_count": 84,
   "id": "95bca0aa",
   "metadata": {},
   "outputs": [],
   "source": [
    "client = Client(\"http://localhost:8002/mcp\")\n",
    "\n",
    "async with client:\n",
    "    # List available resources\n",
    "    tools = await client.list_tools()"
   ]
  },
  {
   "cell_type": "code",
   "execution_count": 85,
   "id": "84fc3d3d",
   "metadata": {},
   "outputs": [
    {
     "name": "stdout",
     "output_type": "stream",
     "text": [
      "get_prediction\n",
      "Classifies if a given job posting is real or fake.\n",
      "Uses the top retrieved job posting from get_formatted_context as input\n",
      "and return the classification result.\n",
      "\n",
      "Args:\n",
      "    text: Input string of the job posting\n",
      "\n",
      "Returns:\n",
      "    A string of the classification label and prediction probability score.\n",
      "{'properties': {'text': {'title': 'Text', 'type': 'string'}}, 'required': ['text'], 'type': 'object'}\n"
     ]
    }
   ],
   "source": [
    "print(tools[0].name)\n",
    "print(tools[0].description)\n",
    "print(tools[0].inputSchema)"
   ]
  },
  {
   "cell_type": "markdown",
   "id": "b32fd16d",
   "metadata": {},
   "source": [
    "# Utils function - Extract tool definitions from all available tools in MCP serves"
   ]
  },
  {
   "cell_type": "code",
   "execution_count": 2,
   "id": "7fbdd973",
   "metadata": {},
   "outputs": [],
   "source": [
    "def parse_docstring_params(docstring: str) -> Dict[str, str]:\n",
    "    \"\"\"Extract parameter descriptions from docstring (handles both Args: and Parameters: formats).\"\"\"\n",
    "    params = {}\n",
    "    lines = docstring.split('\\n')\n",
    "    in_params = False\n",
    "    current_param = None\n",
    "    \n",
    "    for line in lines:\n",
    "        stripped = line.strip()\n",
    "        \n",
    "        # Check for parameter section start\n",
    "        if stripped in ['Args:', 'Arguments:', 'Parameters:', 'Params:']:\n",
    "            in_params = True\n",
    "            current_param = None\n",
    "        elif stripped.startswith('Returns:') or stripped.startswith('Raises:'):\n",
    "            in_params = False\n",
    "        elif in_params:\n",
    "            # Parse parameter line (handles \"param: desc\" and \"- param: desc\" formats)\n",
    "            if ':' in stripped and (stripped[0].isalpha() or stripped.startswith(('-', '*'))):\n",
    "                param_name = stripped.lstrip('- *').split(':')[0].strip()\n",
    "                param_desc = ':'.join(stripped.lstrip('- *').split(':')[1:]).strip()\n",
    "                params[param_name] = param_desc\n",
    "                current_param = param_name\n",
    "            elif current_param and stripped:\n",
    "                # Continuation of previous parameter description\n",
    "                params[current_param] += ' ' + stripped\n",
    "    \n",
    "    return params"
   ]
  },
  {
   "cell_type": "code",
   "execution_count": 11,
   "id": "6740d976",
   "metadata": {},
   "outputs": [],
   "source": [
    "async def get_tool_descriptions_from_mcp_servers(mcp_servers: list[str]) -> list[dict]:\n",
    "\n",
    "    tool_descriptions = []\n",
    "\n",
    "    for server in mcp_servers:\n",
    "\n",
    "        client = Client(server)\n",
    "\n",
    "        async with client:\n",
    "\n",
    "            tools = await client.list_tools()\n",
    "\n",
    "            for tool in tools:\n",
    "                \n",
    "                result = {\n",
    "                    \"name\": \"\",\n",
    "                    \"description\": \"\",\n",
    "                    \"parameters\": {\"type\": \"object\", \"properties\": {}},\n",
    "                    \"required\": [],\n",
    "                    \"returns\": {\"type\": \"object\", \"description\": \"\"},\n",
    "                    \"server\": server\n",
    "                }\n",
    "\n",
    "                result[\"name\"] = tool.name\n",
    "                result[\"required\"] = tool.inputSchema.get(\"required\", [])\n",
    "\n",
    "                ## Get Description\n",
    "\n",
    "                description = tool.description.split(\"\\n\\n\")[0]\n",
    "                result[\"description\"] = description\n",
    "\n",
    "\n",
    "                ## Get Returns\n",
    "\n",
    "                returns = tool.description.split(\"Returns:\")[1].strip()\n",
    "                result[\"returns\"][\"description\"] = returns\n",
    "\n",
    "                # if \"Returns:\" in tool.description:\n",
    "                #     returns = tool.description.split(\"Returns:\")[1].strip()\n",
    "                #     # Optionally, further clean or limit to first paragraph\n",
    "                #     returns = returns.split(\"\\n\\n\")[0]\n",
    "                #     result[\"returns\"][\"description\"] = returns\n",
    "                # else:\n",
    "                #     result[\"returns\"][\"description\"] = \"\"\n",
    "\n",
    "\n",
    "                ## Get parameters\n",
    "\n",
    "                property_descriptions = parse_docstring_params(tool.description)\n",
    "                properties = tool.inputSchema.get(\"properties\", {})\n",
    "                for key, value in properties.items():\n",
    "                    properties[key][\"description\"] = property_descriptions.get(key, \"\")\n",
    "\n",
    "                result[\"parameters\"][\"properties\"] = properties\n",
    "\n",
    "                tool_descriptions.append(result)\n",
    "\n",
    "    return tool_descriptions"
   ]
  },
  {
   "cell_type": "code",
   "execution_count": 3,
   "id": "735fae46",
   "metadata": {},
   "outputs": [],
   "source": [
    "mcp_servers = [\"http://localhost:8001/mcp\", \"http://localhost:8002/mcp\"]"
   ]
  },
  {
   "cell_type": "code",
   "execution_count": 15,
   "id": "dc3201c3",
   "metadata": {},
   "outputs": [
    {
     "data": {
      "text/plain": [
       "[{'name': 'get_formatted_context',\n",
       "  'description': 'Get the top k context, each representing an job posting for a given query.',\n",
       "  'parameters': {'type': 'object',\n",
       "   'properties': {'query': {'title': 'Query',\n",
       "     'type': 'string',\n",
       "     'description': 'The query to get the top k context for'},\n",
       "    'top_k': {'default': 5,\n",
       "     'title': 'Top K',\n",
       "     'type': 'integer',\n",
       "     'description': 'The number of context chunks to retrieve, works best with 5 or more'}}},\n",
       "  'required': ['query'],\n",
       "  'returns': {'type': 'object',\n",
       "   'description': 'A dictionary of the top k context chunks with IDs prepending each chunk, each representing job posting for a given query.'},\n",
       "  'server': 'http://localhost:8001/mcp'},\n",
       " {'name': 'get_prediction',\n",
       "  'description': 'Classifies if a given job posting is real or fake.\\nUses the top retrieved job posting from get_formatted_context as input\\nand return the classification result.',\n",
       "  'parameters': {'type': 'object',\n",
       "   'properties': {'text': {'title': 'Text',\n",
       "     'type': 'string',\n",
       "     'description': 'Input string of the job posting'}}},\n",
       "  'required': ['text'],\n",
       "  'returns': {'type': 'object',\n",
       "   'description': 'A dictionary of the classification label and prediction probability score.'},\n",
       "  'server': 'http://localhost:8002/mcp'}]"
      ]
     },
     "execution_count": 15,
     "metadata": {},
     "output_type": "execute_result"
    }
   ],
   "source": [
    "tool_descriptions = await get_tool_descriptions_from_mcp_servers(mcp_servers)\n",
    "tool_descriptions"
   ]
  },
  {
   "cell_type": "markdown",
   "id": "9ddc65b7",
   "metadata": {},
   "source": [
    "# Agent integration to MCP Servers"
   ]
  },
  {
   "cell_type": "code",
   "execution_count": 4,
   "id": "65d591c5",
   "metadata": {},
   "outputs": [],
   "source": [
    "def lc_messages_to_regular_messages(msg):\n",
    "\n",
    "    if isinstance(msg, dict):\n",
    "        \n",
    "        if msg.get(\"role\") == \"user\":\n",
    "            return {\"role\": \"user\", \"content\": msg[\"content\"]}\n",
    "        elif msg.get(\"role\") == \"assistant\":\n",
    "            return {\"role\": \"assistant\", \"content\": msg[\"content\"]}\n",
    "        elif msg.get(\"role\") == \"tool\":\n",
    "            return {\n",
    "                \"role\": \"tool\", \n",
    "                \"content\": msg[\"content\"], \n",
    "                \"tool_call_id\": msg.get(\"tool_call_id\")\n",
    "            }\n",
    "        \n",
    "    elif isinstance(msg, AIMessage):\n",
    "\n",
    "        result = {\n",
    "            \"role\": \"assistant\",\n",
    "            \"content\": msg.content\n",
    "        }\n",
    "        \n",
    "        if hasattr(msg, 'tool_calls') and msg.tool_calls and len(msg.tool_calls) > 0 and not msg.tool_calls[0].get(\"name\").startswith(\"functions.\"):\n",
    "            result[\"tool_calls\"] = [\n",
    "                {\n",
    "                    \"id\": tc[\"id\"],\n",
    "                    \"type\": \"function\",\n",
    "                    \"function\": {\n",
    "                        \"name\": tc[\"name\"].replace(\"functions.\", \"\"),\n",
    "                        \"arguments\": json.dumps(tc[\"args\"])\n",
    "                    }\n",
    "                }\n",
    "                for tc in msg.tool_calls\n",
    "            ]\n",
    "            \n",
    "        return result\n",
    "    \n",
    "    elif isinstance(msg, ToolMessage):\n",
    "\n",
    "        return {\"role\": \"tool\", \"content\": msg.content, \"tool_call_id\": msg.tool_call_id}\n",
    "    \n",
    "    else:\n",
    "\n",
    "        return {\"role\": \"user\", \"content\": str(msg)}"
   ]
  },
  {
   "cell_type": "code",
   "execution_count": 5,
   "id": "acf54c59",
   "metadata": {},
   "outputs": [],
   "source": [
    "# Pydantic Models\n",
    "\n",
    "class ToolCall(BaseModel):\n",
    "    name: str\n",
    "    arguments: dict\n",
    "    server: str\n",
    "\n",
    "class RAGUsedContext(BaseModel):\n",
    "    id: int\n",
    "    description: str\n",
    "\n",
    "class AgentResponse(BaseModel):\n",
    "    answer: str\n",
    "    tool_calls: List[ToolCall] = Field(default_factory=list)\n",
    "    final_answer: bool = Field(default=False)\n",
    "    retrieved_context_ids: List[RAGUsedContext]\n",
    "\n",
    "class State(BaseModel):\n",
    "    # existing fields...\n",
    "    messages: Annotated[List[Any], add] = []\n",
    "    answer: str = \"\"\n",
    "    iteration: int = Field(default=0)\n",
    "    final_answer: bool = Field(default=False)\n",
    "    available_tools: List[Dict[str, Any]] = []\n",
    "    tool_calls: Optional[List[ToolCall]] = Field(default_factory=list)\n",
    "    retrieved_context_ids: Annotated[List[RAGUsedContext], add] = []\n",
    "\n",
    "    # NEW fields for classifier integration\n",
    "    retrieved_job_posting: Optional[str] = None            # stores the retrieved job posting text\n",
    "    classification_result: Optional[Dict[str, Union[bool, float, str]]] = None  # store fraud classification result"
   ]
  },
  {
   "cell_type": "markdown",
   "id": "2671a4d9",
   "metadata": {},
   "source": [
    "Agent Node"
   ]
  },
  {
   "cell_type": "code",
   "execution_count": 6,
   "id": "c2d5d007",
   "metadata": {},
   "outputs": [],
   "source": [
    "# Example: you need a dict like this somewhere accessible\n",
    "tool_name_to_server = {\n",
    "    \"get_prediction\": \"http://localhost:8002/mcp\",\n",
    "    \"get_formatted_context\": \"http://localhost:8001/mcp\",\n",
    "    # add all your tools here\n",
    "}"
   ]
  },
  {
   "cell_type": "code",
   "execution_count": null,
   "id": "9ed2739e",
   "metadata": {},
   "outputs": [],
   "source": [
    "@traceable(\n",
    "    name=\"agent_node\",\n",
    "    run_type=\"llm\",\n",
    "    metadata={\"ls_provider\": \"openai\", \"ls_model_name\": \"gpt-4.1-mini\"}\n",
    ")\n",
    "def agent_node(state: State) -> dict:\n",
    "\n",
    "   prompt_template =  \"\"\"You are a Fraud Analyst Assistant. The user is a Fraud Analyst and your job is to determine whether a job posting is real or fraudulent. \n",
    "        Use your knowledge of common fraud indicators, best practices for job verification, and any relevant information you can retrieve to support your answer.\n",
    "        Always explain your reasoning and provide actionable advice. \n",
    "\n",
    "        User may provide either the full job posting text, job title, or a job ID. \n",
    "\n",
    "        If a job ID is provided, retrieve the corresponding job posting details before analysis.\n",
    "\n",
    "You will be given a question and a list of tools you can use to answer that question.\n",
    "\n",
    "If the user specifically requests classification on a job posting to tell if it is real or fake, \n",
    "you should first retrieve the posting using the `get_formatted_context` tool if you haven't already, \n",
    "then call the `get_prediction` to classify the top result from `get_formatted_context` tool.\n",
    "\n",
    "<Available tools>\n",
    "{{ available_tools | tojson }}\n",
    "</Available tools>\n",
    "\n",
    "When calling tools, always use:\n",
    "\n",
    "<tool_call>\n",
    "{\"name\": \"tool_name\", \"arguments\": {...}}\n",
    "</tool_call>\n",
    "\n",
    "Use names specifically provided in the available tools. Don't add any additional text to the names.\n",
    "\n",
    "You should tend to use tools when additional information is needed to answer the question.\n",
    "\n",
    "If you set final_answer to True, you should not use any tools.\n",
    "\n",
    "If you have already retrieved a job posting and need to assess if it's fraudulent, you should use the `get_prediction`.\n",
    "\n",
    "\n",
    "Instructions:\n",
    "   1. Carefully analyze the provided job details and user input above.\n",
    "   2. Use up-to-date information about job scams, legitimate job ad characteristics, and known fraud patterns.\n",
    "   3. Provide a clear verdict: \"Likely Real\", \"Likely Fraudulent\", or \"Uncertain\".\n",
    "   4. Explain your reasoning with specific evidence from the posting, user input, and retrieved information.\n",
    "   5. List any red flags or positive signs you identified.\n",
    "   6. Offer actionable advice to the user.\n",
    "\"\"\"\n",
    "\n",
    "   template = Template(prompt_template)\n",
    "   \n",
    "   prompt = template.render(\n",
    "      available_tools=state.available_tools\n",
    "   )\n",
    "\n",
    "   messages = state.messages\n",
    "\n",
    "   conversation = []   # Previous messages + tool messages\n",
    "\n",
    "   for msg in messages:\n",
    "      conversation.append(lc_messages_to_regular_messages(msg))\n",
    "\n",
    "   client = instructor.from_openai(OpenAI())\n",
    "\n",
    "   response, raw_response = client.chat.completions.create_with_completion(\n",
    "        model=\"gpt-4.1-mini\",\n",
    "        response_model=AgentResponse,\n",
    "        messages=[{\"role\": \"system\", \"content\": prompt}, *conversation],\n",
    "        temperature=0.5,\n",
    "   )\n",
    "\n",
    "   print(\"[DEBUG] raw LLM response:\", raw_response)  # <-- Inspect here\n",
    "\n",
    "    # Enrich tool calls with the 'server' field\n",
    "   enriched_tool_calls = []\n",
    "   for tc in response.tool_calls:\n",
    "      server_url = tool_name_to_server.get(tc.name)\n",
    "      if server_url is None:\n",
    "         raise ValueError(f\"No server URL configured for tool '{tc.name}'\")\n",
    "      # args = tc.arguments\n",
    "      # if isinstance(args, str):\n",
    "      #    args = json.loads(args)\n",
    "      enriched_tool_calls.append(\n",
    "         ToolCall(name=tc.name, arguments=tc.arguments, server=server_url)\n",
    "      )\n",
    "\n",
    "   for tc in response.tool_calls:\n",
    "    if not isinstance(tc.arguments, dict):\n",
    "        print(f\"[ERROR] tool_call arguments is not a dict: {tc.arguments} (type={type(tc.arguments)})\")\n",
    "\n",
    "\n",
    "   # if response.tool_calls:\n",
    "   #    tool_calls = []\n",
    "   #    for i, tc in enumerate(response.tool_calls):\n",
    "   #       tool_calls.append({\n",
    "   #             \"id\": f\"call_{i}\",\n",
    "   #             \"name\": tc.name,\n",
    "   #             \"args\": tc.arguments\n",
    "   #       })\n",
    "\n",
    "   #    ai_message = AIMessage(\n",
    "   #       content=response.answer,\n",
    "   #       tool_calls=tool_calls\n",
    "   #       )\n",
    "   # else:\n",
    "   #    ai_message = AIMessage(\n",
    "   #       content=response.answer,\n",
    "   #    )\n",
    "   # Prepare tool calls for AIMessage\n",
    "   print(\"Raw tool calls:\", response.tool_calls)\n",
    "   print(\"Arguments types:\", [type(tc.arguments) for tc in response.tool_calls])\n",
    "   ai_message_tool_calls = []\n",
    "   for i, tc in enumerate(enriched_tool_calls):\n",
    "      ai_message_tool_calls.append({\n",
    "         \"id\": f\"call_{i}\",\n",
    "         \"name\": tc.name,\n",
    "         \"args\": tc.arguments\n",
    "      })\n",
    "\n",
    "   if enriched_tool_calls:\n",
    "      ai_message = AIMessage(\n",
    "         content=response.answer,\n",
    "         tool_calls=ai_message_tool_calls\n",
    "      )\n",
    "   else:\n",
    "      ai_message = AIMessage(\n",
    "         content=response.answer,\n",
    "      )\n",
    "\n",
    "   print(\"[DEBUG] tool_calls so far:\",  enriched_tool_calls)\n",
    "\n",
    "   return {\n",
    "      \"messages\": [ai_message],\n",
    "      \"tool_calls\": enriched_tool_calls,\n",
    "      \"iteration\": state.iteration + 1,\n",
    "      \"answer\": response.answer,\n",
    "      \"final_answer\": response.final_answer,\n",
    "      \"retrieved_context_ids\": response.retrieved_context_ids\n",
    "   }"
   ]
  },
  {
   "cell_type": "code",
   "execution_count": 8,
   "id": "e25d46e3",
   "metadata": {},
   "outputs": [],
   "source": [
    "def tool_router(state: State) -> str:\n",
    "    \"\"\"Decide whether to continue or end\"\"\"\n",
    "    print(\"[DEBUG] State:\", state)\n",
    "    if state.final_answer:\n",
    "        return \"end\"\n",
    "    elif state.iteration > 2:\n",
    "        return \"end\"\n",
    "    elif len(state.tool_calls) > 0:\n",
    "        return \"tools\"\n",
    "    else:\n",
    "        return \"end\""
   ]
  },
  {
   "cell_type": "markdown",
   "id": "a7e0fb65",
   "metadata": {},
   "source": [
    "Custom tool node function that supports running tools exposed via MCP Serves"
   ]
  },
  {
   "cell_type": "code",
   "execution_count": null,
   "id": "a4246c43",
   "metadata": {},
   "outputs": [],
   "source": [
    "# async def mcp_tool_node(state: State):\n",
    "\n",
    "#     tool_messages = []\n",
    "\n",
    "#     for i, tc in enumerate(state.tool_calls):\n",
    "\n",
    "#         client = Client(tc.server)\n",
    "\n",
    "#         async with client:\n",
    "\n",
    "#             result = await client.call_tool(tc.name, tc.arguments)\n",
    "#             json_text = result.content[0].text  # assuming content is a list with one TextContent\n",
    "#             # print(result)\n",
    "#             # Parse JSON string back into dict\n",
    "#             parsed_result = json.loads(json_text)\n",
    "\n",
    "#             tool_message = ToolMessage(\n",
    "#                 content=result,\n",
    "#                 tool_call_id=f\"call_{i}\"\n",
    "#             )\n",
    "\n",
    "#             tool_messages.append(tool_message)\n",
    "\n",
    "#     return {\n",
    "#         \"messages\": tool_messages\n",
    "#     }\n",
    "\n",
    "\n",
    "async def mcp_tool_node(state: State) -> dict:\n",
    "    tool_messages = []\n",
    "\n",
    "    for i, tc in enumerate(state.tool_calls):\n",
    "        client = Client(tc.server)\n",
    "        async with client:\n",
    "            result = await client.call_tool(tc.name, tc.arguments)\n",
    "            # Parse the JSON text content\n",
    "            json_text = result.content[0].text\n",
    "            parsed = json.loads(json_text)\n",
    "            \n",
    "            # Here you can update state fields as needed,\n",
    "            # for example, save job postings when calling get_formatted_context\n",
    "            if tc.name == \"get_formatted_context\":\n",
    "                state.retrieved_job_posting = parsed.get(\"retrieved_job_posting\")\n",
    "                # state.retrieved_context_ids = [RAGUsedContext(id=i, description=\"\") for i in parsed.get(\"retrieved_context_ids\", [])]\n",
    "            \n",
    "            tool_message = ToolMessage(content=json_text, tool_call_id=f\"call_{i}\")\n",
    "            tool_messages.append(tool_message)\n",
    "\n",
    "    return {\"messages\": tool_messages, \n",
    "            \"retrieved_job_posting\": state.retrieved_job_posting, \n",
    "            # \"retrieved_context_ids\": state.retrieved_context_ids\n",
    "            }\n"
   ]
  },
  {
   "cell_type": "markdown",
   "id": "686f90ad",
   "metadata": {},
   "source": [
    "LangGraph implementation with MCP Support"
   ]
  },
  {
   "cell_type": "code",
   "execution_count": 19,
   "id": "80c30c3c",
   "metadata": {},
   "outputs": [],
   "source": [
    "workflow = StateGraph(State)\n",
    "\n",
    "mcp_servers = [\"http://localhost:8001/mcp\", \"http://localhost:8002/mcp\"]\n",
    "\n",
    "tool_descriptions = await get_tool_descriptions_from_mcp_servers(mcp_servers)\n",
    "\n",
    "workflow.add_node(\"agent_node\", agent_node)\n",
    "workflow.add_node(\"mcp_tool_node\", mcp_tool_node)\n",
    "\n",
    "workflow.add_edge(START, \"agent_node\")\n",
    "\n",
    "workflow.add_conditional_edges(\n",
    "    \"agent_node\",\n",
    "    tool_router,\n",
    "    {\n",
    "        \"tools\": \"mcp_tool_node\",\n",
    "        \"end\": END\n",
    "    }\n",
    ")\n",
    "\n",
    "workflow.add_edge(\"mcp_tool_node\", \"agent_node\")\n",
    "\n",
    "graph = workflow.compile()"
   ]
  },
  {
   "cell_type": "code",
   "execution_count": 72,
   "id": "749cc6ca",
   "metadata": {},
   "outputs": [
    {
     "data": {
      "image/png": "[encoded data removed]",
      "text/plain": [
       "<IPython.core.display.Image object>"
      ]
     },
     "metadata": {},
     "output_type": "display_data"
    }
   ],
   "source": [
    "display(Image(graph.get_graph().draw_mermaid_png()))"
   ]
  },
  {
   "cell_type": "code",
   "execution_count": 23,
   "id": "08f3708d",
   "metadata": {},
   "outputs": [
    {
     "data": {
      "text/plain": [
       "[{'name': 'get_formatted_context',\n",
       "  'description': 'Get the top k context, each representing an job posting for a given query.',\n",
       "  'parameters': {'type': 'object',\n",
       "   'properties': {'query': {'title': 'Query',\n",
       "     'type': 'string',\n",
       "     'description': 'The query to get the top k context for'},\n",
       "    'top_k': {'default': 5,\n",
       "     'title': 'Top K',\n",
       "     'type': 'integer',\n",
       "     'description': 'The number of context chunks to retrieve, works best with 5 or more'}}},\n",
       "  'required': ['query'],\n",
       "  'returns': {'type': 'object',\n",
       "   'description': 'A dictionary of the top k context chunks with IDs prepending each chunk, each representing job posting for a given query.'},\n",
       "  'server': 'http://localhost:8001/mcp'},\n",
       " {'name': 'get_prediction',\n",
       "  'description': 'Classifies if a given job posting is real or fake.\\nUses the top retrieved job posting from get_formatted_context as input\\nand return the classification result.',\n",
       "  'parameters': {'type': 'object',\n",
       "   'properties': {'text': {'title': 'Text',\n",
       "     'type': 'string',\n",
       "     'description': 'Input string of the job posting'}}},\n",
       "  'required': ['text'],\n",
       "  'returns': {'type': 'object',\n",
       "   'description': 'A dictionary of the classification label and prediction probability score.'},\n",
       "  'server': 'http://localhost:8002/mcp'}]"
      ]
     },
     "execution_count": 23,
     "metadata": {},
     "output_type": "execute_result"
    }
   ],
   "source": [
    "tool_descriptions"
   ]
  },
  {
   "cell_type": "code",
   "execution_count": null,
   "id": "4f18129e",
   "metadata": {},
   "outputs": [
    {
     "name": "stdout",
     "output_type": "stream",
     "text": [
      "[DEBUG] raw LLM response: ChatCompletion(id='chatcmpl-C0nyE2E6Rms0j0FHv08Xbau8W6mgU', choices=[Choice(finish_reason='stop', index=0, logprobs=None, message=ChatCompletionMessage(content=None, refusal=None, role='assistant', annotations=[], audio=None, function_call=None, tool_calls=[ChatCompletionMessageToolCall(id='call_MnYQt8UWlPR55Vn0sv9gdrLf', function=Function(arguments='{\"answer\":\"I will first retrieve the job posting details for job_id 10397 to analyze and classify if it is real or fraudulent.\",\"tool_calls\":[{\"name\":\"get_formatted_context\",\"arguments\":{\"query\":\"10397\"},\"server\":\"http://localhost:8001/mcp\"}],\"retrieved_context_ids\":[],\"final_answer\":false}', name='AgentResponse'), type='function')]))], created=1754308122, model='gpt-4.1-mini-2025-04-14', object='chat.completion', service_tier='default', system_fingerprint='fp_658b958c37', usage=CompletionUsage(completion_tokens=132, prompt_tokens=1898, total_tokens=2030, completion_tokens_details=CompletionTokensDetails(accepted_prediction_tokens=None, audio_tokens=0, reasoning_tokens=0, rejected_prediction_tokens=None), prompt_tokens_details=PromptTokensDetails(audio_tokens=0, cached_tokens=0)))\n",
      "Raw tool calls: [ToolCall(name='get_formatted_context', arguments={'query': '10397'}, server='http://localhost:8001/mcp')]\n",
      "Arguments types: [<class 'dict'>]\n",
      "[DEBUG] tool_calls so far: [ToolCall(name='get_formatted_context', arguments={'query': '10397'}, server='http://localhost:8001/mcp')]\n",
      "[DEBUG] State: messages=[{'role': 'user', 'content': 'Tell me if the following job postings with job_id 10397 is real or not. Use fraud classification model on the posting if available.'}, AIMessage(content='I will first retrieve the job posting details for job_id 10397 to analyze and classify if it is real or fraudulent.', additional_kwargs={}, response_metadata={}, tool_calls=[{'name': 'get_formatted_context', 'args': {'query': '10397'}, 'id': 'call_0', 'type': 'tool_call'}])] answer='I will first retrieve the job posting details for job_id 10397 to analyze and classify if it is real or fraudulent.' iteration=1 final_answer=False available_tools=[{'name': 'get_formatted_context', 'description': 'Get the top k context, each representing an job posting for a given query.', 'parameters': {'type': 'object', 'properties': {'query': {'title': 'Query', 'type': 'string', 'description': 'The query to get the top k context for'}, 'top_k': {'default': 5, 'title': 'Top K', 'type': 'integer', 'description': 'The number of context chunks to retrieve, works best with 5 or more'}}}, 'required': ['query'], 'returns': {'type': 'object', 'description': 'A dictionary of the top k context chunks with IDs prepending each chunk, each representing job posting for a given query.'}, 'server': 'http://localhost:8001/mcp'}, {'name': 'get_prediction', 'description': 'Classifies if a given job posting is real or fake.\\nUses the top retrieved job posting from get_formatted_context as input\\nand return the classification result.', 'parameters': {'type': 'object', 'properties': {'text': {'title': 'Text', 'type': 'string', 'description': 'Input string of the job posting'}}}, 'required': ['text'], 'returns': {'type': 'object', 'description': 'A dictionary of the classification label and prediction probability score.'}, 'server': 'http://localhost:8002/mcp'}] tool_calls=[ToolCall(name='get_formatted_context', arguments={'query': '10397'}, server='http://localhost:8001/mcp')] retrieved_context_ids=[] retrieved_job_posting=None classification_result=None\n",
      "[DEBUG] raw LLM response: ChatCompletion(id='chatcmpl-C0nyORpBilKOnB6lry34oLN4sWg62', choices=[Choice(finish_reason='stop', index=0, logprobs=None, message=ChatCompletionMessage(content=None, refusal=None, role='assistant', annotations=[], audio=None, function_call=None, tool_calls=[ChatCompletionMessageToolCall(id='call_zGEzmnlS2k7MaAlPza9KOI36', function=Function(arguments='{\"answer\":\"I have retrieved the job posting details for job_id 10397. It is for a Director of Software Engineering position at a technology company headquartered in San Mateo, CA, focused on video advertising platforms. The posting includes detailed responsibilities, requirements, and company background.\\\\n\\\\nNext, I will run the fraud classification model on this job posting text to determine if it is real or fraudulent.\",\"tool_calls\":[{\"name\":\"get_prediction\",\"server\":\"http://localhost:8002/mcp\",\"arguments\":{\"text\":\"Director of Software Engineering Company: #URL_ddb080358fa5eecf5a67c649cfb4ffc343c484389f1bbaf2a1cb071e3f2b6e7e# and Aptitude Staffing Solutions have partnered up in an effort to streamline the hiring process and provide a more efficient and effective recruitng model.  Our focus is to help develop and achieve your career goals while makeing\\\\n    Job Id: 10397\\\\n    Description: As Director of Software Engineering\\'s newly forming New York development team, you will be a “player-coach” who will contribute to and drive high-level architecture and planning, manage day-to-day issues, as well as roll up your sleeves and code when necessary. Responsibilities: Inspire, mentor and lead our superb 30+ person engineering team using your experience and deep understanding of both leading-edge technologies and of motivation and leadership;Drive the aggressive growth and organization of Software Engineering as we double in size again over the next year;Contribute new technical insights and help decide design directions, while preserving the core cultural values that define #URL_ddb080358fa5eecf5a67c649cfb4ffc343c484389f1bbaf2a1cb071e3f2b6e7e# Engineering today, including: high level of personal performance; mutual trust; taking personal responsibility; flat & informal organization; integrity; and a mutually supportive environment.\\\\n    Requirements:  Requirements: At least 10+ years in software development and increasing team management responsibilitiesStrong technical skills, including object-oriented design skills, familiarity with developing sophisticated and scalable web services infrastructures, high-performance backend platformsBS or MS in CS or Engineering desirableExcellent hands-on experience in C/C++ or JavaStrong familiarity with Linux, MySQL, and modern big data management approaches is very useful.With headquarters in San Mateo, CA and offices around the world, is one of the leading technology companies in the high-growth video advertising industry. Comscore consistently ranks #URL_ddb080358fa5eecf5a67c649cfb4ffc343c484389f1bbaf2a1cb071e3f2b6e7e# (along with YouTube and Hulu) as one of the top 3 video ad platforms. We are experiencing explosive demand for our platform and services, and this is driving our aggressive growth in all parts of the company. We have doubled in size in the past year, and our growth has created a new opportunity for an aggressive, hands-on and visionary software leader who can help us grow even faster.   \\\\n    Location: US, CA, San Mateo\\\\n    Telecommuting: No\\\\n    \"}}],\"retrieved_context_ids\":[{\"id\":10397,\"description\":\"Director of Software Engineering job posting\"}],\"final_answer\":false}', name='AgentResponse'), type='function')]))], created=1754308132, model='gpt-4.1-mini-2025-04-14', object='chat.completion', service_tier='default', system_fingerprint='fp_658b958c37', usage=CompletionUsage(completion_tokens=1472, prompt_tokens=15103, total_tokens=16575, completion_tokens_details=CompletionTokensDetails(accepted_prediction_tokens=None, audio_tokens=0, reasoning_tokens=0, rejected_prediction_tokens=None), prompt_tokens_details=PromptTokensDetails(audio_tokens=0, cached_tokens=10112)))\n",
      "Raw tool calls: [ToolCall(name='get_prediction', arguments={'text': \"Director of Software Engineering Company: #URL_ddb080358fa5eecf5a67c649cfb4ffc343c484389f1bbaf2a1cb071e3f2b6e7e# and Aptitude Staffing Solutions have partnered up in an effort to streamline the hiring process and provide a more efficient and effective recruitng model.  Our focus is to help develop and achieve your career goals while makeing\\n    Job Id: 10397\\n    Description: As Director of Software Engineering's newly forming New York development team, you will be a “player-coach” who will contribute to and drive high-level architecture and planning, manage day-to-day issues, as well as roll up your sleeves and code when necessary. Responsibilities: Inspire, mentor and lead our superb 30+ person engineering team using your experience and deep understanding of both leading-edge technologies and of motivation and leadership;Drive the aggressive growth and organization of Software Engineering as we double in size again over the next year;Contribute new technical insights and help decide design directions, while preserving the core cultural values that define #URL_ddb080358fa5eecf5a67c649cfb4ffc343c484389f1bbaf2a1cb071e3f2b6e7e# Engineering today, including: high level of personal performance; mutual trust; taking personal responsibility; flat & informal organization; integrity; and a mutually supportive environment.\\n    Requirements:  Requirements: At least 10+ years in software development and increasing team management responsibilitiesStrong technical skills, including object-oriented design skills, familiarity with developing sophisticated and scalable web services infrastructures, high-performance backend platformsBS or MS in CS or Engineering desirableExcellent hands-on experience in C/C++ or JavaStrong familiarity with Linux, MySQL, and modern big data management approaches is very useful.With headquarters in San Mateo, CA and offices around the world, is one of the leading technology companies in the high-growth video advertising industry. Comscore consistently ranks #URL_ddb080358fa5eecf5a67c649cfb4ffc343c484389f1bbaf2a1cb071e3f2b6e7e# (along with YouTube and Hulu) as one of the top 3 video ad platforms. We are experiencing explosive demand for our platform and services, and this is driving our aggressive growth in all parts of the company. We have doubled in size in the past year, and our growth has created a new opportunity for an aggressive, hands-on and visionary software leader who can help us grow even faster.   \\n    Location: US, CA, San Mateo\\n    Telecommuting: No\\n    \"}, server='http://localhost:8002/mcp')]\n",
      "Arguments types: [<class 'dict'>]\n",
      "[DEBUG] tool_calls so far: [ToolCall(name='get_prediction', arguments={'text': \"Director of Software Engineering Company: #URL_ddb080358fa5eecf5a67c649cfb4ffc343c484389f1bbaf2a1cb071e3f2b6e7e# and Aptitude Staffing Solutions have partnered up in an effort to streamline the hiring process and provide a more efficient and effective recruitng model.  Our focus is to help develop and achieve your career goals while makeing\\n    Job Id: 10397\\n    Description: As Director of Software Engineering's newly forming New York development team, you will be a “player-coach” who will contribute to and drive high-level architecture and planning, manage day-to-day issues, as well as roll up your sleeves and code when necessary. Responsibilities: Inspire, mentor and lead our superb 30+ person engineering team using your experience and deep understanding of both leading-edge technologies and of motivation and leadership;Drive the aggressive growth and organization of Software Engineering as we double in size again over the next year;Contribute new technical insights and help decide design directions, while preserving the core cultural values that define #URL_ddb080358fa5eecf5a67c649cfb4ffc343c484389f1bbaf2a1cb071e3f2b6e7e# Engineering today, including: high level of personal performance; mutual trust; taking personal responsibility; flat & informal organization; integrity; and a mutually supportive environment.\\n    Requirements:  Requirements: At least 10+ years in software development and increasing team management responsibilitiesStrong technical skills, including object-oriented design skills, familiarity with developing sophisticated and scalable web services infrastructures, high-performance backend platformsBS or MS in CS or Engineering desirableExcellent hands-on experience in C/C++ or JavaStrong familiarity with Linux, MySQL, and modern big data management approaches is very useful.With headquarters in San Mateo, CA and offices around the world, is one of the leading technology companies in the high-growth video advertising industry. Comscore consistently ranks #URL_ddb080358fa5eecf5a67c649cfb4ffc343c484389f1bbaf2a1cb071e3f2b6e7e# (along with YouTube and Hulu) as one of the top 3 video ad platforms. We are experiencing explosive demand for our platform and services, and this is driving our aggressive growth in all parts of the company. We have doubled in size in the past year, and our growth has created a new opportunity for an aggressive, hands-on and visionary software leader who can help us grow even faster.   \\n    Location: US, CA, San Mateo\\n    Telecommuting: No\\n    \"}, server='http://localhost:8002/mcp')]\n",
      "[DEBUG] State: messages=[{'role': 'user', 'content': 'Tell me if the following job postings with job_id 10397 is real or not. Use fraud classification model on the posting if available.'}, AIMessage(content='I will first retrieve the job posting details for job_id 10397 to analyze and classify if it is real or fraudulent.', additional_kwargs={}, response_metadata={}, tool_calls=[{'name': 'get_formatted_context', 'args': {'query': '10397'}, 'id': 'call_0', 'type': 'tool_call'}]), ToolMessage(content='{\"retrieved_context_ids\":[10397,12117,13300,11278,16661],\"retrieved_context\":[\"Director of Software Engineering Company: #URL_ddb080358fa5eecf5a67c649cfb4ffc343c484389f1bbaf2a1cb071e3f2b6e7e# and Aptitude Staffing Solutions have partnered up in an effort to streamline the hiring process and provide a more efficient and effective recruitng model.\\xa0 Our focus is to help develop and achieve your career goals while makeing\\\\n    Job Id: 10397\\\\n    Description: As Director of Software Engineering\\'s newly forming New York development team, you will be a “player-coach” who will contribute to and drive high-level architecture and planning, manage day-to-day issues, as well as roll up your sleeves and code when necessary. Responsibilities:\\xa0Inspire, mentor and lead our superb 30+ person engineering team using your experience and deep understanding of both leading-edge technologies and of motivation and leadership;Drive the aggressive growth and organization of Software Engineering as we double in size again over the next year;Contribute new technical insights and help decide design directions, while preserving the core cultural values that define #URL_ddb080358fa5eecf5a67c649cfb4ffc343c484389f1bbaf2a1cb071e3f2b6e7e# Engineering today, including: high level of personal performance; mutual trust; taking personal responsibility; flat &amp; informal organization; integrity; and a mutually supportive environment.\\\\n    Requirements:  Requirements:\\xa0At least 10+ years in software development and increasing team management responsibilitiesStrong technical skills, including object-oriented design skills, familiarity with developing sophisticated and scalable web services infrastructures, high-performance backend platformsBS or MS in CS or Engineering desirableExcellent hands-on experience in C/C++ or JavaStrong familiarity with Linux, MySQL, and modern big data management approaches is very useful.With headquarters in San Mateo, CA and offices around the world, is one of the leading technology companies in the high-growth video advertising industry. Comscore consistently ranks #URL_ddb080358fa5eecf5a67c649cfb4ffc343c484389f1bbaf2a1cb071e3f2b6e7e# (along with YouTube and Hulu) as one of the top 3 video ad platforms. We are experiencing explosive demand for our platform and services, and this is driving our aggressive growth in all parts of the company. We have doubled in size in the past year, and our growth has created a new opportunity for an aggressive, hands-on and visionary software leader who can help us grow even faster.\\xa0\\xa0\\xa0\\\\n    Location: US, CA, San Mateo\\\\n    Telecommuting: No\\\\n    \",\"Mortgage Processor - Transaction Coordinator - Loan Assistant Company: Carlyle Financial is a mortgage bank based in Beverly Hills, CA offering a full range of home loan products. We concentrate on providing a high level of personal service with an emphasis on developing long-term relationships with our clients rather than treating them simply as a single transaction. \\\\n    Job Id: 12117\\\\n    Description: Beverly Hills mortgage banking firm is seeking an experienced Loan Processor - Transaction Coordinator to support our top producing mortgage bankers. This individual must have extensive knowledge of the mortgage process to handle a wide variety of loan files, and the organizational skills to manage a busy pipeline.This individual will act as a key point of contact for the borrower, your team members and all other parties involved in the loan process. You must possess a strong sense of ownership over your files as you are responsible for tracking closing dates, contingency dates, lock expirations, appraisal and title orders, etc. You need to provide exceptional client service by handling requests in a friendly and efficient manner.Key functions include:Support mortgage banker as a liaison between client, operations staff and third parties such as realtors and escrow.Prioritize tasks based on team needs and file deadlines.Request and organize client documentation needed for loan submission and loan closing.Assure that all client files are complete and in compliance with regulatory agencies and internal policies.Provide client with periodic status updates of their loan application.Maintain and update client files and loan officer databases with records and information needed for recurring internal reports.We place a heavy emphasis on technology, including Internet and cloud-based applications, online collaboration and electronic documentation. It is vital that you are comfortable with these items and are able to build your technical knowledge quickly.ABOUT CARLYLE FINANCIALCarlyle Financial is a mortgage bank based in Beverly Hills, offering a full range of home loan products. We concentrate on providing a high level of personal service with an emphasis on developing long-term relationships with our clients rather than treating them simply as a single transaction. As a mortgage bank and direct lender, we control all aspects of the home loan process, from origination to funding. This means that we operate more efficiently and have less paperwork than our competitors, and close most home loans in fewer than 30 days, which translates to superior service and pricing for our clients.We are a fast-paced, tech-focused company. We are looking for intelligent individuals with a strong work ethic as we are rapidly expanding into new regional markets. You may view our TV commercial on our website at #URL_e588d91d9443c2f8287616b7660307687a8128016f1622dc1964e1ed23f073bf#**All candidates will be subject to a background check and asked to provide references**Carlyle Financial is an Equal Opportunity Employer.Please no phone calls.\\\\n    Requirements: Minimum of 5 years of mortgage experience in the role of processing or assisting loan production \\xa0 \\xa0NMLS Endorsement requiredMust be able to provide 3 professional references and proof of funded pipeline reportWorking knowledge of loan origination software (Encompass, Point, etc) and Automated Underwriting Systems (Desktop Underwriting and Loan Prospector)Working knowledge of basic office equipment such as multi-line phones and printer/scannerFamiliarity with the Microsoft Office suite of products as well as Google AppsWe maintain a professional work environment and dress code. This position will be based primarily in our Beverly Hills office with regular business hours of 9:00 a.m. to 6:00 p.m.\\\\n    Location: US\\\\n    Telecommuting: No\\\\n    \",\"Senior Ruby on Rails Engineer Company: The RealReal is changing the way people buy and sell luxury items. The leader in luxury resale, the company is a full service retailer offering customers authenticated, pre-owned, designer brands including Chanel, Hermes, Louis Vuitton , Gucci and Cartier, all at up to 90% off original retail. The R\\\\n    Job Id: 13300\\\\n    Description: As a Senior Ruby on Rails Engineer at The RealReal you\\'ll be a major contributor to TheRealReal\\'s e-commerce front end, backend systems, and APIs. You\\'ll build APIs to support our mobile applications and admin tools, and work on underlying model layer that powers those APIs. The person in this role will own critical systems throughout the platform and be responsible for their performance, adding new, valuable features, and ensuring that these systems perform correctly.  This position will be based out of The RealReal\\'s San Francisco office.Responsibilities:  • Develop new features throughout the TheRealReal platform, and maintain and enhance existing behavior. • Help define and implement the system\\'s APIs, to support our suite of mobile applications. • Take ownership of key components, ensuring that they meet the needs of the business • Collaborate with senior management, product management, and other engineers in the development of product requirements for the company\\'s software. • Mentor other team members to build the company\\'s overall expertise in software development. • Work to make TheRealReal an innovator in the space by bringing passion and new ideas to work every day. Reports to: VP of Engineering\\\\n    Requirements: • A degree in computer science/engineering with a minimum of 5 years of software development with Ruby on Rails • Fluency in the Ruby language, including familiarity with the language\\'s meta programming features.• Experience writing applications using Test Driven Development with RSpec. • Experience building real-world Rails applications, with Rails version 3.0.x or later. Candidate should be very familiar with Rails conventions for code organization, deployment, etc. Experience with more recent Rails features (e.g. asset pipeline) is a plus. • A belief that automated testing is essential to building robust, supportable software and a commitment to making automated testing part of the application development process.  • Familiarity with how asynchronous message queues and worker frameworks (e.g. Sidekiq, Resque) are used in web applications and, ideally, experience in using such a framework in one or more real world applications. • High degree of familiarity with SQL databases, including data modeling in SQL, the use of indices to improve query performance, and the use of transactions to maintain data integrity. • Practical experience with REST and JSON APIs, and an understanding of how to build applications that serve and consume these sorts of APIs.  • Expertise in working with cloud systems, specifically for application hosting, file storage, and other related concerns. • Experience integrating with 3rd party services, including social applications (e.g. Facebook, Twitter), communication services (e.g. Twilio, Sendgrid, APNS) • Knowledge of best practices in designing and architecting localized Rails applications. • Experience with one or more NoSQL databases. • Comfortable working in an environment where innovation and change are the norm. • A passion for building great products.\\\\n    Location: US, CA, San Francisco\\\\n    Telecommuting: No\\\\n    \",\"Commercial Real Estate Salesperson - NJ Company: With over 1,300 investment professionals located throughout the United States and Canada, Marcus &amp; Millichap (NYSE: MMI) is a\\xa0 leading specialist in commercial real estate investment sales, financing, research and advisory services. Founded in 1971, the firm closed over 6,600\\xa0 transactions in 20\\\\n    Job Id: 11278\\\\n    Description: Marcus &amp; Millichap (NYSE: MMI) is the largest firm specializing in commercial real estate investment sales, financing, research and advisory services, with over 70 offices across the United States and Canada. Founded in 1971, the firm closed over 6,600\\xa0transactions in 2013 with a value of approximately $24 billion. Our services are customized and personalized to meet the diverse needs of private investors, professionals and institutions. As leaders in commercial brokerage, we continue to recruit talented individuals to join our Investment Sales division across multiple product types: Multifamily, Retail, Net-Leased, Office, Industrial, etc. Click Here to learn more about our platform from our President and CEO John Kerin.The New Jersey office, located on River Drive in Elmwood Park, is undergoing an expansion and we are seeking a limited number of aggressive, ambitious and capable sales professionals to join our real estate Investment Sales team.The Basic IdeaWe aren\\'t your typical company. We are a company founded by brokers, run by brokers and led by brokers. Even our CEO was a Marcus &amp; Millichap broker. We know what works and teach that in our training.Why join us?Our unique training, business model and culture have made Marcus &amp; Millichap and its subsidiaries the national leader in commercial real estate brokerage over the last 40+ years.We hear this from our senior managers, “In the 10 years I have been with the company, I have never seen a person execute our program, the right way, and not be successful. So…. What do we think “successful” means? Our proven business plan is designed to achieve a six-figure income within two years and $1 million net worth within five years.Why else?We have the best tools in the industry and are always improving ways for our broker/agents to do more deals, faster. We\\'re growing like crazy, and looking for smart, forward-thinking, results-oriented doers to join us.What You Should Expect to Get When You JoinTraining – Our nationally recognized training program prepares newer team members for their future. For experienced professionals, our program enhances your existing skills. Additionally, our mentoring and teaming helps you do more deals each year. This is one of the reasons we do more transactions than our nearest two competitors, combined.Marcus &amp; Millichap\\'s Training Program is regularly acknowledged as the best in the Industry. It is extremely thorough and covers real estate and sales, with lots of discussion, role playing and analysis. Online work, reading and training classes are augmented by one-on-one mentorship from experienced successful brokers. This continues with our development program, designed to move your career forward as quickly as possible. Click Here to learn more about Marcus &amp; Millichap\\'s training program from Executive Vice President, Gene Berman.Opportunity to Earn - Our proven business plan is designed to achieve a six-figure income within two years and $1 million net worth within five years.Growth – Many of our regional managers, VPs and directors began with Marcus &amp; Millichap as brokers. If you are searching for a long-term career, you should consider us.\\\\n    Requirements: Bachelor\\'s or Associate Degree\\xa0Excellent Oral &amp; Written skillsEntrepreneurial DriveInterpersonal Skills: Ability to make and keep\\xa0relationships in the market.\\xa0Strong Computer SkillsTrack Record of Success: Sports, personal achievements, or leadership roles.New Jersey Salespersons License (not required for initial interview)\\\\n    Location: US, NJ, Elmwood Park\\\\n    Telecommuting: No\\\\n    \",\"Ruby on Rails/HTML/Java Developer  Company: Not Available\\\\n    Job Id: 16661\\\\n    Description: Ruby on Rails Web Engineer (RoR)Now Hiring\\xa0Ruby on Rails Web Engineer\\xa0for one of our client in\\xa0Long Beach, CAJob Role :\\xa0Ruby on Rails DeveloperJob Function :\\xa0Web DeveloperJob Industry :\\xa0Financial ServicesJob Type :\\xa0Full-TimeJob Level :\\xa0Mid - SeniorJob Location :\\xa0Long Beach, CASkills and Experience Required/PreferredDesired Skills &amp; ExperienceObject-oriented background5+ yearsexperience with full lifecycle software development5+ yearsexperience with validatingHTML2+ yearsexperience with Ruby on Rails5+ yearsexperience with CSSExperience with Red-Green-Refactor development (TDD)Knowledge on PostgresSQL and T-SQLExperience with any of the NoSQL variant, preferably RedisPreferred Skills:Development for a high-traffic, mission-critical websiteWorking knowledge of SEOResponsive web and mobile web developmentThe Compensation:Best in IndustryNote:\\xa0For U.S. Citizens / Green Card / EAD / Visa Candidates Only.Interested professionals please apply for the job with your updated resume.\\\\n    Requirements: Not Available\\\\n    Location: US, CA, Long Beach\\\\n    Telecommuting: No\\\\n    \"],\"similarity_scores\":[0.5555556,0.5,0.33333334,0.25,0.2],\"retrieved_job_posting\":\"Director of Software Engineering Company: #URL_ddb080358fa5eecf5a67c649cfb4ffc343c484389f1bbaf2a1cb071e3f2b6e7e# and Aptitude Staffing Solutions have partnered up in an effort to streamline the hiring process and provide a more efficient and effective recruitng model.\\xa0 Our focus is to help develop and achieve your career goals while makeing\\\\n    Job Id: 10397\\\\n    Description: As Director of Software Engineering\\'s newly forming New York development team, you will be a “player-coach” who will contribute to and drive high-level architecture and planning, manage day-to-day issues, as well as roll up your sleeves and code when necessary. Responsibilities:\\xa0Inspire, mentor and lead our superb 30+ person engineering team using your experience and deep understanding of both leading-edge technologies and of motivation and leadership;Drive the aggressive growth and organization of Software Engineering as we double in size again over the next year;Contribute new technical insights and help decide design directions, while preserving the core cultural values that define #URL_ddb080358fa5eecf5a67c649cfb4ffc343c484389f1bbaf2a1cb071e3f2b6e7e# Engineering today, including: high level of personal performance; mutual trust; taking personal responsibility; flat &amp; informal organization; integrity; and a mutually supportive environment.\\\\n    Requirements:  Requirements:\\xa0At least 10+ years in software development and increasing team management responsibilitiesStrong technical skills, including object-oriented design skills, familiarity with developing sophisticated and scalable web services infrastructures, high-performance backend platformsBS or MS in CS or Engineering desirableExcellent hands-on experience in C/C++ or JavaStrong familiarity with Linux, MySQL, and modern big data management approaches is very useful.With headquarters in San Mateo, CA and offices around the world, is one of the leading technology companies in the high-growth video advertising industry. Comscore consistently ranks #URL_ddb080358fa5eecf5a67c649cfb4ffc343c484389f1bbaf2a1cb071e3f2b6e7e# (along with YouTube and Hulu) as one of the top 3 video ad platforms. We are experiencing explosive demand for our platform and services, and this is driving our aggressive growth in all parts of the company. We have doubled in size in the past year, and our growth has created a new opportunity for an aggressive, hands-on and visionary software leader who can help us grow even faster.\\xa0\\xa0\\xa0\\\\n    Location: US, CA, San Mateo\\\\n    Telecommuting: No\\\\n    \"}', tool_call_id='call_0'), AIMessage(content='I have retrieved the job posting details for job_id 10397. It is for a Director of Software Engineering position at a technology company headquartered in San Mateo, CA, focused on video advertising platforms. The posting includes detailed responsibilities, requirements, and company background.\\n\\nNext, I will run the fraud classification model on this job posting text to determine if it is real or fraudulent.', additional_kwargs={}, response_metadata={}, tool_calls=[{'name': 'get_prediction', 'args': {'text': \"Director of Software Engineering Company: #URL_ddb080358fa5eecf5a67c649cfb4ffc343c484389f1bbaf2a1cb071e3f2b6e7e# and Aptitude Staffing Solutions have partnered up in an effort to streamline the hiring process and provide a more efficient and effective recruitng model.  Our focus is to help develop and achieve your career goals while makeing\\n    Job Id: 10397\\n    Description: As Director of Software Engineering's newly forming New York development team, you will be a “player-coach” who will contribute to and drive high-level architecture and planning, manage day-to-day issues, as well as roll up your sleeves and code when necessary. Responsibilities: Inspire, mentor and lead our superb 30+ person engineering team using your experience and deep understanding of both leading-edge technologies and of motivation and leadership;Drive the aggressive growth and organization of Software Engineering as we double in size again over the next year;Contribute new technical insights and help decide design directions, while preserving the core cultural values that define #URL_ddb080358fa5eecf5a67c649cfb4ffc343c484389f1bbaf2a1cb071e3f2b6e7e# Engineering today, including: high level of personal performance; mutual trust; taking personal responsibility; flat & informal organization; integrity; and a mutually supportive environment.\\n    Requirements:  Requirements: At least 10+ years in software development and increasing team management responsibilitiesStrong technical skills, including object-oriented design skills, familiarity with developing sophisticated and scalable web services infrastructures, high-performance backend platformsBS or MS in CS or Engineering desirableExcellent hands-on experience in C/C++ or JavaStrong familiarity with Linux, MySQL, and modern big data management approaches is very useful.With headquarters in San Mateo, CA and offices around the world, is one of the leading technology companies in the high-growth video advertising industry. Comscore consistently ranks #URL_ddb080358fa5eecf5a67c649cfb4ffc343c484389f1bbaf2a1cb071e3f2b6e7e# (along with YouTube and Hulu) as one of the top 3 video ad platforms. We are experiencing explosive demand for our platform and services, and this is driving our aggressive growth in all parts of the company. We have doubled in size in the past year, and our growth has created a new opportunity for an aggressive, hands-on and visionary software leader who can help us grow even faster.   \\n    Location: US, CA, San Mateo\\n    Telecommuting: No\\n    \"}, 'id': 'call_0', 'type': 'tool_call'}])] answer='I have retrieved the job posting details for job_id 10397. It is for a Director of Software Engineering position at a technology company headquartered in San Mateo, CA, focused on video advertising platforms. The posting includes detailed responsibilities, requirements, and company background.\\n\\nNext, I will run the fraud classification model on this job posting text to determine if it is real or fraudulent.' iteration=2 final_answer=False available_tools=[{'name': 'get_formatted_context', 'description': 'Get the top k context, each representing an job posting for a given query.', 'parameters': {'type': 'object', 'properties': {'query': {'title': 'Query', 'type': 'string', 'description': 'The query to get the top k context for'}, 'top_k': {'default': 5, 'title': 'Top K', 'type': 'integer', 'description': 'The number of context chunks to retrieve, works best with 5 or more'}}}, 'required': ['query'], 'returns': {'type': 'object', 'description': 'A dictionary of the top k context chunks with IDs prepending each chunk, each representing job posting for a given query.'}, 'server': 'http://localhost:8001/mcp'}, {'name': 'get_prediction', 'description': 'Classifies if a given job posting is real or fake.\\nUses the top retrieved job posting from get_formatted_context as input\\nand return the classification result.', 'parameters': {'type': 'object', 'properties': {'text': {'title': 'Text', 'type': 'string', 'description': 'Input string of the job posting'}}}, 'required': ['text'], 'returns': {'type': 'object', 'description': 'A dictionary of the classification label and prediction probability score.'}, 'server': 'http://localhost:8002/mcp'}] tool_calls=[ToolCall(name='get_prediction', arguments={'text': \"Director of Software Engineering Company: #URL_ddb080358fa5eecf5a67c649cfb4ffc343c484389f1bbaf2a1cb071e3f2b6e7e# and Aptitude Staffing Solutions have partnered up in an effort to streamline the hiring process and provide a more efficient and effective recruitng model.  Our focus is to help develop and achieve your career goals while makeing\\n    Job Id: 10397\\n    Description: As Director of Software Engineering's newly forming New York development team, you will be a “player-coach” who will contribute to and drive high-level architecture and planning, manage day-to-day issues, as well as roll up your sleeves and code when necessary. Responsibilities: Inspire, mentor and lead our superb 30+ person engineering team using your experience and deep understanding of both leading-edge technologies and of motivation and leadership;Drive the aggressive growth and organization of Software Engineering as we double in size again over the next year;Contribute new technical insights and help decide design directions, while preserving the core cultural values that define #URL_ddb080358fa5eecf5a67c649cfb4ffc343c484389f1bbaf2a1cb071e3f2b6e7e# Engineering today, including: high level of personal performance; mutual trust; taking personal responsibility; flat & informal organization; integrity; and a mutually supportive environment.\\n    Requirements:  Requirements: At least 10+ years in software development and increasing team management responsibilitiesStrong technical skills, including object-oriented design skills, familiarity with developing sophisticated and scalable web services infrastructures, high-performance backend platformsBS or MS in CS or Engineering desirableExcellent hands-on experience in C/C++ or JavaStrong familiarity with Linux, MySQL, and modern big data management approaches is very useful.With headquarters in San Mateo, CA and offices around the world, is one of the leading technology companies in the high-growth video advertising industry. Comscore consistently ranks #URL_ddb080358fa5eecf5a67c649cfb4ffc343c484389f1bbaf2a1cb071e3f2b6e7e# (along with YouTube and Hulu) as one of the top 3 video ad platforms. We are experiencing explosive demand for our platform and services, and this is driving our aggressive growth in all parts of the company. We have doubled in size in the past year, and our growth has created a new opportunity for an aggressive, hands-on and visionary software leader who can help us grow even faster.   \\n    Location: US, CA, San Mateo\\n    Telecommuting: No\\n    \"}, server='http://localhost:8002/mcp')] retrieved_context_ids=[RAGUsedContext(id=10397, description=''), RAGUsedContext(id=12117, description=''), RAGUsedContext(id=13300, description=''), RAGUsedContext(id=11278, description=''), RAGUsedContext(id=16661, description=''), RAGUsedContext(id=10397, description='Director of Software Engineering job posting')] retrieved_job_posting=\"Director of Software Engineering Company: #URL_ddb080358fa5eecf5a67c649cfb4ffc343c484389f1bbaf2a1cb071e3f2b6e7e# and Aptitude Staffing Solutions have partnered up in an effort to streamline the hiring process and provide a more efficient and effective recruitng model.\\xa0 Our focus is to help develop and achieve your career goals while makeing\\n    Job Id: 10397\\n    Description: As Director of Software Engineering's newly forming New York development team, you will be a “player-coach” who will contribute to and drive high-level architecture and planning, manage day-to-day issues, as well as roll up your sleeves and code when necessary. Responsibilities:\\xa0Inspire, mentor and lead our superb 30+ person engineering team using your experience and deep understanding of both leading-edge technologies and of motivation and leadership;Drive the aggressive growth and organization of Software Engineering as we double in size again over the next year;Contribute new technical insights and help decide design directions, while preserving the core cultural values that define #URL_ddb080358fa5eecf5a67c649cfb4ffc343c484389f1bbaf2a1cb071e3f2b6e7e# Engineering today, including: high level of personal performance; mutual trust; taking personal responsibility; flat &amp; informal organization; integrity; and a mutually supportive environment.\\n    Requirements:  Requirements:\\xa0At least 10+ years in software development and increasing team management responsibilitiesStrong technical skills, including object-oriented design skills, familiarity with developing sophisticated and scalable web services infrastructures, high-performance backend platformsBS or MS in CS or Engineering desirableExcellent hands-on experience in C/C++ or JavaStrong familiarity with Linux, MySQL, and modern big data management approaches is very useful.With headquarters in San Mateo, CA and offices around the world, is one of the leading technology companies in the high-growth video advertising industry. Comscore consistently ranks #URL_ddb080358fa5eecf5a67c649cfb4ffc343c484389f1bbaf2a1cb071e3f2b6e7e# (along with YouTube and Hulu) as one of the top 3 video ad platforms. We are experiencing explosive demand for our platform and services, and this is driving our aggressive growth in all parts of the company. We have doubled in size in the past year, and our growth has created a new opportunity for an aggressive, hands-on and visionary software leader who can help us grow even faster.\\xa0\\xa0\\xa0\\n    Location: US, CA, San Mateo\\n    Telecommuting: No\\n    \" classification_result=None\n",
      "[DEBUG] raw LLM response: ChatCompletion(id='chatcmpl-C0nyWEHI6W7YfOGP4cQ8OvTc745Th', choices=[Choice(finish_reason='stop', index=0, logprobs=None, message=ChatCompletionMessage(content=None, refusal=None, role='assistant', annotations=[], audio=None, function_call=None, tool_calls=[ChatCompletionMessageToolCall(id='call_xuAn1HRLyOVGOrOf3PKNa4uX', function=Function(arguments='{\"answer\":\"The job posting for the Director of Software Engineering with job_id 10397 is classified as Likely Fraudulent by the fraud detection model with a high confidence probability of 1.0.\\\\n\\\\nReasoning:\\\\n- The posting contains suspicious placeholders like #URL_...# instead of actual company names or URLs, which is a common red flag.\\\\n- The description has some awkward phrasing and typographical errors (e.g., \\\\\"makeing\\\\\" instead of \\\\\"making\\\\\") that are often seen in fraudulent postings.\\\\n- The model\\'s high confidence score indicates strong signals of fraud.\\\\n\\\\nAdvice:\\\\n- Verify the company name and URL independently through trusted sources.\\\\n- Contact the company directly using official contact details found on their verified website.\\\\n- Avoid sharing personal or financial information until the legitimacy is confirmed.\\\\n- Report the suspicious posting to the platform where it was found.\\\\n\\\\nIf you have access to more details or the original source, cross-check those to validate authenticity further.\",\"tool_calls\":[],\"final_answer\":true,\"retrieved_context_ids\":[{\"id\":10397,\"description\":\"Director of Software Engineering job posting\"}]}', name='AgentResponse'), type='function')]))], created=1754308140, model='gpt-4.1-mini-2025-04-14', object='chat.completion', service_tier='default', system_fingerprint='fp_658b958c37', usage=CompletionUsage(completion_tokens=457, prompt_tokens=10834, total_tokens=11291, completion_tokens_details=CompletionTokensDetails(accepted_prediction_tokens=None, audio_tokens=0, reasoning_tokens=0, rejected_prediction_tokens=None), prompt_tokens_details=PromptTokensDetails(audio_tokens=0, cached_tokens=5376)))\n",
      "Raw tool calls: []\n",
      "Arguments types: []\n",
      "[DEBUG] tool_calls so far: []\n",
      "[DEBUG] State: messages=[{'role': 'user', 'content': 'Tell me if the following job postings with job_id 10397 is real or not. Use fraud classification model on the posting if available.'}, AIMessage(content='I will first retrieve the job posting details for job_id 10397 to analyze and classify if it is real or fraudulent.', additional_kwargs={}, response_metadata={}, tool_calls=[{'name': 'get_formatted_context', 'args': {'query': '10397'}, 'id': 'call_0', 'type': 'tool_call'}]), ToolMessage(content='{\"retrieved_context_ids\":[10397,12117,13300,11278,16661],\"retrieved_context\":[\"Director of Software Engineering Company: #URL_ddb080358fa5eecf5a67c649cfb4ffc343c484389f1bbaf2a1cb071e3f2b6e7e# and Aptitude Staffing Solutions have partnered up in an effort to streamline the hiring process and provide a more efficient and effective recruitng model.\\xa0 Our focus is to help develop and achieve your career goals while makeing\\\\n    Job Id: 10397\\\\n    Description: As Director of Software Engineering\\'s newly forming New York development team, you will be a “player-coach” who will contribute to and drive high-level architecture and planning, manage day-to-day issues, as well as roll up your sleeves and code when necessary. Responsibilities:\\xa0Inspire, mentor and lead our superb 30+ person engineering team using your experience and deep understanding of both leading-edge technologies and of motivation and leadership;Drive the aggressive growth and organization of Software Engineering as we double in size again over the next year;Contribute new technical insights and help decide design directions, while preserving the core cultural values that define #URL_ddb080358fa5eecf5a67c649cfb4ffc343c484389f1bbaf2a1cb071e3f2b6e7e# Engineering today, including: high level of personal performance; mutual trust; taking personal responsibility; flat &amp; informal organization; integrity; and a mutually supportive environment.\\\\n    Requirements:  Requirements:\\xa0At least 10+ years in software development and increasing team management responsibilitiesStrong technical skills, including object-oriented design skills, familiarity with developing sophisticated and scalable web services infrastructures, high-performance backend platformsBS or MS in CS or Engineering desirableExcellent hands-on experience in C/C++ or JavaStrong familiarity with Linux, MySQL, and modern big data management approaches is very useful.With headquarters in San Mateo, CA and offices around the world, is one of the leading technology companies in the high-growth video advertising industry. Comscore consistently ranks #URL_ddb080358fa5eecf5a67c649cfb4ffc343c484389f1bbaf2a1cb071e3f2b6e7e# (along with YouTube and Hulu) as one of the top 3 video ad platforms. We are experiencing explosive demand for our platform and services, and this is driving our aggressive growth in all parts of the company. We have doubled in size in the past year, and our growth has created a new opportunity for an aggressive, hands-on and visionary software leader who can help us grow even faster.\\xa0\\xa0\\xa0\\\\n    Location: US, CA, San Mateo\\\\n    Telecommuting: No\\\\n    \",\"Mortgage Processor - Transaction Coordinator - Loan Assistant Company: Carlyle Financial is a mortgage bank based in Beverly Hills, CA offering a full range of home loan products. We concentrate on providing a high level of personal service with an emphasis on developing long-term relationships with our clients rather than treating them simply as a single transaction. \\\\n    Job Id: 12117\\\\n    Description: Beverly Hills mortgage banking firm is seeking an experienced Loan Processor - Transaction Coordinator to support our top producing mortgage bankers. This individual must have extensive knowledge of the mortgage process to handle a wide variety of loan files, and the organizational skills to manage a busy pipeline.This individual will act as a key point of contact for the borrower, your team members and all other parties involved in the loan process. You must possess a strong sense of ownership over your files as you are responsible for tracking closing dates, contingency dates, lock expirations, appraisal and title orders, etc. You need to provide exceptional client service by handling requests in a friendly and efficient manner.Key functions include:Support mortgage banker as a liaison between client, operations staff and third parties such as realtors and escrow.Prioritize tasks based on team needs and file deadlines.Request and organize client documentation needed for loan submission and loan closing.Assure that all client files are complete and in compliance with regulatory agencies and internal policies.Provide client with periodic status updates of their loan application.Maintain and update client files and loan officer databases with records and information needed for recurring internal reports.We place a heavy emphasis on technology, including Internet and cloud-based applications, online collaboration and electronic documentation. It is vital that you are comfortable with these items and are able to build your technical knowledge quickly.ABOUT CARLYLE FINANCIALCarlyle Financial is a mortgage bank based in Beverly Hills, offering a full range of home loan products. We concentrate on providing a high level of personal service with an emphasis on developing long-term relationships with our clients rather than treating them simply as a single transaction. As a mortgage bank and direct lender, we control all aspects of the home loan process, from origination to funding. This means that we operate more efficiently and have less paperwork than our competitors, and close most home loans in fewer than 30 days, which translates to superior service and pricing for our clients.We are a fast-paced, tech-focused company. We are looking for intelligent individuals with a strong work ethic as we are rapidly expanding into new regional markets. You may view our TV commercial on our website at #URL_e588d91d9443c2f8287616b7660307687a8128016f1622dc1964e1ed23f073bf#**All candidates will be subject to a background check and asked to provide references**Carlyle Financial is an Equal Opportunity Employer.Please no phone calls.\\\\n    Requirements: Minimum of 5 years of mortgage experience in the role of processing or assisting loan production \\xa0 \\xa0NMLS Endorsement requiredMust be able to provide 3 professional references and proof of funded pipeline reportWorking knowledge of loan origination software (Encompass, Point, etc) and Automated Underwriting Systems (Desktop Underwriting and Loan Prospector)Working knowledge of basic office equipment such as multi-line phones and printer/scannerFamiliarity with the Microsoft Office suite of products as well as Google AppsWe maintain a professional work environment and dress code. This position will be based primarily in our Beverly Hills office with regular business hours of 9:00 a.m. to 6:00 p.m.\\\\n    Location: US\\\\n    Telecommuting: No\\\\n    \",\"Senior Ruby on Rails Engineer Company: The RealReal is changing the way people buy and sell luxury items. The leader in luxury resale, the company is a full service retailer offering customers authenticated, pre-owned, designer brands including Chanel, Hermes, Louis Vuitton , Gucci and Cartier, all at up to 90% off original retail. The R\\\\n    Job Id: 13300\\\\n    Description: As a Senior Ruby on Rails Engineer at The RealReal you\\'ll be a major contributor to TheRealReal\\'s e-commerce front end, backend systems, and APIs. You\\'ll build APIs to support our mobile applications and admin tools, and work on underlying model layer that powers those APIs. The person in this role will own critical systems throughout the platform and be responsible for their performance, adding new, valuable features, and ensuring that these systems perform correctly.  This position will be based out of The RealReal\\'s San Francisco office.Responsibilities:  • Develop new features throughout the TheRealReal platform, and maintain and enhance existing behavior. • Help define and implement the system\\'s APIs, to support our suite of mobile applications. • Take ownership of key components, ensuring that they meet the needs of the business • Collaborate with senior management, product management, and other engineers in the development of product requirements for the company\\'s software. • Mentor other team members to build the company\\'s overall expertise in software development. • Work to make TheRealReal an innovator in the space by bringing passion and new ideas to work every day. Reports to: VP of Engineering\\\\n    Requirements: • A degree in computer science/engineering with a minimum of 5 years of software development with Ruby on Rails • Fluency in the Ruby language, including familiarity with the language\\'s meta programming features.• Experience writing applications using Test Driven Development with RSpec. • Experience building real-world Rails applications, with Rails version 3.0.x or later. Candidate should be very familiar with Rails conventions for code organization, deployment, etc. Experience with more recent Rails features (e.g. asset pipeline) is a plus. • A belief that automated testing is essential to building robust, supportable software and a commitment to making automated testing part of the application development process.  • Familiarity with how asynchronous message queues and worker frameworks (e.g. Sidekiq, Resque) are used in web applications and, ideally, experience in using such a framework in one or more real world applications. • High degree of familiarity with SQL databases, including data modeling in SQL, the use of indices to improve query performance, and the use of transactions to maintain data integrity. • Practical experience with REST and JSON APIs, and an understanding of how to build applications that serve and consume these sorts of APIs.  • Expertise in working with cloud systems, specifically for application hosting, file storage, and other related concerns. • Experience integrating with 3rd party services, including social applications (e.g. Facebook, Twitter), communication services (e.g. Twilio, Sendgrid, APNS) • Knowledge of best practices in designing and architecting localized Rails applications. • Experience with one or more NoSQL databases. • Comfortable working in an environment where innovation and change are the norm. • A passion for building great products.\\\\n    Location: US, CA, San Francisco\\\\n    Telecommuting: No\\\\n    \",\"Commercial Real Estate Salesperson - NJ Company: With over 1,300 investment professionals located throughout the United States and Canada, Marcus &amp; Millichap (NYSE: MMI) is a\\xa0 leading specialist in commercial real estate investment sales, financing, research and advisory services. Founded in 1971, the firm closed over 6,600\\xa0 transactions in 20\\\\n    Job Id: 11278\\\\n    Description: Marcus &amp; Millichap (NYSE: MMI) is the largest firm specializing in commercial real estate investment sales, financing, research and advisory services, with over 70 offices across the United States and Canada. Founded in 1971, the firm closed over 6,600\\xa0transactions in 2013 with a value of approximately $24 billion. Our services are customized and personalized to meet the diverse needs of private investors, professionals and institutions. As leaders in commercial brokerage, we continue to recruit talented individuals to join our Investment Sales division across multiple product types: Multifamily, Retail, Net-Leased, Office, Industrial, etc. Click Here to learn more about our platform from our President and CEO John Kerin.The New Jersey office, located on River Drive in Elmwood Park, is undergoing an expansion and we are seeking a limited number of aggressive, ambitious and capable sales professionals to join our real estate Investment Sales team.The Basic IdeaWe aren\\'t your typical company. We are a company founded by brokers, run by brokers and led by brokers. Even our CEO was a Marcus &amp; Millichap broker. We know what works and teach that in our training.Why join us?Our unique training, business model and culture have made Marcus &amp; Millichap and its subsidiaries the national leader in commercial real estate brokerage over the last 40+ years.We hear this from our senior managers, “In the 10 years I have been with the company, I have never seen a person execute our program, the right way, and not be successful. So…. What do we think “successful” means? Our proven business plan is designed to achieve a six-figure income within two years and $1 million net worth within five years.Why else?We have the best tools in the industry and are always improving ways for our broker/agents to do more deals, faster. We\\'re growing like crazy, and looking for smart, forward-thinking, results-oriented doers to join us.What You Should Expect to Get When You JoinTraining – Our nationally recognized training program prepares newer team members for their future. For experienced professionals, our program enhances your existing skills. Additionally, our mentoring and teaming helps you do more deals each year. This is one of the reasons we do more transactions than our nearest two competitors, combined.Marcus &amp; Millichap\\'s Training Program is regularly acknowledged as the best in the Industry. It is extremely thorough and covers real estate and sales, with lots of discussion, role playing and analysis. Online work, reading and training classes are augmented by one-on-one mentorship from experienced successful brokers. This continues with our development program, designed to move your career forward as quickly as possible. Click Here to learn more about Marcus &amp; Millichap\\'s training program from Executive Vice President, Gene Berman.Opportunity to Earn - Our proven business plan is designed to achieve a six-figure income within two years and $1 million net worth within five years.Growth – Many of our regional managers, VPs and directors began with Marcus &amp; Millichap as brokers. If you are searching for a long-term career, you should consider us.\\\\n    Requirements: Bachelor\\'s or Associate Degree\\xa0Excellent Oral &amp; Written skillsEntrepreneurial DriveInterpersonal Skills: Ability to make and keep\\xa0relationships in the market.\\xa0Strong Computer SkillsTrack Record of Success: Sports, personal achievements, or leadership roles.New Jersey Salespersons License (not required for initial interview)\\\\n    Location: US, NJ, Elmwood Park\\\\n    Telecommuting: No\\\\n    \",\"Ruby on Rails/HTML/Java Developer  Company: Not Available\\\\n    Job Id: 16661\\\\n    Description: Ruby on Rails Web Engineer (RoR)Now Hiring\\xa0Ruby on Rails Web Engineer\\xa0for one of our client in\\xa0Long Beach, CAJob Role :\\xa0Ruby on Rails DeveloperJob Function :\\xa0Web DeveloperJob Industry :\\xa0Financial ServicesJob Type :\\xa0Full-TimeJob Level :\\xa0Mid - SeniorJob Location :\\xa0Long Beach, CASkills and Experience Required/PreferredDesired Skills &amp; ExperienceObject-oriented background5+ yearsexperience with full lifecycle software development5+ yearsexperience with validatingHTML2+ yearsexperience with Ruby on Rails5+ yearsexperience with CSSExperience with Red-Green-Refactor development (TDD)Knowledge on PostgresSQL and T-SQLExperience with any of the NoSQL variant, preferably RedisPreferred Skills:Development for a high-traffic, mission-critical websiteWorking knowledge of SEOResponsive web and mobile web developmentThe Compensation:Best in IndustryNote:\\xa0For U.S. Citizens / Green Card / EAD / Visa Candidates Only.Interested professionals please apply for the job with your updated resume.\\\\n    Requirements: Not Available\\\\n    Location: US, CA, Long Beach\\\\n    Telecommuting: No\\\\n    \"],\"similarity_scores\":[0.5555556,0.5,0.33333334,0.25,0.2],\"retrieved_job_posting\":\"Director of Software Engineering Company: #URL_ddb080358fa5eecf5a67c649cfb4ffc343c484389f1bbaf2a1cb071e3f2b6e7e# and Aptitude Staffing Solutions have partnered up in an effort to streamline the hiring process and provide a more efficient and effective recruitng model.\\xa0 Our focus is to help develop and achieve your career goals while makeing\\\\n    Job Id: 10397\\\\n    Description: As Director of Software Engineering\\'s newly forming New York development team, you will be a “player-coach” who will contribute to and drive high-level architecture and planning, manage day-to-day issues, as well as roll up your sleeves and code when necessary. Responsibilities:\\xa0Inspire, mentor and lead our superb 30+ person engineering team using your experience and deep understanding of both leading-edge technologies and of motivation and leadership;Drive the aggressive growth and organization of Software Engineering as we double in size again over the next year;Contribute new technical insights and help decide design directions, while preserving the core cultural values that define #URL_ddb080358fa5eecf5a67c649cfb4ffc343c484389f1bbaf2a1cb071e3f2b6e7e# Engineering today, including: high level of personal performance; mutual trust; taking personal responsibility; flat &amp; informal organization; integrity; and a mutually supportive environment.\\\\n    Requirements:  Requirements:\\xa0At least 10+ years in software development and increasing team management responsibilitiesStrong technical skills, including object-oriented design skills, familiarity with developing sophisticated and scalable web services infrastructures, high-performance backend platformsBS or MS in CS or Engineering desirableExcellent hands-on experience in C/C++ or JavaStrong familiarity with Linux, MySQL, and modern big data management approaches is very useful.With headquarters in San Mateo, CA and offices around the world, is one of the leading technology companies in the high-growth video advertising industry. Comscore consistently ranks #URL_ddb080358fa5eecf5a67c649cfb4ffc343c484389f1bbaf2a1cb071e3f2b6e7e# (along with YouTube and Hulu) as one of the top 3 video ad platforms. We are experiencing explosive demand for our platform and services, and this is driving our aggressive growth in all parts of the company. We have doubled in size in the past year, and our growth has created a new opportunity for an aggressive, hands-on and visionary software leader who can help us grow even faster.\\xa0\\xa0\\xa0\\\\n    Location: US, CA, San Mateo\\\\n    Telecommuting: No\\\\n    \"}', tool_call_id='call_0'), AIMessage(content='I have retrieved the job posting details for job_id 10397. It is for a Director of Software Engineering position at a technology company headquartered in San Mateo, CA, focused on video advertising platforms. The posting includes detailed responsibilities, requirements, and company background.\\n\\nNext, I will run the fraud classification model on this job posting text to determine if it is real or fraudulent.', additional_kwargs={}, response_metadata={}, tool_calls=[{'name': 'get_prediction', 'args': {'text': \"Director of Software Engineering Company: #URL_ddb080358fa5eecf5a67c649cfb4ffc343c484389f1bbaf2a1cb071e3f2b6e7e# and Aptitude Staffing Solutions have partnered up in an effort to streamline the hiring process and provide a more efficient and effective recruitng model.  Our focus is to help develop and achieve your career goals while makeing\\n    Job Id: 10397\\n    Description: As Director of Software Engineering's newly forming New York development team, you will be a “player-coach” who will contribute to and drive high-level architecture and planning, manage day-to-day issues, as well as roll up your sleeves and code when necessary. Responsibilities: Inspire, mentor and lead our superb 30+ person engineering team using your experience and deep understanding of both leading-edge technologies and of motivation and leadership;Drive the aggressive growth and organization of Software Engineering as we double in size again over the next year;Contribute new technical insights and help decide design directions, while preserving the core cultural values that define #URL_ddb080358fa5eecf5a67c649cfb4ffc343c484389f1bbaf2a1cb071e3f2b6e7e# Engineering today, including: high level of personal performance; mutual trust; taking personal responsibility; flat & informal organization; integrity; and a mutually supportive environment.\\n    Requirements:  Requirements: At least 10+ years in software development and increasing team management responsibilitiesStrong technical skills, including object-oriented design skills, familiarity with developing sophisticated and scalable web services infrastructures, high-performance backend platformsBS or MS in CS or Engineering desirableExcellent hands-on experience in C/C++ or JavaStrong familiarity with Linux, MySQL, and modern big data management approaches is very useful.With headquarters in San Mateo, CA and offices around the world, is one of the leading technology companies in the high-growth video advertising industry. Comscore consistently ranks #URL_ddb080358fa5eecf5a67c649cfb4ffc343c484389f1bbaf2a1cb071e3f2b6e7e# (along with YouTube and Hulu) as one of the top 3 video ad platforms. We are experiencing explosive demand for our platform and services, and this is driving our aggressive growth in all parts of the company. We have doubled in size in the past year, and our growth has created a new opportunity for an aggressive, hands-on and visionary software leader who can help us grow even faster.   \\n    Location: US, CA, San Mateo\\n    Telecommuting: No\\n    \"}, 'id': 'call_0', 'type': 'tool_call'}]), ToolMessage(content='{\"is_fraud\":true,\"probability\":1.0}', tool_call_id='call_0'), AIMessage(content='The job posting for the Director of Software Engineering with job_id 10397 is classified as Likely Fraudulent by the fraud detection model with a high confidence probability of 1.0.\\n\\nReasoning:\\n- The posting contains suspicious placeholders like #URL_...# instead of actual company names or URLs, which is a common red flag.\\n- The description has some awkward phrasing and typographical errors (e.g., \"makeing\" instead of \"making\") that are often seen in fraudulent postings.\\n- The model\\'s high confidence score indicates strong signals of fraud.\\n\\nAdvice:\\n- Verify the company name and URL independently through trusted sources.\\n- Contact the company directly using official contact details found on their verified website.\\n- Avoid sharing personal or financial information until the legitimacy is confirmed.\\n- Report the suspicious posting to the platform where it was found.\\n\\nIf you have access to more details or the original source, cross-check those to validate authenticity further.', additional_kwargs={}, response_metadata={})] answer='The job posting for the Director of Software Engineering with job_id 10397 is classified as Likely Fraudulent by the fraud detection model with a high confidence probability of 1.0.\\n\\nReasoning:\\n- The posting contains suspicious placeholders like #URL_...# instead of actual company names or URLs, which is a common red flag.\\n- The description has some awkward phrasing and typographical errors (e.g., \"makeing\" instead of \"making\") that are often seen in fraudulent postings.\\n- The model\\'s high confidence score indicates strong signals of fraud.\\n\\nAdvice:\\n- Verify the company name and URL independently through trusted sources.\\n- Contact the company directly using official contact details found on their verified website.\\n- Avoid sharing personal or financial information until the legitimacy is confirmed.\\n- Report the suspicious posting to the platform where it was found.\\n\\nIf you have access to more details or the original source, cross-check those to validate authenticity further.' iteration=3 final_answer=True available_tools=[{'name': 'get_formatted_context', 'description': 'Get the top k context, each representing an job posting for a given query.', 'parameters': {'type': 'object', 'properties': {'query': {'title': 'Query', 'type': 'string', 'description': 'The query to get the top k context for'}, 'top_k': {'default': 5, 'title': 'Top K', 'type': 'integer', 'description': 'The number of context chunks to retrieve, works best with 5 or more'}}}, 'required': ['query'], 'returns': {'type': 'object', 'description': 'A dictionary of the top k context chunks with IDs prepending each chunk, each representing job posting for a given query.'}, 'server': 'http://localhost:8001/mcp'}, {'name': 'get_prediction', 'description': 'Classifies if a given job posting is real or fake.\\nUses the top retrieved job posting from get_formatted_context as input\\nand return the classification result.', 'parameters': {'type': 'object', 'properties': {'text': {'title': 'Text', 'type': 'string', 'description': 'Input string of the job posting'}}}, 'required': ['text'], 'returns': {'type': 'object', 'description': 'A dictionary of the classification label and prediction probability score.'}, 'server': 'http://localhost:8002/mcp'}] tool_calls=[] retrieved_context_ids=[RAGUsedContext(id=10397, description=''), RAGUsedContext(id=12117, description=''), RAGUsedContext(id=13300, description=''), RAGUsedContext(id=11278, description=''), RAGUsedContext(id=16661, description=''), RAGUsedContext(id=10397, description='Director of Software Engineering job posting'), RAGUsedContext(id=10397, description=''), RAGUsedContext(id=12117, description=''), RAGUsedContext(id=13300, description=''), RAGUsedContext(id=11278, description=''), RAGUsedContext(id=16661, description=''), RAGUsedContext(id=10397, description='Director of Software Engineering job posting'), RAGUsedContext(id=10397, description='Director of Software Engineering job posting')] retrieved_job_posting=\"Director of Software Engineering Company: #URL_ddb080358fa5eecf5a67c649cfb4ffc343c484389f1bbaf2a1cb071e3f2b6e7e# and Aptitude Staffing Solutions have partnered up in an effort to streamline the hiring process and provide a more efficient and effective recruitng model.\\xa0 Our focus is to help develop and achieve your career goals while makeing\\n    Job Id: 10397\\n    Description: As Director of Software Engineering's newly forming New York development team, you will be a “player-coach” who will contribute to and drive high-level architecture and planning, manage day-to-day issues, as well as roll up your sleeves and code when necessary. Responsibilities:\\xa0Inspire, mentor and lead our superb 30+ person engineering team using your experience and deep understanding of both leading-edge technologies and of motivation and leadership;Drive the aggressive growth and organization of Software Engineering as we double in size again over the next year;Contribute new technical insights and help decide design directions, while preserving the core cultural values that define #URL_ddb080358fa5eecf5a67c649cfb4ffc343c484389f1bbaf2a1cb071e3f2b6e7e# Engineering today, including: high level of personal performance; mutual trust; taking personal responsibility; flat &amp; informal organization; integrity; and a mutually supportive environment.\\n    Requirements:  Requirements:\\xa0At least 10+ years in software development and increasing team management responsibilitiesStrong technical skills, including object-oriented design skills, familiarity with developing sophisticated and scalable web services infrastructures, high-performance backend platformsBS or MS in CS or Engineering desirableExcellent hands-on experience in C/C++ or JavaStrong familiarity with Linux, MySQL, and modern big data management approaches is very useful.With headquarters in San Mateo, CA and offices around the world, is one of the leading technology companies in the high-growth video advertising industry. Comscore consistently ranks #URL_ddb080358fa5eecf5a67c649cfb4ffc343c484389f1bbaf2a1cb071e3f2b6e7e# (along with YouTube and Hulu) as one of the top 3 video ad platforms. We are experiencing explosive demand for our platform and services, and this is driving our aggressive growth in all parts of the company. We have doubled in size in the past year, and our growth has created a new opportunity for an aggressive, hands-on and visionary software leader who can help us grow even faster.\\xa0\\xa0\\xa0\\n    Location: US, CA, San Mateo\\n    Telecommuting: No\\n    \" classification_result=None\n"
     ]
    }
   ],
   "source": [
    "initial_state = {\n",
    "    \"messages\": [{\"role\": \"user\", \"content\": \"Tell me if the following job postings with job_id 10397 is real or not. Use fraud classification model on the posting if available.\"}],\n",
    "    \"available_tools\": tool_descriptions\n",
    "}\n",
    "result = await graph.ainvoke(initial_state)\n"
   ]
  },
  {
   "cell_type": "code",
   "execution_count": 25,
   "id": "b15c756f",
   "metadata": {},
   "outputs": [
    {
     "data": {
      "text/plain": [
       "CallToolResult(content=[TextContent(type='text', text='{\"retrieved_context_ids\":[10397,13277,4145,16661,5817],\"retrieved_context\":[\"Director of Software Engineering Company: #URL_ddb080358fa5eecf5a67c649cfb4ffc343c484389f1bbaf2a1cb071e3f2b6e7e# and Aptitude Staffing Solutions have partnered up in an effort to streamline the hiring process and provide a more efficient and effective recruitng model.\\xa0 Our focus is to help develop and achieve your career goals while makeing\\\\n    Job Id: 10397\\\\n    Description: As Director of Software Engineering\\'s newly forming New York development team, you will be a “player-coach” who will contribute to and drive high-level architecture and planning, manage day-to-day issues, as well as roll up your sleeves and code when necessary. Responsibilities:\\xa0Inspire, mentor and lead our superb 30+ person engineering team using your experience and deep understanding of both leading-edge technologies and of motivation and leadership;Drive the aggressive growth and organization of Software Engineering as we double in size again over the next year;Contribute new technical insights and help decide design directions, while preserving the core cultural values that define #URL_ddb080358fa5eecf5a67c649cfb4ffc343c484389f1bbaf2a1cb071e3f2b6e7e# Engineering today, including: high level of personal performance; mutual trust; taking personal responsibility; flat &amp; informal organization; integrity; and a mutually supportive environment.\\\\n    Requirements:  Requirements:\\xa0At least 10+ years in software development and increasing team management responsibilitiesStrong technical skills, including object-oriented design skills, familiarity with developing sophisticated and scalable web services infrastructures, high-performance backend platformsBS or MS in CS or Engineering desirableExcellent hands-on experience in C/C++ or JavaStrong familiarity with Linux, MySQL, and modern big data management approaches is very useful.With headquarters in San Mateo, CA and offices around the world, is one of the leading technology companies in the high-growth video advertising industry. Comscore consistently ranks #URL_ddb080358fa5eecf5a67c649cfb4ffc343c484389f1bbaf2a1cb071e3f2b6e7e# (along with YouTube and Hulu) as one of the top 3 video ad platforms. We are experiencing explosive demand for our platform and services, and this is driving our aggressive growth in all parts of the company. We have doubled in size in the past year, and our growth has created a new opportunity for an aggressive, hands-on and visionary software leader who can help us grow even faster.\\xa0\\xa0\\xa0\\\\n    Location: US, CA, San Mateo\\\\n    Telecommuting: No\\\\n    \",\"Linux System Administrator Company: Not Available\\\\n    Job Id: 13277\\\\n    Description: UnoTelly is a DNS &amp; VPN service that allows users to access geo-restricted content no matter where they are in the world!We are seeking a dynamic network administrator to join our growing team in our new downtown Toronto office location. Do you derive satisfaction from seeing your work go live and help real customers from around the world? We ship and ship often! We are looking for a motivated network administrator who enjoys working on the many aspects of our expanding software products. Your responsibility will be to manage our server infrastructure to ensure 99.999% uptime. You will also dabble between playing around with the Unix/Linux distros, optimizing TCP/IP stack and some fun coding.We offer a challenging yet nurturing work environment where everyone is given the opportunity to learn and grow. We always welcome new ideas and value individuals who take initiative. At UnoTelly, we foster creative and collaborative energy by encouraging our staff to take risks, ask questions and engage in meaningful dialogue.To find out more about UnoTelly, please explore our company website.\\\\n    Requirements: *Skills &amp; Requirements:Minimum 5 years of system and networking experienceIPv4/IPv6, TCP/IP, DNSMRTG, Cacti, Netflow, NAGIOSRADIUS, FREERADIUS, SNMP,NTP, LDAPBGP, OSPF, EIGRPStrong network trouble-shooting skills including the use of utilities such as tcpdump, wireshark, nmap, etc. to quickly identify root causes of network issues.Solid TCP/IP networking foundation including Layer 2 &amp; Layer 3 switches, routing, subnetting, HSRP, stacking, VPN, ACLs, VLANs, VCLs, packet capture/analysis, and NAT configuration.Load Balancing, HA ClusteringMysql Cluster and replication, mysql optimization and indexingApache, Nginx, lighttpdOpenVPNShell and Perl scripting (Java, PHP, python bonus)RAIDKVM/XEN and other virtualization technologyCompile packagesKernel tunings, patching, recompiling and building modulesBGP, PeeringRedHat, Debian, CentOS, Ubuntu, FreeBSDiptables, iproute2, IPSECFamiliar with CDN(Akamai, Edgecast, etc.)Familiar with GeoDNSAbility to discern a network vs. system issueNormal business hour and after-hour on-call rotation to respond to critical issuesKnowledgeable with Red Hat package management (rpm and yum, building rpms, maintaining a yum repo)Familiar with video streaming (adaptive bitrate streaming etc.)*How to Apply:Please submit your cover letter &amp; resume in care of Nick.Your cover letter should include answers to the following questions:1. Why do you think you are an awesome system administrator?2. Describe a situation in your work-life where you failed.3. Describe a time when you accomplished something you thought was impossible (can be work-related or personal).\\\\n    Location: CA, ON, Toronto\\\\n    Telecommuting: No\\\\n    \",\"Sr. Systems Developer Company: We design, deploy, and maintain advanced technologies\\xa0that enable our customers to achieve operational excellence at substantial OpEx savings.\\xa0Our core strengths include a concentration on networks, their security &amp; optimization with a laser focus on redefining the fulfillment experience. We are\\\\n    Job Id: 4145\\\\n    Description: We are looking for highly skilled developer to join a fast-paced, dynamic and challenging environment managing a global cutting edge security infrastructure.\\xa0We\\'re seeking extremely motivated, self-directing individuals that demonstrate a natural curiosity and innate interest in technology and security. All candidates must possess a sincere interest in the technological beyond their day to day work responsibilities. Candidates must demonstrate very strong conceptual understanding of security and networking and the ability to work in a global team environment.This is for direct full time employment in midtown Manhattan. Salary is open, based on experience.\\\\n    Requirements: Practical Knowledge &amp; Experience:Strong research, analytical and problem solving skillsAbility to write/debug administrative and reporting tools in one of the the following\\xa0programming languages: Perl/Shell or Python, desired; Java, C/C++, RubySolid understanding of a Linux/UNIX-based operating systemnderstands paging and swapping, inter-process communication,\\xa0filesystem concepts (inode, clustering, logical\\xa0partitions)Experience with host security (e.g., passwords, uids/gids, SIDs, file\\xa0permissions, ACLs, filesystem integrity, use of security packages)Knowledge of Palantir or any SIEM productKnowledge of E-mail – Sendmail and/or PostfixExperience with any of the following systems management and monitoring :\\xa0Empire Sysedge/SNMP, Nagios or similarExperience with MIT Kerberos, RSA SecurID, Radius, SPNEGOKnowledge of RIA technologies such as Flex, Silverlight, extJS, GWTPenetration testing tools like Tenable Nessus, Qualys, Skipfish, Flawfinder,\\xa0SWIFTBigData: Hadoop, Elasticsearch/SolRXML/REST/SOAP\\\\n    Location: US, NY, New York\\\\n    Telecommuting: No\\\\n    \",\"Ruby on Rails/HTML/Java Developer  Company: Not Available\\\\n    Job Id: 16661\\\\n    Description: Ruby on Rails Web Engineer (RoR)Now Hiring\\xa0Ruby on Rails Web Engineer\\xa0for one of our client in\\xa0Long Beach, CAJob Role :\\xa0Ruby on Rails DeveloperJob Function :\\xa0Web DeveloperJob Industry :\\xa0Financial ServicesJob Type :\\xa0Full-TimeJob Level :\\xa0Mid - SeniorJob Location :\\xa0Long Beach, CASkills and Experience Required/PreferredDesired Skills &amp; ExperienceObject-oriented background5+ yearsexperience with full lifecycle software development5+ yearsexperience with validatingHTML2+ yearsexperience with Ruby on Rails5+ yearsexperience with CSSExperience with Red-Green-Refactor development (TDD)Knowledge on PostgresSQL and T-SQLExperience with any of the NoSQL variant, preferably RedisPreferred Skills:Development for a high-traffic, mission-critical websiteWorking knowledge of SEOResponsive web and mobile web developmentThe Compensation:Best in IndustryNote:\\xa0For U.S. Citizens / Green Card / EAD / Visa Candidates Only.Interested professionals please apply for the job with your updated resume.\\\\n    Requirements: Not Available\\\\n    Location: US, CA, Long Beach\\\\n    Telecommuting: No\\\\n    \",\"Java Developer Company: Medopad is the leading enterprise\\xa0mobile health solution that delivers patient information and clinical applications straight into the palm of a doctor’s hand.\\xa0The Medopad mobile health operating system mHOS™ enables near realtime access to patient information and more. As a result doctors can use t\\\\n    Job Id: 5817\\\\n    Description: Medopad’s Technology Unit is looking for a talented and passionate Java Developer to help build the next generation of its world class back end infrastructure focusing on our mobile health operating system mHOS™ data management and realtime processing capabilities.Our software engineers are the brains behind some of the healthcare industry’s breakthroughs, including the revolutionary mobile health operating system mHOS™ and world-class clinical applications like Medical Image Viewer,\\xa0 Admission App and more. With our first major enterprise wide rollout on it\\'s way, Medopad is growing its technical team in preparation for international expansion.At Medopad, You’ll be challenged. You’ll be inspired.\\xa0You’ll be proud. And you’ll be saving lives.\\\\n    Requirements: Desired skills- Java programming experience.- Solid understanding of Data Structures, Algorithms &amp; Object-Oriented design concepts.- Experience with Multi-threaded programming.- Experience with Network programming (TCP/IP, BSD sockets).- Experience in developing software for the Linux environment (Ubuntu, Redhat/CentOS).- Experience in shell scripting (preferably Bash).- Experience with source control management, especially Git.- Excellent oral and written communication skills in English.\\\\n    Location: GB, LND, London\\\\n    Telecommuting: No\\\\n    \"],\"similarity_scores\":[0.6,0.5,0.33333334,0.25,0.2],\"retrieved_job_posting\":\"Director of Software Engineering Company: #URL_ddb080358fa5eecf5a67c649cfb4ffc343c484389f1bbaf2a1cb071e3f2b6e7e# and Aptitude Staffing Solutions have partnered up in an effort to streamline the hiring process and provide a more efficient and effective recruitng model.\\xa0 Our focus is to help develop and achieve your career goals while makeing\\\\n    Job Id: 10397\\\\n    Description: As Director of Software Engineering\\'s newly forming New York development team, you will be a “player-coach” who will contribute to and drive high-level architecture and planning, manage day-to-day issues, as well as roll up your sleeves and code when necessary. Responsibilities:\\xa0Inspire, mentor and lead our superb 30+ person engineering team using your experience and deep understanding of both leading-edge technologies and of motivation and leadership;Drive the aggressive growth and organization of Software Engineering as we double in size again over the next year;Contribute new technical insights and help decide design directions, while preserving the core cultural values that define #URL_ddb080358fa5eecf5a67c649cfb4ffc343c484389f1bbaf2a1cb071e3f2b6e7e# Engineering today, including: high level of personal performance; mutual trust; taking personal responsibility; flat &amp; informal organization; integrity; and a mutually supportive environment.\\\\n    Requirements:  Requirements:\\xa0At least 10+ years in software development and increasing team management responsibilitiesStrong technical skills, including object-oriented design skills, familiarity with developing sophisticated and scalable web services infrastructures, high-performance backend platformsBS or MS in CS or Engineering desirableExcellent hands-on experience in C/C++ or JavaStrong familiarity with Linux, MySQL, and modern big data management approaches is very useful.With headquarters in San Mateo, CA and offices around the world, is one of the leading technology companies in the high-growth video advertising industry. Comscore consistently ranks #URL_ddb080358fa5eecf5a67c649cfb4ffc343c484389f1bbaf2a1cb071e3f2b6e7e# (along with YouTube and Hulu) as one of the top 3 video ad platforms. We are experiencing explosive demand for our platform and services, and this is driving our aggressive growth in all parts of the company. We have doubled in size in the past year, and our growth has created a new opportunity for an aggressive, hands-on and visionary software leader who can help us grow even faster.\\xa0\\xa0\\xa0\\\\n    Location: US, CA, San Mateo\\\\n    Telecommuting: No\\\\n    \"}', annotations=None, meta=None)], structured_content={'retrieved_context_ids': [10397, 13277, 4145, 16661, 5817], 'retrieved_context': [\"Director of Software Engineering Company: #URL_ddb080358fa5eecf5a67c649cfb4ffc343c484389f1bbaf2a1cb071e3f2b6e7e# and Aptitude Staffing Solutions have partnered up in an effort to streamline the hiring process and provide a more efficient and effective recruitng model.\\xa0 Our focus is to help develop and achieve your career goals while makeing\\n    Job Id: 10397\\n    Description: As Director of Software Engineering's newly forming New York development team, you will be a “player-coach” who will contribute to and drive high-level architecture and planning, manage day-to-day issues, as well as roll up your sleeves and code when necessary. Responsibilities:\\xa0Inspire, mentor and lead our superb 30+ person engineering team using your experience and deep understanding of both leading-edge technologies and of motivation and leadership;Drive the aggressive growth and organization of Software Engineering as we double in size again over the next year;Contribute new technical insights and help decide design directions, while preserving the core cultural values that define #URL_ddb080358fa5eecf5a67c649cfb4ffc343c484389f1bbaf2a1cb071e3f2b6e7e# Engineering today, including: high level of personal performance; mutual trust; taking personal responsibility; flat &amp; informal organization; integrity; and a mutually supportive environment.\\n    Requirements:  Requirements:\\xa0At least 10+ years in software development and increasing team management responsibilitiesStrong technical skills, including object-oriented design skills, familiarity with developing sophisticated and scalable web services infrastructures, high-performance backend platformsBS or MS in CS or Engineering desirableExcellent hands-on experience in C/C++ or JavaStrong familiarity with Linux, MySQL, and modern big data management approaches is very useful.With headquarters in San Mateo, CA and offices around the world, is one of the leading technology companies in the high-growth video advertising industry. Comscore consistently ranks #URL_ddb080358fa5eecf5a67c649cfb4ffc343c484389f1bbaf2a1cb071e3f2b6e7e# (along with YouTube and Hulu) as one of the top 3 video ad platforms. We are experiencing explosive demand for our platform and services, and this is driving our aggressive growth in all parts of the company. We have doubled in size in the past year, and our growth has created a new opportunity for an aggressive, hands-on and visionary software leader who can help us grow even faster.\\xa0\\xa0\\xa0\\n    Location: US, CA, San Mateo\\n    Telecommuting: No\\n    \", 'Linux System Administrator Company: Not Available\\n    Job Id: 13277\\n    Description: UnoTelly is a DNS &amp; VPN service that allows users to access geo-restricted content no matter where they are in the world!We are seeking a dynamic network administrator to join our growing team in our new downtown Toronto office location. Do you derive satisfaction from seeing your work go live and help real customers from around the world? We ship and ship often! We are looking for a motivated network administrator who enjoys working on the many aspects of our expanding software products. Your responsibility will be to manage our server infrastructure to ensure 99.999% uptime. You will also dabble between playing around with the Unix/Linux distros, optimizing TCP/IP stack and some fun coding.We offer a challenging yet nurturing work environment where everyone is given the opportunity to learn and grow. We always welcome new ideas and value individuals who take initiative. At UnoTelly, we foster creative and collaborative energy by encouraging our staff to take risks, ask questions and engage in meaningful dialogue.To find out more about UnoTelly, please explore our company website.\\n    Requirements: *Skills &amp; Requirements:Minimum 5 years of system and networking experienceIPv4/IPv6, TCP/IP, DNSMRTG, Cacti, Netflow, NAGIOSRADIUS, FREERADIUS, SNMP,NTP, LDAPBGP, OSPF, EIGRPStrong network trouble-shooting skills including the use of utilities such as tcpdump, wireshark, nmap, etc. to quickly identify root causes of network issues.Solid TCP/IP networking foundation including Layer 2 &amp; Layer 3 switches, routing, subnetting, HSRP, stacking, VPN, ACLs, VLANs, VCLs, packet capture/analysis, and NAT configuration.Load Balancing, HA ClusteringMysql Cluster and replication, mysql optimization and indexingApache, Nginx, lighttpdOpenVPNShell and Perl scripting (Java, PHP, python bonus)RAIDKVM/XEN and other virtualization technologyCompile packagesKernel tunings, patching, recompiling and building modulesBGP, PeeringRedHat, Debian, CentOS, Ubuntu, FreeBSDiptables, iproute2, IPSECFamiliar with CDN(Akamai, Edgecast, etc.)Familiar with GeoDNSAbility to discern a network vs. system issueNormal business hour and after-hour on-call rotation to respond to critical issuesKnowledgeable with Red Hat package management (rpm and yum, building rpms, maintaining a yum repo)Familiar with video streaming (adaptive bitrate streaming etc.)*How to Apply:Please submit your cover letter &amp; resume in care of Nick.Your cover letter should include answers to the following questions:1. Why do you think you are an awesome system administrator?2. Describe a situation in your work-life where you failed.3. Describe a time when you accomplished something you thought was impossible (can be work-related or personal).\\n    Location: CA, ON, Toronto\\n    Telecommuting: No\\n    ', \"Sr. Systems Developer Company: We design, deploy, and maintain advanced technologies\\xa0that enable our customers to achieve operational excellence at substantial OpEx savings.\\xa0Our core strengths include a concentration on networks, their security &amp; optimization with a laser focus on redefining the fulfillment experience. We are\\n    Job Id: 4145\\n    Description: We are looking for highly skilled developer to join a fast-paced, dynamic and challenging environment managing a global cutting edge security infrastructure.\\xa0We're seeking extremely motivated, self-directing individuals that demonstrate a natural curiosity and innate interest in technology and security. All candidates must possess a sincere interest in the technological beyond their day to day work responsibilities. Candidates must demonstrate very strong conceptual understanding of security and networking and the ability to work in a global team environment.This is for direct full time employment in midtown Manhattan. Salary is open, based on experience.\\n    Requirements: Practical Knowledge &amp; Experience:Strong research, analytical and problem solving skillsAbility to write/debug administrative and reporting tools in one of the the following\\xa0programming languages: Perl/Shell or Python, desired; Java, C/C++, RubySolid understanding of a Linux/UNIX-based operating systemnderstands paging and swapping, inter-process communication,\\xa0filesystem concepts (inode, clustering, logical\\xa0partitions)Experience with host security (e.g., passwords, uids/gids, SIDs, file\\xa0permissions, ACLs, filesystem integrity, use of security packages)Knowledge of Palantir or any SIEM productKnowledge of E-mail – Sendmail and/or PostfixExperience with any of the following systems management and monitoring :\\xa0Empire Sysedge/SNMP, Nagios or similarExperience with MIT Kerberos, RSA SecurID, Radius, SPNEGOKnowledge of RIA technologies such as Flex, Silverlight, extJS, GWTPenetration testing tools like Tenable Nessus, Qualys, Skipfish, Flawfinder,\\xa0SWIFTBigData: Hadoop, Elasticsearch/SolRXML/REST/SOAP\\n    Location: US, NY, New York\\n    Telecommuting: No\\n    \", 'Ruby on Rails/HTML/Java Developer  Company: Not Available\\n    Job Id: 16661\\n    Description: Ruby on Rails Web Engineer (RoR)Now Hiring\\xa0Ruby on Rails Web Engineer\\xa0for one of our client in\\xa0Long Beach, CAJob Role :\\xa0Ruby on Rails DeveloperJob Function :\\xa0Web DeveloperJob Industry :\\xa0Financial ServicesJob Type :\\xa0Full-TimeJob Level :\\xa0Mid - SeniorJob Location :\\xa0Long Beach, CASkills and Experience Required/PreferredDesired Skills &amp; ExperienceObject-oriented background5+ yearsexperience with full lifecycle software development5+ yearsexperience with validatingHTML2+ yearsexperience with Ruby on Rails5+ yearsexperience with CSSExperience with Red-Green-Refactor development (TDD)Knowledge on PostgresSQL and T-SQLExperience with any of the NoSQL variant, preferably RedisPreferred Skills:Development for a high-traffic, mission-critical websiteWorking knowledge of SEOResponsive web and mobile web developmentThe Compensation:Best in IndustryNote:\\xa0For U.S. Citizens / Green Card / EAD / Visa Candidates Only.Interested professionals please apply for the job with your updated resume.\\n    Requirements: Not Available\\n    Location: US, CA, Long Beach\\n    Telecommuting: No\\n    ', \"Java Developer Company: Medopad is the leading enterprise\\xa0mobile health solution that delivers patient information and clinical applications straight into the palm of a doctor’s hand.\\xa0The Medopad mobile health operating system mHOS™ enables near realtime access to patient information and more. As a result doctors can use t\\n    Job Id: 5817\\n    Description: Medopad’s Technology Unit is looking for a talented and passionate Java Developer to help build the next generation of its world class back end infrastructure focusing on our mobile health operating system mHOS™ data management and realtime processing capabilities.Our software engineers are the brains behind some of the healthcare industry’s breakthroughs, including the revolutionary mobile health operating system mHOS™ and world-class clinical applications like Medical Image Viewer,\\xa0 Admission App and more. With our first major enterprise wide rollout on it's way, Medopad is growing its technical team in preparation for international expansion.At Medopad, You’ll be challenged. You’ll be inspired.\\xa0You’ll be proud. And you’ll be saving lives.\\n    Requirements: Desired skills- Java programming experience.- Solid understanding of Data Structures, Algorithms &amp; Object-Oriented design concepts.- Experience with Multi-threaded programming.- Experience with Network programming (TCP/IP, BSD sockets).- Experience in developing software for the Linux environment (Ubuntu, Redhat/CentOS).- Experience in shell scripting (preferably Bash).- Experience with source control management, especially Git.- Excellent oral and written communication skills in English.\\n    Location: GB, LND, London\\n    Telecommuting: No\\n    \"], 'similarity_scores': [0.6, 0.5, 0.33333334, 0.25, 0.2], 'retrieved_job_posting': \"Director of Software Engineering Company: #URL_ddb080358fa5eecf5a67c649cfb4ffc343c484389f1bbaf2a1cb071e3f2b6e7e# and Aptitude Staffing Solutions have partnered up in an effort to streamline the hiring process and provide a more efficient and effective recruitng model.\\xa0 Our focus is to help develop and achieve your career goals while makeing\\n    Job Id: 10397\\n    Description: As Director of Software Engineering's newly forming New York development team, you will be a “player-coach” who will contribute to and drive high-level architecture and planning, manage day-to-day issues, as well as roll up your sleeves and code when necessary. Responsibilities:\\xa0Inspire, mentor and lead our superb 30+ person engineering team using your experience and deep understanding of both leading-edge technologies and of motivation and leadership;Drive the aggressive growth and organization of Software Engineering as we double in size again over the next year;Contribute new technical insights and help decide design directions, while preserving the core cultural values that define #URL_ddb080358fa5eecf5a67c649cfb4ffc343c484389f1bbaf2a1cb071e3f2b6e7e# Engineering today, including: high level of personal performance; mutual trust; taking personal responsibility; flat &amp; informal organization; integrity; and a mutually supportive environment.\\n    Requirements:  Requirements:\\xa0At least 10+ years in software development and increasing team management responsibilitiesStrong technical skills, including object-oriented design skills, familiarity with developing sophisticated and scalable web services infrastructures, high-performance backend platformsBS or MS in CS or Engineering desirableExcellent hands-on experience in C/C++ or JavaStrong familiarity with Linux, MySQL, and modern big data management approaches is very useful.With headquarters in San Mateo, CA and offices around the world, is one of the leading technology companies in the high-growth video advertising industry. Comscore consistently ranks #URL_ddb080358fa5eecf5a67c649cfb4ffc343c484389f1bbaf2a1cb071e3f2b6e7e# (along with YouTube and Hulu) as one of the top 3 video ad platforms. We are experiencing explosive demand for our platform and services, and this is driving our aggressive growth in all parts of the company. We have doubled in size in the past year, and our growth has created a new opportunity for an aggressive, hands-on and visionary software leader who can help us grow even faster.\\xa0\\xa0\\xa0\\n    Location: US, CA, San Mateo\\n    Telecommuting: No\\n    \"}, data={'retrieved_context_ids': [10397, 13277, 4145, 16661, 5817], 'retrieved_context': [\"Director of Software Engineering Company: #URL_ddb080358fa5eecf5a67c649cfb4ffc343c484389f1bbaf2a1cb071e3f2b6e7e# and Aptitude Staffing Solutions have partnered up in an effort to streamline the hiring process and provide a more efficient and effective recruitng model.\\xa0 Our focus is to help develop and achieve your career goals while makeing\\n    Job Id: 10397\\n    Description: As Director of Software Engineering's newly forming New York development team, you will be a “player-coach” who will contribute to and drive high-level architecture and planning, manage day-to-day issues, as well as roll up your sleeves and code when necessary. Responsibilities:\\xa0Inspire, mentor and lead our superb 30+ person engineering team using your experience and deep understanding of both leading-edge technologies and of motivation and leadership;Drive the aggressive growth and organization of Software Engineering as we double in size again over the next year;Contribute new technical insights and help decide design directions, while preserving the core cultural values that define #URL_ddb080358fa5eecf5a67c649cfb4ffc343c484389f1bbaf2a1cb071e3f2b6e7e# Engineering today, including: high level of personal performance; mutual trust; taking personal responsibility; flat &amp; informal organization; integrity; and a mutually supportive environment.\\n    Requirements:  Requirements:\\xa0At least 10+ years in software development and increasing team management responsibilitiesStrong technical skills, including object-oriented design skills, familiarity with developing sophisticated and scalable web services infrastructures, high-performance backend platformsBS or MS in CS or Engineering desirableExcellent hands-on experience in C/C++ or JavaStrong familiarity with Linux, MySQL, and modern big data management approaches is very useful.With headquarters in San Mateo, CA and offices around the world, is one of the leading technology companies in the high-growth video advertising industry. Comscore consistently ranks #URL_ddb080358fa5eecf5a67c649cfb4ffc343c484389f1bbaf2a1cb071e3f2b6e7e# (along with YouTube and Hulu) as one of the top 3 video ad platforms. We are experiencing explosive demand for our platform and services, and this is driving our aggressive growth in all parts of the company. We have doubled in size in the past year, and our growth has created a new opportunity for an aggressive, hands-on and visionary software leader who can help us grow even faster.\\xa0\\xa0\\xa0\\n    Location: US, CA, San Mateo\\n    Telecommuting: No\\n    \", 'Linux System Administrator Company: Not Available\\n    Job Id: 13277\\n    Description: UnoTelly is a DNS &amp; VPN service that allows users to access geo-restricted content no matter where they are in the world!We are seeking a dynamic network administrator to join our growing team in our new downtown Toronto office location. Do you derive satisfaction from seeing your work go live and help real customers from around the world? We ship and ship often! We are looking for a motivated network administrator who enjoys working on the many aspects of our expanding software products. Your responsibility will be to manage our server infrastructure to ensure 99.999% uptime. You will also dabble between playing around with the Unix/Linux distros, optimizing TCP/IP stack and some fun coding.We offer a challenging yet nurturing work environment where everyone is given the opportunity to learn and grow. We always welcome new ideas and value individuals who take initiative. At UnoTelly, we foster creative and collaborative energy by encouraging our staff to take risks, ask questions and engage in meaningful dialogue.To find out more about UnoTelly, please explore our company website.\\n    Requirements: *Skills &amp; Requirements:Minimum 5 years of system and networking experienceIPv4/IPv6, TCP/IP, DNSMRTG, Cacti, Netflow, NAGIOSRADIUS, FREERADIUS, SNMP,NTP, LDAPBGP, OSPF, EIGRPStrong network trouble-shooting skills including the use of utilities such as tcpdump, wireshark, nmap, etc. to quickly identify root causes of network issues.Solid TCP/IP networking foundation including Layer 2 &amp; Layer 3 switches, routing, subnetting, HSRP, stacking, VPN, ACLs, VLANs, VCLs, packet capture/analysis, and NAT configuration.Load Balancing, HA ClusteringMysql Cluster and replication, mysql optimization and indexingApache, Nginx, lighttpdOpenVPNShell and Perl scripting (Java, PHP, python bonus)RAIDKVM/XEN and other virtualization technologyCompile packagesKernel tunings, patching, recompiling and building modulesBGP, PeeringRedHat, Debian, CentOS, Ubuntu, FreeBSDiptables, iproute2, IPSECFamiliar with CDN(Akamai, Edgecast, etc.)Familiar with GeoDNSAbility to discern a network vs. system issueNormal business hour and after-hour on-call rotation to respond to critical issuesKnowledgeable with Red Hat package management (rpm and yum, building rpms, maintaining a yum repo)Familiar with video streaming (adaptive bitrate streaming etc.)*How to Apply:Please submit your cover letter &amp; resume in care of Nick.Your cover letter should include answers to the following questions:1. Why do you think you are an awesome system administrator?2. Describe a situation in your work-life where you failed.3. Describe a time when you accomplished something you thought was impossible (can be work-related or personal).\\n    Location: CA, ON, Toronto\\n    Telecommuting: No\\n    ', \"Sr. Systems Developer Company: We design, deploy, and maintain advanced technologies\\xa0that enable our customers to achieve operational excellence at substantial OpEx savings.\\xa0Our core strengths include a concentration on networks, their security &amp; optimization with a laser focus on redefining the fulfillment experience. We are\\n    Job Id: 4145\\n    Description: We are looking for highly skilled developer to join a fast-paced, dynamic and challenging environment managing a global cutting edge security infrastructure.\\xa0We're seeking extremely motivated, self-directing individuals that demonstrate a natural curiosity and innate interest in technology and security. All candidates must possess a sincere interest in the technological beyond their day to day work responsibilities. Candidates must demonstrate very strong conceptual understanding of security and networking and the ability to work in a global team environment.This is for direct full time employment in midtown Manhattan. Salary is open, based on experience.\\n    Requirements: Practical Knowledge &amp; Experience:Strong research, analytical and problem solving skillsAbility to write/debug administrative and reporting tools in one of the the following\\xa0programming languages: Perl/Shell or Python, desired; Java, C/C++, RubySolid understanding of a Linux/UNIX-based operating systemnderstands paging and swapping, inter-process communication,\\xa0filesystem concepts (inode, clustering, logical\\xa0partitions)Experience with host security (e.g., passwords, uids/gids, SIDs, file\\xa0permissions, ACLs, filesystem integrity, use of security packages)Knowledge of Palantir or any SIEM productKnowledge of E-mail – Sendmail and/or PostfixExperience with any of the following systems management and monitoring :\\xa0Empire Sysedge/SNMP, Nagios or similarExperience with MIT Kerberos, RSA SecurID, Radius, SPNEGOKnowledge of RIA technologies such as Flex, Silverlight, extJS, GWTPenetration testing tools like Tenable Nessus, Qualys, Skipfish, Flawfinder,\\xa0SWIFTBigData: Hadoop, Elasticsearch/SolRXML/REST/SOAP\\n    Location: US, NY, New York\\n    Telecommuting: No\\n    \", 'Ruby on Rails/HTML/Java Developer  Company: Not Available\\n    Job Id: 16661\\n    Description: Ruby on Rails Web Engineer (RoR)Now Hiring\\xa0Ruby on Rails Web Engineer\\xa0for one of our client in\\xa0Long Beach, CAJob Role :\\xa0Ruby on Rails DeveloperJob Function :\\xa0Web DeveloperJob Industry :\\xa0Financial ServicesJob Type :\\xa0Full-TimeJob Level :\\xa0Mid - SeniorJob Location :\\xa0Long Beach, CASkills and Experience Required/PreferredDesired Skills &amp; ExperienceObject-oriented background5+ yearsexperience with full lifecycle software development5+ yearsexperience with validatingHTML2+ yearsexperience with Ruby on Rails5+ yearsexperience with CSSExperience with Red-Green-Refactor development (TDD)Knowledge on PostgresSQL and T-SQLExperience with any of the NoSQL variant, preferably RedisPreferred Skills:Development for a high-traffic, mission-critical websiteWorking knowledge of SEOResponsive web and mobile web developmentThe Compensation:Best in IndustryNote:\\xa0For U.S. Citizens / Green Card / EAD / Visa Candidates Only.Interested professionals please apply for the job with your updated resume.\\n    Requirements: Not Available\\n    Location: US, CA, Long Beach\\n    Telecommuting: No\\n    ', \"Java Developer Company: Medopad is the leading enterprise\\xa0mobile health solution that delivers patient information and clinical applications straight into the palm of a doctor’s hand.\\xa0The Medopad mobile health operating system mHOS™ enables near realtime access to patient information and more. As a result doctors can use t\\n    Job Id: 5817\\n    Description: Medopad’s Technology Unit is looking for a talented and passionate Java Developer to help build the next generation of its world class back end infrastructure focusing on our mobile health operating system mHOS™ data management and realtime processing capabilities.Our software engineers are the brains behind some of the healthcare industry’s breakthroughs, including the revolutionary mobile health operating system mHOS™ and world-class clinical applications like Medical Image Viewer,\\xa0 Admission App and more. With our first major enterprise wide rollout on it's way, Medopad is growing its technical team in preparation for international expansion.At Medopad, You’ll be challenged. You’ll be inspired.\\xa0You’ll be proud. And you’ll be saving lives.\\n    Requirements: Desired skills- Java programming experience.- Solid understanding of Data Structures, Algorithms &amp; Object-Oriented design concepts.- Experience with Multi-threaded programming.- Experience with Network programming (TCP/IP, BSD sockets).- Experience in developing software for the Linux environment (Ubuntu, Redhat/CentOS).- Experience in shell scripting (preferably Bash).- Experience with source control management, especially Git.- Excellent oral and written communication skills in English.\\n    Location: GB, LND, London\\n    Telecommuting: No\\n    \"], 'similarity_scores': [0.6, 0.5, 0.33333334, 0.25, 0.2], 'retrieved_job_posting': \"Director of Software Engineering Company: #URL_ddb080358fa5eecf5a67c649cfb4ffc343c484389f1bbaf2a1cb071e3f2b6e7e# and Aptitude Staffing Solutions have partnered up in an effort to streamline the hiring process and provide a more efficient and effective recruitng model.\\xa0 Our focus is to help develop and achieve your career goals while makeing\\n    Job Id: 10397\\n    Description: As Director of Software Engineering's newly forming New York development team, you will be a “player-coach” who will contribute to and drive high-level architecture and planning, manage day-to-day issues, as well as roll up your sleeves and code when necessary. Responsibilities:\\xa0Inspire, mentor and lead our superb 30+ person engineering team using your experience and deep understanding of both leading-edge technologies and of motivation and leadership;Drive the aggressive growth and organization of Software Engineering as we double in size again over the next year;Contribute new technical insights and help decide design directions, while preserving the core cultural values that define #URL_ddb080358fa5eecf5a67c649cfb4ffc343c484389f1bbaf2a1cb071e3f2b6e7e# Engineering today, including: high level of personal performance; mutual trust; taking personal responsibility; flat &amp; informal organization; integrity; and a mutually supportive environment.\\n    Requirements:  Requirements:\\xa0At least 10+ years in software development and increasing team management responsibilitiesStrong technical skills, including object-oriented design skills, familiarity with developing sophisticated and scalable web services infrastructures, high-performance backend platformsBS or MS in CS or Engineering desirableExcellent hands-on experience in C/C++ or JavaStrong familiarity with Linux, MySQL, and modern big data management approaches is very useful.With headquarters in San Mateo, CA and offices around the world, is one of the leading technology companies in the high-growth video advertising industry. Comscore consistently ranks #URL_ddb080358fa5eecf5a67c649cfb4ffc343c484389f1bbaf2a1cb071e3f2b6e7e# (along with YouTube and Hulu) as one of the top 3 video ad platforms. We are experiencing explosive demand for our platform and services, and this is driving our aggressive growth in all parts of the company. We have doubled in size in the past year, and our growth has created a new opportunity for an aggressive, hands-on and visionary software leader who can help us grow even faster.\\xa0\\xa0\\xa0\\n    Location: US, CA, San Mateo\\n    Telecommuting: No\\n    \"}, is_error=False)"
      ]
     },
     "execution_count": 25,
     "metadata": {},
     "output_type": "execute_result"
    }
   ],
   "source": [
    "result"
   ]
  },
  {
   "cell_type": "code",
   "execution_count": null,
   "id": "c7d3b676",
   "metadata": {},
   "outputs": [],
   "source": []
  }
 ],
 "metadata": {
  "kernelspec": {
   "display_name": ".venv",
   "language": "python",
   "name": "python3"
  },
  "language_info": {
   "codemirror_mode": {
    "name": "ipython",
    "version": 3
   },
   "file_extension": ".py",
   "mimetype": "text/x-python",
   "name": "python",
   "nbconvert_exporter": "python",
   "pygments_lexer": "ipython3",
   "version": "3.12.10"
  }
 },
 "nbformat": 4,
 "nbformat_minor": 5
}
