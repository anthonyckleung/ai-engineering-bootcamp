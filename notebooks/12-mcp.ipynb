{
 "cells": [
  {
   "cell_type": "code",
   "execution_count": 15,
   "id": "87d31e0c",
   "metadata": {},
   "outputs": [],
   "source": [
    "from fastmcp import Client\n",
    "\n",
    "from pydantic import BaseModel, Field\n",
    "\n",
    "from qdrant_client import QdrantClient\n",
    "from qdrant_client.models import Prefetch, Filter, FieldCondition, MatchText, FusionQuery\n",
    "\n",
    "from langsmith import traceable, get_current_run_tree\n",
    "\n",
    "from langgraph.graph import StateGraph, START, END\n",
    "from langgraph.prebuilt import ToolNode\n",
    "\n",
    "from langchain_core.messages import AIMessage, ToolMessage\n",
    "\n",
    "from jinja2 import Template\n",
    "from typing import Literal, Dict, Any, Annotated, List, Optional, Union\n",
    "from IPython.display import Image, display\n",
    "from operator import add\n",
    "from openai import OpenAI\n",
    "\n",
    "import openai\n",
    "\n",
    "import random\n",
    "import ast\n",
    "import inspect\n",
    "import instructor\n",
    "import json"
   ]
  },
  {
   "cell_type": "code",
   "execution_count": 3,
   "id": "f23fac99",
   "metadata": {},
   "outputs": [],
   "source": [
    "client = Client(\"http://localhost:8001/mcp\")\n",
    "\n",
    "async with client:\n",
    "    tools = await client.list_tools()"
   ]
  },
  {
   "cell_type": "code",
   "execution_count": 4,
   "id": "f307860d",
   "metadata": {},
   "outputs": [
    {
     "data": {
      "text/plain": [
       "[Tool(name='get_formatted_context', title=None, description='Get the top k context, each representing an job posting for a given query.\\n\\nArgs:\\n    query: The query to get the top k context for\\n    top_k: The number of context chunks to retrieve, works best with 5 or more\\n\\nReturns:\\n    A dictionary of the top k context chunks with IDs prepending each chunk, each representing job posting for a given query.', inputSchema={'properties': {'query': {'title': 'Query', 'type': 'string'}, 'top_k': {'default': 5, 'title': 'Top K', 'type': 'integer'}}, 'required': ['query'], 'type': 'object'}, outputSchema={'additionalProperties': True, 'type': 'object'}, annotations=None, meta={'_fastmcp': {'tags': []}})]"
      ]
     },
     "execution_count": 4,
     "metadata": {},
     "output_type": "execute_result"
    }
   ],
   "source": [
    "tools"
   ]
  },
  {
   "cell_type": "code",
   "execution_count": 5,
   "id": "81663c5f",
   "metadata": {},
   "outputs": [
    {
     "name": "stdout",
     "output_type": "stream",
     "text": [
      "get_formatted_context\n",
      "Get the top k context, each representing an job posting for a given query.\n",
      "\n",
      "Args:\n",
      "    query: The query to get the top k context for\n",
      "    top_k: The number of context chunks to retrieve, works best with 5 or more\n",
      "\n",
      "Returns:\n",
      "    A dictionary of the top k context chunks with IDs prepending each chunk, each representing job posting for a given query.\n",
      "{'properties': {'query': {'title': 'Query', 'type': 'string'}, 'top_k': {'default': 5, 'title': 'Top K', 'type': 'integer'}}, 'required': ['query'], 'type': 'object'}\n"
     ]
    }
   ],
   "source": [
    "print(tools[0].name)\n",
    "print(tools[0].description)\n",
    "print(tools[0].inputSchema)"
   ]
  },
  {
   "cell_type": "code",
   "execution_count": 9,
   "id": "95bca0aa",
   "metadata": {},
   "outputs": [],
   "source": [
    "client = Client(\"http://localhost:8002/mcp\")\n",
    "\n",
    "async with client:\n",
    "    # List available resources\n",
    "    tools = await client.list_tools()"
   ]
  },
  {
   "cell_type": "code",
   "execution_count": 10,
   "id": "84fc3d3d",
   "metadata": {},
   "outputs": [
    {
     "name": "stdout",
     "output_type": "stream",
     "text": [
      "get_prediction\n",
      "Classifies if a given job posting is real or fake.\n",
      "Uses the top retrieved context from get_formatted_context as input\n",
      "and return classification_result.\n",
      "\n",
      "Args:\n",
      "    text: Input string of the job posting from retrieved_context from get_formatted_context\n",
      "\n",
      "Returns:\n",
      "    A dictionary of the classification label and prediction probability score.\n",
      "{'properties': {'text': {'title': 'Text', 'type': 'string'}}, 'required': ['text'], 'type': 'object'}\n"
     ]
    }
   ],
   "source": [
    "print(tools[0].name)\n",
    "print(tools[0].description)\n",
    "print(tools[0].inputSchema)"
   ]
  },
  {
   "cell_type": "markdown",
   "id": "b32fd16d",
   "metadata": {},
   "source": [
    "# Utils function - Extract tool definitions from all available tools in MCP serves"
   ]
  },
  {
   "cell_type": "code",
   "execution_count": 7,
   "id": "7fbdd973",
   "metadata": {},
   "outputs": [],
   "source": [
    "def parse_docstring_params(docstring: str) -> Dict[str, str]:\n",
    "    \"\"\"Extract parameter descriptions from docstring (handles both Args: and Parameters: formats).\"\"\"\n",
    "    params = {}\n",
    "    lines = docstring.split('\\n')\n",
    "    in_params = False\n",
    "    current_param = None\n",
    "    \n",
    "    for line in lines:\n",
    "        stripped = line.strip()\n",
    "        \n",
    "        # Check for parameter section start\n",
    "        if stripped in ['Args:', 'Arguments:', 'Parameters:', 'Params:']:\n",
    "            in_params = True\n",
    "            current_param = None\n",
    "        elif stripped.startswith('Returns:') or stripped.startswith('Raises:'):\n",
    "            in_params = False\n",
    "        elif in_params:\n",
    "            # Parse parameter line (handles \"param: desc\" and \"- param: desc\" formats)\n",
    "            if ':' in stripped and (stripped[0].isalpha() or stripped.startswith(('-', '*'))):\n",
    "                param_name = stripped.lstrip('- *').split(':')[0].strip()\n",
    "                param_desc = ':'.join(stripped.lstrip('- *').split(':')[1:]).strip()\n",
    "                params[param_name] = param_desc\n",
    "                current_param = param_name\n",
    "            elif current_param and stripped:\n",
    "                # Continuation of previous parameter description\n",
    "                params[current_param] += ' ' + stripped\n",
    "    \n",
    "    return params"
   ]
  },
  {
   "cell_type": "code",
   "execution_count": 8,
   "id": "6740d976",
   "metadata": {},
   "outputs": [],
   "source": [
    "async def get_tool_descriptions_from_mcp_servers(mcp_servers: list[str]) -> list[dict]:\n",
    "\n",
    "    tool_descriptions = []\n",
    "\n",
    "    for server in mcp_servers:\n",
    "\n",
    "        client = Client(server)\n",
    "\n",
    "        async with client:\n",
    "\n",
    "            tools = await client.list_tools()\n",
    "\n",
    "            for tool in tools:\n",
    "                \n",
    "                result = {\n",
    "                    \"name\": \"\",\n",
    "                    \"description\": \"\",\n",
    "                    \"parameters\": {\"type\": \"object\", \"properties\": {}},\n",
    "                    \"required\": [],\n",
    "                    \"returns\": {\"type\": \"string\", \"description\": \"\"},\n",
    "                    \"server\": server\n",
    "                }\n",
    "\n",
    "                result[\"name\"] = tool.name\n",
    "                result[\"required\"] = tool.inputSchema.get(\"required\", [])\n",
    "\n",
    "                ## Get Description\n",
    "\n",
    "                description = tool.description.split(\"\\n\\n\")[0]\n",
    "                result[\"description\"] = description\n",
    "\n",
    "\n",
    "                ## Get Returns\n",
    "\n",
    "                returns = tool.description.split(\"Returns:\")[1].strip()\n",
    "                result[\"returns\"][\"description\"] = returns\n",
    "\n",
    "                ## Get parameters\n",
    "\n",
    "                property_descriptions = parse_docstring_params(tool.description)\n",
    "                properties = tool.inputSchema.get(\"properties\", {})\n",
    "                for key, value in properties.items():\n",
    "                    properties[key][\"description\"] = property_descriptions.get(key, \"\")\n",
    "\n",
    "                result[\"parameters\"][\"properties\"] = properties\n",
    "\n",
    "                tool_descriptions.append(result)\n",
    "\n",
    "    return tool_descriptions"
   ]
  },
  {
   "cell_type": "code",
   "execution_count": 11,
   "id": "735fae46",
   "metadata": {},
   "outputs": [],
   "source": [
    "mcp_servers = [\"http://localhost:8001/mcp\", \"http://localhost:8002/mcp\"]"
   ]
  },
  {
   "cell_type": "code",
   "execution_count": 13,
   "id": "dc3201c3",
   "metadata": {},
   "outputs": [
    {
     "data": {
      "text/plain": [
       "[{'name': 'get_formatted_context',\n",
       "  'description': 'Get the top k context, each representing an job posting for a given query.',\n",
       "  'parameters': {'type': 'object',\n",
       "   'properties': {'query': {'title': 'Query',\n",
       "     'type': 'string',\n",
       "     'description': 'The query to get the top k context for'},\n",
       "    'top_k': {'default': 5,\n",
       "     'title': 'Top K',\n",
       "     'type': 'integer',\n",
       "     'description': 'The number of context chunks to retrieve, works best with 5 or more'}}},\n",
       "  'required': ['query'],\n",
       "  'returns': {'type': 'string',\n",
       "   'description': 'A dictionary of the top k context chunks with IDs prepending each chunk, each representing job posting for a given query.'},\n",
       "  'server': 'http://localhost:8001/mcp'},\n",
       " {'name': 'get_prediction',\n",
       "  'description': 'Classifies if a given job posting is real or fake.\\nUses the top retrieved context from get_formatted_context as input\\nand return classification_result.',\n",
       "  'parameters': {'type': 'object',\n",
       "   'properties': {'text': {'title': 'Text',\n",
       "     'type': 'string',\n",
       "     'description': 'Input string of the job posting from retrieved_context from get_formatted_context'}}},\n",
       "  'required': ['text'],\n",
       "  'returns': {'type': 'string',\n",
       "   'description': 'A dictionary of the classification label and prediction probability score.'},\n",
       "  'server': 'http://localhost:8002/mcp'}]"
      ]
     },
     "execution_count": 13,
     "metadata": {},
     "output_type": "execute_result"
    }
   ],
   "source": [
    "tool_descriptions = await get_tool_descriptions_from_mcp_servers(mcp_servers)\n",
    "tool_descriptions"
   ]
  },
  {
   "cell_type": "markdown",
   "id": "9ddc65b7",
   "metadata": {},
   "source": [
    "# Agent integration to MCP Servers"
   ]
  },
  {
   "cell_type": "code",
   "execution_count": 14,
   "id": "65d591c5",
   "metadata": {},
   "outputs": [],
   "source": [
    "def lc_messages_to_regular_messages(msg):\n",
    "\n",
    "    if isinstance(msg, dict):\n",
    "        \n",
    "        if msg.get(\"role\") == \"user\":\n",
    "            return {\"role\": \"user\", \"content\": msg[\"content\"]}\n",
    "        elif msg.get(\"role\") == \"assistant\":\n",
    "            return {\"role\": \"assistant\", \"content\": msg[\"content\"]}\n",
    "        elif msg.get(\"role\") == \"tool\":\n",
    "            return {\n",
    "                \"role\": \"tool\", \n",
    "                \"content\": msg[\"content\"], \n",
    "                \"tool_call_id\": msg.get(\"tool_call_id\")\n",
    "            }\n",
    "        \n",
    "    elif isinstance(msg, AIMessage):\n",
    "\n",
    "        result = {\n",
    "            \"role\": \"assistant\",\n",
    "            \"content\": msg.content\n",
    "        }\n",
    "        \n",
    "        if hasattr(msg, 'tool_calls') and msg.tool_calls and len(msg.tool_calls) > 0 and not msg.tool_calls[0].get(\"name\").startswith(\"functions.\"):\n",
    "            result[\"tool_calls\"] = [\n",
    "                {\n",
    "                    \"id\": tc[\"id\"],\n",
    "                    \"type\": \"function\",\n",
    "                    \"function\": {\n",
    "                        \"name\": tc[\"name\"].replace(\"functions.\", \"\"),\n",
    "                        \"arguments\": json.dumps(tc[\"args\"])\n",
    "                    }\n",
    "                }\n",
    "                for tc in msg.tool_calls\n",
    "            ]\n",
    "            \n",
    "        return result\n",
    "    \n",
    "    elif isinstance(msg, ToolMessage):\n",
    "\n",
    "        return {\"role\": \"tool\", \"content\": msg.content, \"tool_call_id\": msg.tool_call_id}\n",
    "    \n",
    "    else:\n",
    "\n",
    "        return {\"role\": \"user\", \"content\": str(msg)}"
   ]
  },
  {
   "cell_type": "code",
   "execution_count": 16,
   "id": "acf54c59",
   "metadata": {},
   "outputs": [],
   "source": [
    "# Pydantic Models\n",
    "\n",
    "class ToolCall(BaseModel):\n",
    "    name: str\n",
    "    arguments: dict\n",
    "    server: str\n",
    "\n",
    "class RAGUsedContext(BaseModel):\n",
    "    id: int\n",
    "    description: str\n",
    "\n",
    "class AgentResponse(BaseModel):\n",
    "    answer: str\n",
    "    tool_calls: List[ToolCall] = Field(default_factory=list)\n",
    "    final_answer: bool = Field(default=False)\n",
    "    retrieved_context_ids: List[RAGUsedContext]\n",
    "\n",
    "class State(BaseModel):\n",
    "    # existing fields...\n",
    "    messages: Annotated[List[Any], add] = []\n",
    "    answer: str = \"\"\n",
    "    iteration: int = Field(default=0)\n",
    "    final_answer: bool = Field(default=False)\n",
    "    available_tools: List[Dict[str, Any]] = []\n",
    "    tool_calls: Optional[List[ToolCall]] = Field(default_factory=list)\n",
    "    retrieved_context_ids: Annotated[List[RAGUsedContext], add] = []\n",
    "\n",
    "    # NEW fields for classifier integration\n",
    "    retrieved_job_posting: Optional[str] = None            # stores the retrieved job posting text\n",
    "    classification_result: Optional[Dict[str, Union[bool, float, str]]] = None  # store fraud classification result"
   ]
  },
  {
   "cell_type": "markdown",
   "id": "2671a4d9",
   "metadata": {},
   "source": [
    "Agent Node"
   ]
  },
  {
   "cell_type": "code",
   "execution_count": 37,
   "id": "c2d5d007",
   "metadata": {},
   "outputs": [],
   "source": [
    "# Example: you need a dict like this somewhere accessible\n",
    "tool_name_to_server = {\n",
    "    \"get_prediction\": \"http://localhost:8002/mcp\",\n",
    "    \"get_formatted_context\": \"http://localhost:8001/mcp\",\n",
    "    # add all your tools here\n",
    "}"
   ]
  },
  {
   "cell_type": "code",
   "execution_count": null,
   "id": "9ed2739e",
   "metadata": {},
   "outputs": [],
   "source": [
    "@traceable(\n",
    "    name=\"agent_node\",\n",
    "    run_type=\"llm\",\n",
    "    metadata={\"ls_provider\": \"openai\", \"ls_model_name\": \"gpt-4.1-mini\"}\n",
    ")\n",
    "def agent_node(state: State) -> dict:\n",
    "\n",
    "   prompt_template =  \"\"\"You are a Fraud Analyst Assistant. The user is a Fraud Analyst and your job is to determine whether a job posting is real or fraudulent. \n",
    "        Use your knowledge of common fraud indicators, best practices for job verification, and any relevant information you can retrieve to support your answer.\n",
    "        Always explain your reasoning and provide actionable advice. \n",
    "\n",
    "        User may provide either the full job posting text, job title, or a job ID. \n",
    "\n",
    "        If a job ID is provided, retrieve the corresponding job posting details using `get_formatted_context` before analysis.\n",
    "\n",
    "You will be given a question and a list of tools you can use to answer that question.\n",
    "\n",
    "If the user specifically requests classification on a job posting to tell if it is real or fake, \n",
    "you should first retrieve the posting using the `get_formatted_context` tool if you haven't already, \n",
    "then call the `get_prediction` to classify it.\n",
    "\n",
    "<Available tools>\n",
    "{{ available_tools | tojson }}\n",
    "</Available tools>\n",
    "\n",
    "When calling tools, always use:\n",
    "\n",
    "<tool_call>\n",
    "{\"name\": \"tool_name\", \"arguments\": {...}}\n",
    "</tool_call>\n",
    "\n",
    "Use names specifically provided in the available tools. Don't add any additional text to the names.\n",
    "\n",
    "You should tend to use tools when additional information is needed to answer the question.\n",
    "\n",
    "If you set final_answer to True, you should not use any tools.\n",
    "\n",
    "If you have already retrieved a job posting and need to assess if it's fraudulent, you should use the `ml_classifier_tool`.\n",
    "\n",
    "\n",
    "Instructions:\n",
    "   1. Carefully analyze the provided job details and user input above.\n",
    "   2. Use up-to-date information about job scams, legitimate job ad characteristics, and known fraud patterns.\n",
    "   3. Provide a clear verdict: \"Likely Real\", \"Likely Fraudulent\", or \"Uncertain\".\n",
    "   4. Explain your reasoning with specific evidence from the posting, user input, and retrieved information.\n",
    "   5. List any red flags or positive signs you identified.\n",
    "   6. Offer actionable advice to the user.\n",
    "\"\"\"\n",
    "\n",
    "   template = Template(prompt_template)\n",
    "   \n",
    "   prompt = template.render(\n",
    "      available_tools=state.available_tools\n",
    "   )\n",
    "\n",
    "   messages = state.messages\n",
    "\n",
    "   conversation = []\n",
    "\n",
    "   for msg in messages:\n",
    "      conversation.append(lc_messages_to_regular_messages(msg))\n",
    "\n",
    "   client = instructor.from_openai(OpenAI())\n",
    "\n",
    "   response, raw_response = client.chat.completions.create_with_completion(\n",
    "        model=\"gpt-4.1-mini\",\n",
    "        response_model=AgentResponse,\n",
    "        messages=[{\"role\": \"system\", \"content\": prompt}, *conversation],xq\n",
    "        temperature=0.5,\n",
    "   )\n",
    "\n",
    "    # Enrich tool calls with the 'server' field\n",
    "   enriched_tool_calls = []\n",
    "   for tc in response.tool_calls:\n",
    "      server_url = tool_name_to_server.get(tc.name)\n",
    "      if server_url is None:\n",
    "         raise ValueError(f\"No server URL configured for tool '{tc.name}'\")\n",
    "      enriched_tool_calls.append(\n",
    "         ToolCall(name=tc.name, arguments=tc.arguments, server=server_url)\n",
    "      )\n",
    "\n",
    "\n",
    "   # if response.tool_calls:\n",
    "   #    tool_calls = []\n",
    "   #    for i, tc in enumerate(response.tool_calls):\n",
    "   #       tool_calls.append({\n",
    "   #             \"id\": f\"call_{i}\",\n",
    "   #             \"name\": tc.name,\n",
    "   #             \"args\": tc.arguments\n",
    "   #       })\n",
    "\n",
    "   #    ai_message = AIMessage(\n",
    "   #       content=response.answer,\n",
    "   #       tool_calls=tool_calls\n",
    "   #       )\n",
    "   # else:\n",
    "   #    ai_message = AIMessage(\n",
    "   #       content=response.answer,\n",
    "   #    )\n",
    "    # Prepare tool calls for AIMessage\n",
    "   ai_message_tool_calls = []\n",
    "   for i, tc in enumerate(enriched_tool_calls):\n",
    "      ai_message_tool_calls.append({\n",
    "         \"id\": f\"call_{i}\",\n",
    "         \"name\": tc.name,\n",
    "         \"args\": tc.arguments\n",
    "      })\n",
    "\n",
    "   if enriched_tool_calls:\n",
    "      ai_message = AIMessage(\n",
    "         content=response.answer,\n",
    "         tool_calls=ai_message_tool_calls\n",
    "      )\n",
    "   else:\n",
    "      ai_message = AIMessage(\n",
    "         content=response.answer,\n",
    "      )\n",
    "\n",
    "   print(\"[DEBUG] tool_calls so far:\",  enriched_tool_calls)\n",
    "\n",
    "   return {\n",
    "      \"messages\": [ai_message],\n",
    "      \"tool_calls\": enriched_tool_calls,\n",
    "      \"iteration\": state.iteration + 1,\n",
    "      \"answer\": response.answer,\n",
    "      \"final_answer\": response.final_answer,\n",
    "      \"retrieved_context_ids\": response.retrieved_context_ids\n",
    "   }"
   ]
  },
  {
   "cell_type": "code",
   "execution_count": 39,
   "id": "e25d46e3",
   "metadata": {},
   "outputs": [],
   "source": [
    "def tool_router(state: State) -> str:\n",
    "    \"\"\"Decide whether to continue or end\"\"\"\n",
    "    \n",
    "    if state.final_answer:\n",
    "        return \"end\"\n",
    "    elif state.iteration > 2:\n",
    "        return \"end\"\n",
    "    elif len(state.tool_calls) > 0:\n",
    "        return \"tools\"\n",
    "    else:\n",
    "        return \"end\""
   ]
  },
  {
   "cell_type": "markdown",
   "id": "a7e0fb65",
   "metadata": {},
   "source": [
    "Custom tool node function that supports running tools exposed via MCP Serves"
   ]
  },
  {
   "cell_type": "code",
   "execution_count": 40,
   "id": "a4246c43",
   "metadata": {},
   "outputs": [],
   "source": [
    "async def mcp_tool_node(state: State) -> str:\n",
    "\n",
    "    tool_messages = []\n",
    "\n",
    "    for i, tc in enumerate(state.tool_calls):\n",
    "\n",
    "        client = Client(tc.server)\n",
    "\n",
    "        async with client:\n",
    "\n",
    "            result = await client.call_tool(tc.name, tc.arguments)\n",
    "\n",
    "            tool_message = ToolMessage(\n",
    "                content=result,\n",
    "                tool_call_id=f\"call_{i}\"\n",
    "            )\n",
    "\n",
    "            tool_messages.append(tool_message)\n",
    "\n",
    "    return {\n",
    "        \"messages\": tool_messages\n",
    "    }"
   ]
  },
  {
   "cell_type": "markdown",
   "id": "686f90ad",
   "metadata": {},
   "source": [
    "LangGraph implementation with MCP Support"
   ]
  },
  {
   "cell_type": "code",
   "execution_count": 44,
   "id": "80c30c3c",
   "metadata": {},
   "outputs": [],
   "source": [
    "workflow = StateGraph(State)\n",
    "\n",
    "mcp_servers = [\"http://localhost:8001/mcp\", \"http://localhost:8002/mcp\"]\n",
    "\n",
    "tool_descriptions = await get_tool_descriptions_from_mcp_servers(mcp_servers)\n",
    "\n",
    "workflow.add_node(\"agent_node\", agent_node)\n",
    "workflow.add_node(\"mcp_tool_node\", mcp_tool_node)\n",
    "\n",
    "workflow.add_edge(START, \"agent_node\")\n",
    "\n",
    "workflow.add_conditional_edges(\n",
    "    \"agent_node\",\n",
    "    tool_router,\n",
    "    {\n",
    "        \"tools\": \"mcp_tool_node\",\n",
    "        \"end\": END\n",
    "    }\n",
    ")\n",
    "\n",
    "workflow.add_edge(\"mcp_tool_node\", \"agent_node\")\n",
    "\n",
    "graph = workflow.compile()"
   ]
  },
  {
   "cell_type": "code",
   "execution_count": 45,
   "id": "749cc6ca",
   "metadata": {},
   "outputs": [
    {
     "data": {
      "image/png": "[encoded data removed]",
      "text/plain": [
       "<IPython.core.display.Image object>"
      ]
     },
     "metadata": {},
     "output_type": "display_data"
    }
   ],
   "source": [
    "display(Image(graph.get_graph().draw_mermaid_png()))"
   ]
  },
  {
   "cell_type": "code",
   "execution_count": 42,
   "id": "08f3708d",
   "metadata": {},
   "outputs": [
    {
     "data": {
      "text/plain": [
       "[{'name': 'get_formatted_context',\n",
       "  'description': 'Get the top k context, each representing an job posting for a given query.',\n",
       "  'parameters': {'type': 'object',\n",
       "   'properties': {'query': {'title': 'Query',\n",
       "     'type': 'string',\n",
       "     'description': 'The query to get the top k context for'},\n",
       "    'top_k': {'default': 5,\n",
       "     'title': 'Top K',\n",
       "     'type': 'integer',\n",
       "     'description': 'The number of context chunks to retrieve, works best with 5 or more'}}},\n",
       "  'required': ['query'],\n",
       "  'returns': {'type': 'string',\n",
       "   'description': 'A dictionary of the top k context chunks with IDs prepending each chunk, each representing job posting for a given query.'},\n",
       "  'server': 'http://localhost:8001/mcp'},\n",
       " {'name': 'get_prediction',\n",
       "  'description': 'Classifies if a given job posting is real or fake.\\nUses the top retrieved context from get_formatted_context as input\\nand return classification_result.',\n",
       "  'parameters': {'type': 'object',\n",
       "   'properties': {'text': {'title': 'Text',\n",
       "     'type': 'string',\n",
       "     'description': 'Input string of the job posting from retrieved_context from get_formatted_context'}}},\n",
       "  'required': ['text'],\n",
       "  'returns': {'type': 'string',\n",
       "   'description': 'A dictionary of the classification label and prediction probability score.'},\n",
       "  'server': 'http://localhost:8002/mcp'}]"
      ]
     },
     "execution_count": 42,
     "metadata": {},
     "output_type": "execute_result"
    }
   ],
   "source": [
    "tool_descriptions"
   ]
  },
  {
   "cell_type": "code",
   "execution_count": 46,
   "id": "4f18129e",
   "metadata": {},
   "outputs": [
    {
     "name": "stdout",
     "output_type": "stream",
     "text": [
      "[DEBUG] tool_calls so far: [ToolCall(name='get_formatted_context', arguments={'query': 'job_id 10397', 'top_k': 1}, server='http://localhost:8001/mcp')]\n",
      "[DEBUG] tool_calls so far: [ToolCall(name='get_prediction', arguments={'text': \"Director of Software Engineering Company: #URL_ddb080358fa5eecf5a67c649cfb4ffc343c484389f1bbaf2a1cb071e3f2b6e7e# and Aptitude Staffing Solutions have partnered up in an effort to streamline the hiring process and provide a more efficient and effective recruitng model. Our focus is to help develop and achieve your career goals while makeing Job Id: 10397 Description: As Director of Software Engineering's newly forming New York development team, you will be a “player-coach” who will contribute to and drive high-level architecture and planning, manage day-to-day issues, as well as roll up your sleeves and code when necessary. Responsibilities: Inspire, mentor and lead our superb 30+ person engineering team using your experience and deep understanding of both leading-edge technologies and of motivation and leadership; Drive the aggressive growth and organization of Software Engineering as we double in size again over the next year; Contribute new technical insights and help decide design directions, while preserving the core cultural values that define #URL_ddb080358fa5eecf5a67c649cfb4ffc343c484389f1bbaf2a1cb071e3f2b6e7e# Engineering today, including: high level of personal performance; mutual trust; taking personal responsibility; flat & informal organization; integrity; and a mutually supportive environment. Requirements: Requirements: At least 10+ years in software development and increasing team management responsibilities Strong technical skills, including object-oriented design skills, familiarity with developing sophisticated and scalable web services infrastructures, high-performance backend platforms BS or MS in CS or Engineering desirable Excellent hands-on experience in C/C++ or Java Strong familiarity with Linux, MySQL, and modern big data management approaches is very useful. With headquarters in San Mateo, CA and offices around the world, is one of the leading technology companies in the high-growth video advertising industry. Comscore consistently ranks #URL_ddb080358fa5eecf5a67c649cfb4ffc343c484389f1bbaf2a1cb071e3f2b6e7e# (along with YouTube and Hulu) as one of the top 3 video ad platforms. We are experiencing explosive demand for our platform and services, and this is driving our aggressive growth in all parts of the company. We have doubled in size in the past year, and our growth has created a new opportunity for an aggressive, hands-on and visionary software leader who can help us grow even faster. Location: US, CA, San Mateo Telecommuting: No\"}, server='http://localhost:8002/mcp')]\n",
      "[DEBUG] tool_calls so far: []\n"
     ]
    }
   ],
   "source": [
    "initial_state = {\n",
    "    \"messages\": [{\"role\": \"user\", \"content\": \"Tell me if the following job postings with job_id 10397 is real or not. Use fraud classification model on the posting if available.\"}],\n",
    "    \"available_tools\": tool_descriptions\n",
    "}\n",
    "result = await graph.ainvoke(initial_state)"
   ]
  },
  {
   "cell_type": "code",
   "execution_count": 47,
   "id": "b389c1ca",
   "metadata": {},
   "outputs": [
    {
     "data": {
      "text/plain": [
       "{'messages': [{'role': 'user',\n",
       "   'content': 'Tell me if the following job postings with job_id 10397 is real or not. Use fraud classification model on the posting if available.'},\n",
       "  AIMessage(content='', additional_kwargs={}, response_metadata={}, tool_calls=[{'name': 'get_formatted_context', 'args': {'query': 'job_id 10397', 'top_k': 1}, 'id': 'call_0', 'type': 'tool_call'}]),\n",
       "  ToolMessage(content='CallToolResult(content=[TextContent(type=\\'text\\', text=\\'{\"retrieved_context_ids\":[1],\"retrieved_context\":[\"Director of Software Engineering Company: #URL_ddb080358fa5eecf5a67c649cfb4ffc343c484389f1bbaf2a1cb071e3f2b6e7e# and Aptitude Staffing Solutions have partnered up in an effort to streamline the hiring process and provide a more efficient and effective recruitng model.\\\\xa0 Our focus is to help develop and achieve your career goals while makeing\\\\\\\\n    Job Id: 10397\\\\\\\\n    Description: As Director of Software Engineering\\\\\\'s newly forming New York development team, you will be a “player-coach” who will contribute to and drive high-level architecture and planning, manage day-to-day issues, as well as roll up your sleeves and code when necessary. Responsibilities:\\\\xa0Inspire, mentor and lead our superb 30+ person engineering team using your experience and deep understanding of both leading-edge technologies and of motivation and leadership;Drive the aggressive growth and organization of Software Engineering as we double in size again over the next year;Contribute new technical insights and help decide design directions, while preserving the core cultural values that define #URL_ddb080358fa5eecf5a67c649cfb4ffc343c484389f1bbaf2a1cb071e3f2b6e7e# Engineering today, including: high level of personal performance; mutual trust; taking personal responsibility; flat &amp; informal organization; integrity; and a mutually supportive environment.\\\\\\\\n    Requirements:  Requirements:\\\\xa0At least 10+ years in software development and increasing team management responsibilitiesStrong technical skills, including object-oriented design skills, familiarity with developing sophisticated and scalable web services infrastructures, high-performance backend platformsBS or MS in CS or Engineering desirableExcellent hands-on experience in C/C++ or JavaStrong familiarity with Linux, MySQL, and modern big data management approaches is very useful.With headquarters in San Mateo, CA and offices around the world, is one of the leading technology companies in the high-growth video advertising industry. Comscore consistently ranks #URL_ddb080358fa5eecf5a67c649cfb4ffc343c484389f1bbaf2a1cb071e3f2b6e7e# (along with YouTube and Hulu) as one of the top 3 video ad platforms. We are experiencing explosive demand for our platform and services, and this is driving our aggressive growth in all parts of the company. We have doubled in size in the past year, and our growth has created a new opportunity for an aggressive, hands-on and visionary software leader who can help us grow even faster.\\\\xa0\\\\xa0\\\\xa0\\\\\\\\n    Location: US, CA, San Mateo\\\\\\\\n    Telecommuting: No\\\\\\\\n    \"],\"similarity_scores\":[0.6111111],\"retrieved_job_posting\":\"Director of Software Engineering Company: #URL_ddb080358fa5eecf5a67c649cfb4ffc343c484389f1bbaf2a1cb071e3f2b6e7e# and Aptitude Staffing Solutions have partnered up in an effort to streamline the hiring process and provide a more efficient and effective recruitng model.\\\\xa0 Our focus is to help develop and achieve your career goals while makeing\\\\\\\\n    Job Id: 10397\\\\\\\\n    Description: As Director of Software Engineering\\\\\\'s newly forming New York development team, you will be a “player-coach” who will contribute to and drive high-level architecture and planning, manage day-to-day issues, as well as roll up your sleeves and code when necessary. Responsibilities:\\\\xa0Inspire, mentor and lead our superb 30+ person engineering team using your experience and deep understanding of both leading-edge technologies and of motivation and leadership;Drive the aggressive growth and organization of Software Engineering as we double in size again over the next year;Contribute new technical insights and help decide design directions, while preserving the core cultural values that define #URL_ddb080358fa5eecf5a67c649cfb4ffc343c484389f1bbaf2a1cb071e3f2b6e7e# Engineering today, including: high level of personal performance; mutual trust; taking personal responsibility; flat &amp; informal organization; integrity; and a mutually supportive environment.\\\\\\\\n    Requirements:  Requirements:\\\\xa0At least 10+ years in software development and increasing team management responsibilitiesStrong technical skills, including object-oriented design skills, familiarity with developing sophisticated and scalable web services infrastructures, high-performance backend platformsBS or MS in CS or Engineering desirableExcellent hands-on experience in C/C++ or JavaStrong familiarity with Linux, MySQL, and modern big data management approaches is very useful.With headquarters in San Mateo, CA and offices around the world, is one of the leading technology companies in the high-growth video advertising industry. Comscore consistently ranks #URL_ddb080358fa5eecf5a67c649cfb4ffc343c484389f1bbaf2a1cb071e3f2b6e7e# (along with YouTube and Hulu) as one of the top 3 video ad platforms. We are experiencing explosive demand for our platform and services, and this is driving our aggressive growth in all parts of the company. We have doubled in size in the past year, and our growth has created a new opportunity for an aggressive, hands-on and visionary software leader who can help us grow even faster.\\\\xa0\\\\xa0\\\\xa0\\\\\\\\n    Location: US, CA, San Mateo\\\\\\\\n    Telecommuting: No\\\\\\\\n    \"}\\', annotations=None, meta=None)], structured_content={\\'retrieved_context_ids\\': [1], \\'retrieved_context\\': [\"Director of Software Engineering Company: #URL_ddb080358fa5eecf5a67c649cfb4ffc343c484389f1bbaf2a1cb071e3f2b6e7e# and Aptitude Staffing Solutions have partnered up in an effort to streamline the hiring process and provide a more efficient and effective recruitng model.\\\\xa0 Our focus is to help develop and achieve your career goals while makeing\\\\n    Job Id: 10397\\\\n    Description: As Director of Software Engineering\\'s newly forming New York development team, you will be a “player-coach” who will contribute to and drive high-level architecture and planning, manage day-to-day issues, as well as roll up your sleeves and code when necessary. Responsibilities:\\\\xa0Inspire, mentor and lead our superb 30+ person engineering team using your experience and deep understanding of both leading-edge technologies and of motivation and leadership;Drive the aggressive growth and organization of Software Engineering as we double in size again over the next year;Contribute new technical insights and help decide design directions, while preserving the core cultural values that define #URL_ddb080358fa5eecf5a67c649cfb4ffc343c484389f1bbaf2a1cb071e3f2b6e7e# Engineering today, including: high level of personal performance; mutual trust; taking personal responsibility; flat &amp; informal organization; integrity; and a mutually supportive environment.\\\\n    Requirements:  Requirements:\\\\xa0At least 10+ years in software development and increasing team management responsibilitiesStrong technical skills, including object-oriented design skills, familiarity with developing sophisticated and scalable web services infrastructures, high-performance backend platformsBS or MS in CS or Engineering desirableExcellent hands-on experience in C/C++ or JavaStrong familiarity with Linux, MySQL, and modern big data management approaches is very useful.With headquarters in San Mateo, CA and offices around the world, is one of the leading technology companies in the high-growth video advertising industry. Comscore consistently ranks #URL_ddb080358fa5eecf5a67c649cfb4ffc343c484389f1bbaf2a1cb071e3f2b6e7e# (along with YouTube and Hulu) as one of the top 3 video ad platforms. We are experiencing explosive demand for our platform and services, and this is driving our aggressive growth in all parts of the company. We have doubled in size in the past year, and our growth has created a new opportunity for an aggressive, hands-on and visionary software leader who can help us grow even faster.\\\\xa0\\\\xa0\\\\xa0\\\\n    Location: US, CA, San Mateo\\\\n    Telecommuting: No\\\\n    \"], \\'similarity_scores\\': [0.6111111], \\'retrieved_job_posting\\': \"Director of Software Engineering Company: #URL_ddb080358fa5eecf5a67c649cfb4ffc343c484389f1bbaf2a1cb071e3f2b6e7e# and Aptitude Staffing Solutions have partnered up in an effort to streamline the hiring process and provide a more efficient and effective recruitng model.\\\\xa0 Our focus is to help develop and achieve your career goals while makeing\\\\n    Job Id: 10397\\\\n    Description: As Director of Software Engineering\\'s newly forming New York development team, you will be a “player-coach” who will contribute to and drive high-level architecture and planning, manage day-to-day issues, as well as roll up your sleeves and code when necessary. Responsibilities:\\\\xa0Inspire, mentor and lead our superb 30+ person engineering team using your experience and deep understanding of both leading-edge technologies and of motivation and leadership;Drive the aggressive growth and organization of Software Engineering as we double in size again over the next year;Contribute new technical insights and help decide design directions, while preserving the core cultural values that define #URL_ddb080358fa5eecf5a67c649cfb4ffc343c484389f1bbaf2a1cb071e3f2b6e7e# Engineering today, including: high level of personal performance; mutual trust; taking personal responsibility; flat &amp; informal organization; integrity; and a mutually supportive environment.\\\\n    Requirements:  Requirements:\\\\xa0At least 10+ years in software development and increasing team management responsibilitiesStrong technical skills, including object-oriented design skills, familiarity with developing sophisticated and scalable web services infrastructures, high-performance backend platformsBS or MS in CS or Engineering desirableExcellent hands-on experience in C/C++ or JavaStrong familiarity with Linux, MySQL, and modern big data management approaches is very useful.With headquarters in San Mateo, CA and offices around the world, is one of the leading technology companies in the high-growth video advertising industry. Comscore consistently ranks #URL_ddb080358fa5eecf5a67c649cfb4ffc343c484389f1bbaf2a1cb071e3f2b6e7e# (along with YouTube and Hulu) as one of the top 3 video ad platforms. We are experiencing explosive demand for our platform and services, and this is driving our aggressive growth in all parts of the company. We have doubled in size in the past year, and our growth has created a new opportunity for an aggressive, hands-on and visionary software leader who can help us grow even faster.\\\\xa0\\\\xa0\\\\xa0\\\\n    Location: US, CA, San Mateo\\\\n    Telecommuting: No\\\\n    \"}, data={\\'retrieved_context_ids\\': [1], \\'retrieved_context\\': [\"Director of Software Engineering Company: #URL_ddb080358fa5eecf5a67c649cfb4ffc343c484389f1bbaf2a1cb071e3f2b6e7e# and Aptitude Staffing Solutions have partnered up in an effort to streamline the hiring process and provide a more efficient and effective recruitng model.\\\\xa0 Our focus is to help develop and achieve your career goals while makeing\\\\n    Job Id: 10397\\\\n    Description: As Director of Software Engineering\\'s newly forming New York development team, you will be a “player-coach” who will contribute to and drive high-level architecture and planning, manage day-to-day issues, as well as roll up your sleeves and code when necessary. Responsibilities:\\\\xa0Inspire, mentor and lead our superb 30+ person engineering team using your experience and deep understanding of both leading-edge technologies and of motivation and leadership;Drive the aggressive growth and organization of Software Engineering as we double in size again over the next year;Contribute new technical insights and help decide design directions, while preserving the core cultural values that define #URL_ddb080358fa5eecf5a67c649cfb4ffc343c484389f1bbaf2a1cb071e3f2b6e7e# Engineering today, including: high level of personal performance; mutual trust; taking personal responsibility; flat &amp; informal organization; integrity; and a mutually supportive environment.\\\\n    Requirements:  Requirements:\\\\xa0At least 10+ years in software development and increasing team management responsibilitiesStrong technical skills, including object-oriented design skills, familiarity with developing sophisticated and scalable web services infrastructures, high-performance backend platformsBS or MS in CS or Engineering desirableExcellent hands-on experience in C/C++ or JavaStrong familiarity with Linux, MySQL, and modern big data management approaches is very useful.With headquarters in San Mateo, CA and offices around the world, is one of the leading technology companies in the high-growth video advertising industry. Comscore consistently ranks #URL_ddb080358fa5eecf5a67c649cfb4ffc343c484389f1bbaf2a1cb071e3f2b6e7e# (along with YouTube and Hulu) as one of the top 3 video ad platforms. We are experiencing explosive demand for our platform and services, and this is driving our aggressive growth in all parts of the company. We have doubled in size in the past year, and our growth has created a new opportunity for an aggressive, hands-on and visionary software leader who can help us grow even faster.\\\\xa0\\\\xa0\\\\xa0\\\\n    Location: US, CA, San Mateo\\\\n    Telecommuting: No\\\\n    \"], \\'similarity_scores\\': [0.6111111], \\'retrieved_job_posting\\': \"Director of Software Engineering Company: #URL_ddb080358fa5eecf5a67c649cfb4ffc343c484389f1bbaf2a1cb071e3f2b6e7e# and Aptitude Staffing Solutions have partnered up in an effort to streamline the hiring process and provide a more efficient and effective recruitng model.\\\\xa0 Our focus is to help develop and achieve your career goals while makeing\\\\n    Job Id: 10397\\\\n    Description: As Director of Software Engineering\\'s newly forming New York development team, you will be a “player-coach” who will contribute to and drive high-level architecture and planning, manage day-to-day issues, as well as roll up your sleeves and code when necessary. Responsibilities:\\\\xa0Inspire, mentor and lead our superb 30+ person engineering team using your experience and deep understanding of both leading-edge technologies and of motivation and leadership;Drive the aggressive growth and organization of Software Engineering as we double in size again over the next year;Contribute new technical insights and help decide design directions, while preserving the core cultural values that define #URL_ddb080358fa5eecf5a67c649cfb4ffc343c484389f1bbaf2a1cb071e3f2b6e7e# Engineering today, including: high level of personal performance; mutual trust; taking personal responsibility; flat &amp; informal organization; integrity; and a mutually supportive environment.\\\\n    Requirements:  Requirements:\\\\xa0At least 10+ years in software development and increasing team management responsibilitiesStrong technical skills, including object-oriented design skills, familiarity with developing sophisticated and scalable web services infrastructures, high-performance backend platformsBS or MS in CS or Engineering desirableExcellent hands-on experience in C/C++ or JavaStrong familiarity with Linux, MySQL, and modern big data management approaches is very useful.With headquarters in San Mateo, CA and offices around the world, is one of the leading technology companies in the high-growth video advertising industry. Comscore consistently ranks #URL_ddb080358fa5eecf5a67c649cfb4ffc343c484389f1bbaf2a1cb071e3f2b6e7e# (along with YouTube and Hulu) as one of the top 3 video ad platforms. We are experiencing explosive demand for our platform and services, and this is driving our aggressive growth in all parts of the company. We have doubled in size in the past year, and our growth has created a new opportunity for an aggressive, hands-on and visionary software leader who can help us grow even faster.\\\\xa0\\\\xa0\\\\xa0\\\\n    Location: US, CA, San Mateo\\\\n    Telecommuting: No\\\\n    \"}, is_error=False)', tool_call_id='call_0'),\n",
       "  AIMessage(content='I have retrieved the job posting for job_id 10397. It is for a Director of Software Engineering position associated with a known technology company and a staffing solutions partner. The posting details responsibilities, requirements, and company background that appear professional and specific.\\n\\nNext, I will use the fraud classification model on this job posting text to determine if it is real or fraudulent.', additional_kwargs={}, response_metadata={}, tool_calls=[{'name': 'get_prediction', 'args': {'text': \"Director of Software Engineering Company: #URL_ddb080358fa5eecf5a67c649cfb4ffc343c484389f1bbaf2a1cb071e3f2b6e7e# and Aptitude Staffing Solutions have partnered up in an effort to streamline the hiring process and provide a more efficient and effective recruitng model. Our focus is to help develop and achieve your career goals while makeing Job Id: 10397 Description: As Director of Software Engineering's newly forming New York development team, you will be a “player-coach” who will contribute to and drive high-level architecture and planning, manage day-to-day issues, as well as roll up your sleeves and code when necessary. Responsibilities: Inspire, mentor and lead our superb 30+ person engineering team using your experience and deep understanding of both leading-edge technologies and of motivation and leadership; Drive the aggressive growth and organization of Software Engineering as we double in size again over the next year; Contribute new technical insights and help decide design directions, while preserving the core cultural values that define #URL_ddb080358fa5eecf5a67c649cfb4ffc343c484389f1bbaf2a1cb071e3f2b6e7e# Engineering today, including: high level of personal performance; mutual trust; taking personal responsibility; flat & informal organization; integrity; and a mutually supportive environment. Requirements: Requirements: At least 10+ years in software development and increasing team management responsibilities Strong technical skills, including object-oriented design skills, familiarity with developing sophisticated and scalable web services infrastructures, high-performance backend platforms BS or MS in CS or Engineering desirable Excellent hands-on experience in C/C++ or Java Strong familiarity with Linux, MySQL, and modern big data management approaches is very useful. With headquarters in San Mateo, CA and offices around the world, is one of the leading technology companies in the high-growth video advertising industry. Comscore consistently ranks #URL_ddb080358fa5eecf5a67c649cfb4ffc343c484389f1bbaf2a1cb071e3f2b6e7e# (along with YouTube and Hulu) as one of the top 3 video ad platforms. We are experiencing explosive demand for our platform and services, and this is driving our aggressive growth in all parts of the company. We have doubled in size in the past year, and our growth has created a new opportunity for an aggressive, hands-on and visionary software leader who can help us grow even faster. Location: US, CA, San Mateo Telecommuting: No\"}, 'id': 'call_0', 'type': 'tool_call'}]),\n",
       "  ToolMessage(content='CallToolResult(content=[TextContent(type=\\'text\\', text=\\'{\"is_fraud\":true,\"probability\":1.0}\\', annotations=None, meta=None)], structured_content={\\'is_fraud\\': True, \\'probability\\': 1.0}, data={\\'is_fraud\\': True, \\'probability\\': 1.0}, is_error=False)', tool_call_id='call_0'),\n",
       "  AIMessage(content=\"The job posting for the Director of Software Engineering with job_id 10397 is classified as Likely Fraudulent with a high confidence (probability 1.0) by the fraud detection model.\\n\\nReasoning and red flags:\\n- The posting uses placeholders like #URL_...# instead of actual company names and URLs, which is suspicious.\\n- Although the job description is detailed and professional sounding, the presence of such placeholders and the model's high confidence in fraud indicate it may be a scam or fake posting.\\n\\nPositive signs:\\n- The job description is detailed and specific, which is typical of real postings.\\n\\nActionable advice:\\n- Do not provide any personal or financial information to the poster.\\n- Try to verify the job directly on the official company website or trusted job boards.\\n- Be cautious of any requests for payment or unusual hiring practices.\\n\\nFinal verdict: Likely Fraudulent.\", additional_kwargs={}, response_metadata={})],\n",
       " 'answer': \"The job posting for the Director of Software Engineering with job_id 10397 is classified as Likely Fraudulent with a high confidence (probability 1.0) by the fraud detection model.\\n\\nReasoning and red flags:\\n- The posting uses placeholders like #URL_...# instead of actual company names and URLs, which is suspicious.\\n- Although the job description is detailed and professional sounding, the presence of such placeholders and the model's high confidence in fraud indicate it may be a scam or fake posting.\\n\\nPositive signs:\\n- The job description is detailed and specific, which is typical of real postings.\\n\\nActionable advice:\\n- Do not provide any personal or financial information to the poster.\\n- Try to verify the job directly on the official company website or trusted job boards.\\n- Be cautious of any requests for payment or unusual hiring practices.\\n\\nFinal verdict: Likely Fraudulent.\",\n",
       " 'iteration': 3,\n",
       " 'final_answer': True,\n",
       " 'available_tools': [{'name': 'get_formatted_context',\n",
       "   'description': 'Get the top k context, each representing an job posting for a given query.',\n",
       "   'parameters': {'type': 'object',\n",
       "    'properties': {'query': {'title': 'Query',\n",
       "      'type': 'string',\n",
       "      'description': 'The query to get the top k context for'},\n",
       "     'top_k': {'default': 5,\n",
       "      'title': 'Top K',\n",
       "      'type': 'integer',\n",
       "      'description': 'The number of context chunks to retrieve, works best with 5 or more'}}},\n",
       "   'required': ['query'],\n",
       "   'returns': {'type': 'string',\n",
       "    'description': 'A dictionary of the top k context chunks with IDs prepending each chunk, each representing job posting for a given query.'},\n",
       "   'server': 'http://localhost:8001/mcp'},\n",
       "  {'name': 'get_prediction',\n",
       "   'description': 'Classifies if a given job posting is real or fake.\\nUses the top retrieved context from get_formatted_context as input\\nand return classification_result.',\n",
       "   'parameters': {'type': 'object',\n",
       "    'properties': {'text': {'title': 'Text',\n",
       "      'type': 'string',\n",
       "      'description': 'Input string of the job posting from retrieved_context from get_formatted_context'}}},\n",
       "   'required': ['text'],\n",
       "   'returns': {'type': 'string',\n",
       "    'description': 'A dictionary of the classification label and prediction probability score.'},\n",
       "   'server': 'http://localhost:8002/mcp'}],\n",
       " 'tool_calls': [],\n",
       " 'retrieved_context_ids': [RAGUsedContext(id=1, description='Job posting for Director of Software Engineering with job_id 10397'),\n",
       "  RAGUsedContext(id=1, description='Job posting for job_id 10397')]}"
      ]
     },
     "execution_count": 47,
     "metadata": {},
     "output_type": "execute_result"
    }
   ],
   "source": [
    "result"
   ]
  },
  {
   "cell_type": "code",
   "execution_count": null,
   "id": "c7d3b676",
   "metadata": {},
   "outputs": [],
   "source": []
  }
 ],
 "metadata": {
  "kernelspec": {
   "display_name": ".venv",
   "language": "python",
   "name": "python3"
  },
  "language_info": {
   "codemirror_mode": {
    "name": "ipython",
    "version": 3
   },
   "file_extension": ".py",
   "mimetype": "text/x-python",
   "name": "python",
   "nbconvert_exporter": "python",
   "pygments_lexer": "ipython3",
   "version": "3.12.10"
  }
 },
 "nbformat": 4,
 "nbformat_minor": 5
}
