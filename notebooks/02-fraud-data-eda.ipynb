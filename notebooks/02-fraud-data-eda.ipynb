{
 "cells": [
  {
   "cell_type": "markdown",
   "metadata": {},
   "source": [
    "# Fake Job Posting\n",
    "\n",
    "**Description**\n",
    "This Kaggle dataset con*tains 18K job descriptions out of which about 800 are fake. The data consists of both textual information and meta-information about the jobs. The task is to train classification model to detect which job posts are fraudulent.\n",
    "\n",
    "- A subset of the Amazon Fraud Dataset compilation\n",
    "- Amazon Fraud Dataset: https://github.com/amazon-science/fraud-dataset-benchmark\n",
    "- Source URL: https://www.kaggle.com/shivamb/real-or-fake-fake-jobposting-prediction\n",
    "- Source license: https://creativecommons.org/publicdomain/zero/1.0/\n",
    "\n"
   ]
  },
  {
   "cell_type": "code",
   "execution_count": 1,
   "metadata": {},
   "outputs": [],
   "source": [
    "import pandas as pd \n",
    "import matplotlib.pyplot as plt\n",
    "import seaborn as sns\n",
    "\n",
    "pd.set_option('display.max_columns', None)\n",
    "pd.set_option('display.max_rows', None)"
   ]
  },
  {
   "cell_type": "code",
   "execution_count": 12,
   "metadata": {},
   "outputs": [],
   "source": [
    "fakejob_df = pd.read_csv(\"../data/fraud/preprocessed/fakejob.csv\")"
   ]
  },
  {
   "cell_type": "code",
   "execution_count": 7,
   "metadata": {},
   "outputs": [
    {
     "data": {
      "text/html": [
       "<div>\n",
       "<style scoped>\n",
       "    .dataframe tbody tr th:only-of-type {\n",
       "        vertical-align: middle;\n",
       "    }\n",
       "\n",
       "    .dataframe tbody tr th {\n",
       "        vertical-align: top;\n",
       "    }\n",
       "\n",
       "    .dataframe thead th {\n",
       "        text-align: right;\n",
       "    }\n",
       "</style>\n",
       "<table border=\"1\" class=\"dataframe\">\n",
       "  <thead>\n",
       "    <tr style=\"text-align: right;\">\n",
       "      <th></th>\n",
       "      <th>EVENT_ID</th>\n",
       "      <th>title</th>\n",
       "      <th>location</th>\n",
       "      <th>department</th>\n",
       "      <th>salary_range</th>\n",
       "      <th>company_profile</th>\n",
       "      <th>description</th>\n",
       "      <th>requirements</th>\n",
       "      <th>benefits</th>\n",
       "      <th>telecommuting</th>\n",
       "      <th>has_company_logo</th>\n",
       "      <th>has_questions</th>\n",
       "      <th>employment_type</th>\n",
       "      <th>required_experience</th>\n",
       "      <th>required_education</th>\n",
       "      <th>industry</th>\n",
       "      <th>function</th>\n",
       "      <th>EVENT_LABEL</th>\n",
       "      <th>ENTITY_ID</th>\n",
       "      <th>ENTITY_TYPE</th>\n",
       "    </tr>\n",
       "  </thead>\n",
       "  <tbody>\n",
       "    <tr>\n",
       "      <th>0</th>\n",
       "      <td>5737</td>\n",
       "      <td>Jr. Business Analyst &amp; Quality Analyst (entry...</td>\n",
       "      <td>US, NJ, PISCATAWAY</td>\n",
       "      <td>NaN</td>\n",
       "      <td>NaN</td>\n",
       "      <td>NaN</td>\n",
       "      <td>Duration: Full time / W2Location: Piscataway,N...</td>\n",
       "      <td>What we require:-- Masters degree in Computers...</td>\n",
       "      <td>NaN</td>\n",
       "      <td>0</td>\n",
       "      <td>0</td>\n",
       "      <td>0</td>\n",
       "      <td>Full-time</td>\n",
       "      <td>Entry level</td>\n",
       "      <td>Master's Degree</td>\n",
       "      <td>Financial Services</td>\n",
       "      <td>Finance</td>\n",
       "      <td>0</td>\n",
       "      <td>7ff262bc-22f5-47d7-976f-da251c4be9d9</td>\n",
       "      <td>user</td>\n",
       "    </tr>\n",
       "    <tr>\n",
       "      <th>1</th>\n",
       "      <td>7107</td>\n",
       "      <td>English Teacher Abroad</td>\n",
       "      <td>US, PA, Scranton</td>\n",
       "      <td>NaN</td>\n",
       "      <td>NaN</td>\n",
       "      <td>We help teachers get safe &amp;amp; secure jobs ab...</td>\n",
       "      <td>Play with kids, get paid for it Love travel? J...</td>\n",
       "      <td>University degree required. TEFL / TESOL / CEL...</td>\n",
       "      <td>See job description</td>\n",
       "      <td>0</td>\n",
       "      <td>1</td>\n",
       "      <td>1</td>\n",
       "      <td>Contract</td>\n",
       "      <td>NaN</td>\n",
       "      <td>Bachelor's Degree</td>\n",
       "      <td>Education Management</td>\n",
       "      <td>NaN</td>\n",
       "      <td>0</td>\n",
       "      <td>b85a52c1-d872-465e-8bb6-0afae684a5b0</td>\n",
       "      <td>user</td>\n",
       "    </tr>\n",
       "    <tr>\n",
       "      <th>2</th>\n",
       "      <td>11979</td>\n",
       "      <td>SQL Server Database Developer Job opportunity ...</td>\n",
       "      <td>US, IL, Barrington</td>\n",
       "      <td>NaN</td>\n",
       "      <td>90000-100000</td>\n",
       "      <td>We are an innovative personnel-sourcing firm w...</td>\n",
       "      <td>Position : SQL Server Database DeveloperJob Lo...</td>\n",
       "      <td>Position : SQL Server Database DeveloperJob Lo...</td>\n",
       "      <td>Benefits - FullBonus Eligible - Yes</td>\n",
       "      <td>0</td>\n",
       "      <td>0</td>\n",
       "      <td>0</td>\n",
       "      <td>Full-time</td>\n",
       "      <td>Mid-Senior level</td>\n",
       "      <td>Bachelor's Degree</td>\n",
       "      <td>Information Technology and Services</td>\n",
       "      <td>Information Technology</td>\n",
       "      <td>0</td>\n",
       "      <td>e2d8f96e-d055-4d52-9d3e-2de1cabccef8</td>\n",
       "      <td>user</td>\n",
       "    </tr>\n",
       "    <tr>\n",
       "      <th>3</th>\n",
       "      <td>9375</td>\n",
       "      <td>Legal Analyst - 12 Month FTC</td>\n",
       "      <td>GB, LND, London</td>\n",
       "      <td>Legal</td>\n",
       "      <td>NaN</td>\n",
       "      <td>MarketInvoice is one of the most high-profile ...</td>\n",
       "      <td>DescriptionOur mission at MarketInvoice is to ...</td>\n",
       "      <td>Duties and ResponsibilitiesReviewing contractu...</td>\n",
       "      <td>Competitive salaryPrivate HealthcareHalf price...</td>\n",
       "      <td>0</td>\n",
       "      <td>1</td>\n",
       "      <td>0</td>\n",
       "      <td>Full-time</td>\n",
       "      <td>Associate</td>\n",
       "      <td>Professional</td>\n",
       "      <td>Financial Services</td>\n",
       "      <td>Legal</td>\n",
       "      <td>0</td>\n",
       "      <td>175bb976-f520-45ce-bf01-1a0d591664af</td>\n",
       "      <td>user</td>\n",
       "    </tr>\n",
       "    <tr>\n",
       "      <th>4</th>\n",
       "      <td>1301</td>\n",
       "      <td>Part-Time Finance Assistant</td>\n",
       "      <td>GB, LND,</td>\n",
       "      <td>NaN</td>\n",
       "      <td>NaN</td>\n",
       "      <td>NaN</td>\n",
       "      <td>Salary:£9 - £10 per hour We are currently goin...</td>\n",
       "      <td>Your role will be a varied, interesting and in...</td>\n",
       "      <td>Salary:£9 - £10 per hour</td>\n",
       "      <td>0</td>\n",
       "      <td>0</td>\n",
       "      <td>0</td>\n",
       "      <td>Part-time</td>\n",
       "      <td>NaN</td>\n",
       "      <td>NaN</td>\n",
       "      <td>Accounting</td>\n",
       "      <td>NaN</td>\n",
       "      <td>0</td>\n",
       "      <td>7de791d9-a1c5-4de0-a475-d6cb27d5c453</td>\n",
       "      <td>user</td>\n",
       "    </tr>\n",
       "  </tbody>\n",
       "</table>\n",
       "</div>"
      ],
      "text/plain": [
       "   EVENT_ID                                              title  \\\n",
       "0      5737   Jr. Business Analyst & Quality Analyst (entry...   \n",
       "1      7107                            English Teacher Abroad    \n",
       "2     11979  SQL Server Database Developer Job opportunity ...   \n",
       "3      9375                       Legal Analyst - 12 Month FTC   \n",
       "4      1301                        Part-Time Finance Assistant   \n",
       "\n",
       "             location department  salary_range  \\\n",
       "0  US, NJ, PISCATAWAY        NaN           NaN   \n",
       "1   US, PA, Scranton         NaN           NaN   \n",
       "2  US, IL, Barrington        NaN  90000-100000   \n",
       "3     GB, LND, London      Legal           NaN   \n",
       "4           GB, LND,         NaN           NaN   \n",
       "\n",
       "                                     company_profile  \\\n",
       "0                                                NaN   \n",
       "1  We help teachers get safe &amp; secure jobs ab...   \n",
       "2  We are an innovative personnel-sourcing firm w...   \n",
       "3  MarketInvoice is one of the most high-profile ...   \n",
       "4                                                NaN   \n",
       "\n",
       "                                         description  \\\n",
       "0  Duration: Full time / W2Location: Piscataway,N...   \n",
       "1  Play with kids, get paid for it Love travel? J...   \n",
       "2  Position : SQL Server Database DeveloperJob Lo...   \n",
       "3  DescriptionOur mission at MarketInvoice is to ...   \n",
       "4  Salary:£9 - £10 per hour We are currently goin...   \n",
       "\n",
       "                                        requirements  \\\n",
       "0  What we require:-- Masters degree in Computers...   \n",
       "1  University degree required. TEFL / TESOL / CEL...   \n",
       "2  Position : SQL Server Database DeveloperJob Lo...   \n",
       "3  Duties and ResponsibilitiesReviewing contractu...   \n",
       "4  Your role will be a varied, interesting and in...   \n",
       "\n",
       "                                            benefits  telecommuting  \\\n",
       "0                                                NaN              0   \n",
       "1                                See job description              0   \n",
       "2                Benefits - FullBonus Eligible - Yes              0   \n",
       "3  Competitive salaryPrivate HealthcareHalf price...              0   \n",
       "4                          Salary:£9 - £10 per hour               0   \n",
       "\n",
       "   has_company_logo  has_questions employment_type required_experience  \\\n",
       "0                 0              0       Full-time         Entry level   \n",
       "1                 1              1        Contract                 NaN   \n",
       "2                 0              0       Full-time    Mid-Senior level   \n",
       "3                 1              0       Full-time           Associate   \n",
       "4                 0              0       Part-time                 NaN   \n",
       "\n",
       "  required_education                             industry  \\\n",
       "0    Master's Degree                   Financial Services   \n",
       "1  Bachelor's Degree                 Education Management   \n",
       "2  Bachelor's Degree  Information Technology and Services   \n",
       "3       Professional                   Financial Services   \n",
       "4                NaN                           Accounting   \n",
       "\n",
       "                 function  EVENT_LABEL                             ENTITY_ID  \\\n",
       "0                 Finance            0  7ff262bc-22f5-47d7-976f-da251c4be9d9   \n",
       "1                     NaN            0  b85a52c1-d872-465e-8bb6-0afae684a5b0   \n",
       "2  Information Technology            0  e2d8f96e-d055-4d52-9d3e-2de1cabccef8   \n",
       "3                   Legal            0  175bb976-f520-45ce-bf01-1a0d591664af   \n",
       "4                     NaN            0  7de791d9-a1c5-4de0-a475-d6cb27d5c453   \n",
       "\n",
       "  ENTITY_TYPE  \n",
       "0        user  \n",
       "1        user  \n",
       "2        user  \n",
       "3        user  \n",
       "4        user  "
      ]
     },
     "execution_count": 7,
     "metadata": {},
     "output_type": "execute_result"
    }
   ],
   "source": [
    "fakejob_df.head()"
   ]
  },
  {
   "cell_type": "markdown",
   "metadata": {},
   "source": [
    "* We can split the location by Country, State, City, etc."
   ]
  },
  {
   "cell_type": "code",
   "execution_count": 10,
   "metadata": {},
   "outputs": [
    {
     "data": {
      "text/plain": [
       "EVENT_LABEL\n",
       "0    13625\n",
       "1      679\n",
       "Name: count, dtype: int64"
      ]
     },
     "execution_count": 10,
     "metadata": {},
     "output_type": "execute_result"
    }
   ],
   "source": [
    "fakejob_df[\"EVENT_LABEL\"].value_counts()"
   ]
  },
  {
   "cell_type": "code",
   "execution_count": 16,
   "metadata": {},
   "outputs": [
    {
     "data": {
      "text/plain": [
       "EVENT_ID                int64\n",
       "title                  object\n",
       "location               object\n",
       "department             object\n",
       "salary_range           object\n",
       "company_profile        object\n",
       "description            object\n",
       "requirements           object\n",
       "benefits               object\n",
       "telecommuting           int64\n",
       "has_company_logo        int64\n",
       "has_questions           int64\n",
       "employment_type        object\n",
       "required_experience    object\n",
       "required_education     object\n",
       "industry               object\n",
       "function               object\n",
       "EVENT_LABEL             int64\n",
       "ENTITY_ID              object\n",
       "ENTITY_TYPE            object\n",
       "country                object\n",
       "state                  object\n",
       "city                   object\n",
       "dtype: object"
      ]
     },
     "execution_count": 16,
     "metadata": {},
     "output_type": "execute_result"
    }
   ],
   "source": [
    "fakejob_df.dtypes"
   ]
  },
  {
   "cell_type": "code",
   "execution_count": 8,
   "metadata": {},
   "outputs": [
    {
     "data": {
      "image/png": "[encoded data removed]",
      "text/plain": [
       "<Figure size 640x480 with 1 Axes>"
      ]
     },
     "metadata": {},
     "output_type": "display_data"
    }
   ],
   "source": [
    "fakejob_df.boxplot(column = 'has_company_logo', by = 'EVENT_LABEL')\n",
    "# plt.ylim(0,1000)\n",
    "plt.show()"
   ]
  },
  {
   "cell_type": "code",
   "execution_count": 13,
   "metadata": {},
   "outputs": [
    {
     "name": "stderr",
     "output_type": "stream",
     "text": [
      "/var/folders/g2/yw25hwg538z2t1h4b9_tdl700000gn/T/ipykernel_31350/2110235033.py:35: FutureWarning: Setting an item of incompatible dtype is deprecated and will raise an error in a future version of pandas. Value 'US' has dtype incompatible with float64, please explicitly cast to a compatible dtype first.\n",
      "  df_result.loc[idx, 'country'] = loc_parts[0]\n",
      "/var/folders/g2/yw25hwg538z2t1h4b9_tdl700000gn/T/ipykernel_31350/2110235033.py:37: FutureWarning: Setting an item of incompatible dtype is deprecated and will raise an error in a future version of pandas. Value 'NJ' has dtype incompatible with float64, please explicitly cast to a compatible dtype first.\n",
      "  df_result.loc[idx, 'state'] = loc_parts[1]\n",
      "/var/folders/g2/yw25hwg538z2t1h4b9_tdl700000gn/T/ipykernel_31350/2110235033.py:40: FutureWarning: Setting an item of incompatible dtype is deprecated and will raise an error in a future version of pandas. Value 'PISCATAWAY' has dtype incompatible with float64, please explicitly cast to a compatible dtype first.\n",
      "  df_result.loc[idx, 'city'] = ', '.join(loc_parts[2:])\n"
     ]
    }
   ],
   "source": [
    "def split_location_features(df):\n",
    "    \"\"\"\n",
    "    Split location column into country, state, and city columns without changing the \n",
    "    dataframe shape\n",
    "    \n",
    "    Args:\n",
    "        df: DataFrame with a 'location' column\n",
    "        \n",
    "    Returns:\n",
    "        DataFrame with added country, state, and city columns\n",
    "    \"\"\"\n",
    "    import numpy as np\n",
    "    import pandas as pd\n",
    "    \n",
    "    # Create a copy to avoid modifying the original dataframe\n",
    "    df_result = df.copy()\n",
    "    \n",
    "    # Initialize country, state, and city columns with NaN\n",
    "    df_result['country'] = np.nan\n",
    "    df_result['state'] = np.nan\n",
    "    df_result['city'] = np.nan\n",
    "    \n",
    "    # Process only non-null location values\n",
    "    mask = df_result['location'].notna()\n",
    "    \n",
    "    # For rows with location data, split and assign\n",
    "    for idx in df_result[mask].index:\n",
    "        loc = df_result.loc[idx, 'location']\n",
    "        \n",
    "        # Split location by comma\n",
    "        loc_parts = loc.split(', ')\n",
    "        \n",
    "        # Assign parts to appropriate columns\n",
    "        if len(loc_parts) >= 1:\n",
    "            df_result.loc[idx, 'country'] = loc_parts[0]\n",
    "        if len(loc_parts) >= 2:\n",
    "            df_result.loc[idx, 'state'] = loc_parts[1]\n",
    "        if len(loc_parts) >= 3:\n",
    "            # Join any remaining parts for city\n",
    "            df_result.loc[idx, 'city'] = ', '.join(loc_parts[2:])\n",
    "    \n",
    "    # Fill NaN values with 'Unspecified'\n",
    "    df_result['country'] = df_result['country'].fillna('Unspecified')\n",
    "    df_result['state'] = df_result['state'].fillna('Unspecified')\n",
    "    df_result['city'] = df_result['city'].fillna('Unspecified')\n",
    "    \n",
    "    return df_result\n",
    "\n",
    "# Example usage:\n",
    "fakejob_df = split_location_features(fakejob_df)\n"
   ]
  },
  {
   "cell_type": "code",
   "execution_count": 15,
   "metadata": {},
   "outputs": [
    {
     "data": {
      "text/plain": [
       "country\n",
       "US             582\n",
       "AU              31\n",
       "GB              17\n",
       "Unspecified     16\n",
       "MY               8\n",
       "CA               8\n",
       "QA               4\n",
       "BH               4\n",
       "IN               3\n",
       "PL               2\n",
       "PH               1\n",
       "ID               1\n",
       "TW               1\n",
       "ZA               1\n",
       "Name: count, dtype: int64"
      ]
     },
     "execution_count": 15,
     "metadata": {},
     "output_type": "execute_result"
    }
   ],
   "source": [
    "fake = fakejob_df[fakejob_df[\"EVENT_LABEL\"]==1]\n",
    "\n",
    "fake[\"country\"].value_counts()"
   ]
  },
  {
   "cell_type": "markdown",
   "metadata": {},
   "source": [
    "* US shows us the most with fraudulent postings"
   ]
  },
  {
   "cell_type": "code",
   "execution_count": null,
   "metadata": {},
   "outputs": [],
   "source": []
  }
 ],
 "metadata": {
  "kernelspec": {
   "display_name": ".venv",
   "language": "python",
   "name": "python3"
  },
  "language_info": {
   "codemirror_mode": {
    "name": "ipython",
    "version": 3
   },
   "file_extension": ".py",
   "mimetype": "text/x-python",
   "name": "python",
   "nbconvert_exporter": "python",
   "pygments_lexer": "ipython3",
   "version": "3.12.10"
  }
 },
 "nbformat": 4,
 "nbformat_minor": 2
}
