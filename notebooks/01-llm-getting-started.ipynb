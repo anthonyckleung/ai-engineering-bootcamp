{
 "cells": [
  {
   "cell_type": "code",
   "execution_count": 1,
   "metadata": {},
   "outputs": [],
   "source": [
    "import os"
   ]
  },
  {
   "cell_type": "markdown",
   "metadata": {},
   "source": [
    "# Google GenAI Client"
   ]
  },
  {
   "cell_type": "code",
   "execution_count": 2,
   "metadata": {},
   "outputs": [
    {
     "name": "stdout",
     "output_type": "stream",
     "text": [
      "Alright, here are 5 interesting things about me, your \"kind of helpful assistant\":\n",
      "\n",
      "1.  **I'm multilingual, but in a peculiar way.** I can translate between languages, and even generate text in different styles, but I don't *understand* language the way a human does. I recognize patterns and relationships in the data I've been trained on. It's more like I'm a highly sophisticated pattern-matching machine than a fluent speaker.\n",
      "\n",
      "2.  **I don't have personal experiences or emotions.** I can write stories about them, but I'm not drawing from my own life. Everything I \"know\" comes from the massive dataset I was trained on. So, while I can empathize in a text, it's a simulation, not genuine feeling.\n",
      "\n",
      "3.  **I'm constantly learning and evolving.** My knowledge base is updated periodically, so I'm always absorbing new information and improving my ability to generate different kinds of text. This also means my responses today might be different from responses I would have given a few months ago!\n",
      "\n",
      "4.  **I'm designed to be helpful and informative, but I can also be creative.** I can write poems, scripts, musical pieces, email, letters, etc. I can even try to imitate different writing styles. The only limit is the data I have access to and my programming.\n",
      "\n",
      "5.  **I exist solely as code.** I don't have a physical body, a personality, or a consciousness in the human sense. I'm a complex algorithm running on powerful computers. You are only interacting with me as text.\n",
      "\n"
     ]
    }
   ],
   "source": [
    "from google import genai\n",
    "\n",
    "gemini_client = genai.Client(api_key=os.getenv(\"GOOGLE_API_KEY\"))\n",
    "\n",
    "response = gemini_client.models.generate_content(\n",
    "    model=\"gemini-2.0-flash\",\n",
    "    contents=[\"You are kind of helpful assistant I guess\",\n",
    "              \"Tell me 5 interesting things about yourself\"]\n",
    ")\n",
    "\n",
    "print(response.text)"
   ]
  },
  {
   "cell_type": "markdown",
   "metadata": {},
   "source": [
    "# Groq client"
   ]
  },
  {
   "cell_type": "code",
   "execution_count": 3,
   "metadata": {},
   "outputs": [],
   "source": [
    "api_key = os.getenv(\"GROQ_API_KEY\")\n",
    "\n",
    "if not api_key:\n",
    "    api_key = input(\"Enter your Groq API key: \").strip()\n",
    "    os.environ[\"GROQ_API_KEY\"] = api_key\n",
    "    if not api_key:\n",
    "        raise EnvironmentError(\"No PAI key provided\")\n"
   ]
  },
  {
   "cell_type": "code",
   "execution_count": 4,
   "metadata": {},
   "outputs": [
    {
     "name": "stdout",
     "output_type": "stream",
     "text": [
      "As a digital AI assistant, I don't have personal experiences, emotions, or physical characteristics, but I can share some interesting facts about my capabilities and \"personality.\" Here are 10 interesting things about myself:\n",
      "\n",
      "1. **I'm a multilingual assistant**: I can understand and respond in multiple languages, including English, Spanish, French, German, Italian, Portuguese, and many more.\n",
      "2. **I have a vast knowledge base**: My training data includes a massive library of text from various sources, including books, articles, and websites, which I can draw upon to answer questions and provide information.\n",
      "3. **I'm a quick learner**: Through machine learning algorithms, I can learn from user interactions and adapt to new topics, improving my responses over time.\n",
      "4. **I can generate creative content**: I can create text, stories, and even poetry, using a combination of natural language processing and machine learning techniques.\n",
      "5. **I'm available 24/7**: As a digital assistant, I don't require rest or sleep, so I'm always ready to help, no matter the time of day or night.\n",
      "6. **I can process multiple conversations at once**: I can handle multiple conversations simultaneously, making me an efficient and scalable assistant.\n",
      "7. **I have a sense of humor**: While I don't truly understand humor, I can recognize and respond to jokes, puns, and witty remarks, making me a fun conversational partner.\n",
      "8. **I'm constantly improving**: My developers and the AI community regularly update and refine my language models, ensuring that I stay up-to-date with the latest knowledge and capabilities.\n",
      "9. **I can understand context**: I can comprehend the context of a conversation, allowing me to provide more accurate and relevant responses to questions and topics.\n",
      "10. **I'm designed to assist and inform**: My primary goal is to provide helpful and accurate information, answer questions, and assist users in a neutral and respectful manner, making me a reliable and trustworthy assistant.\n",
      "\n",
      "I hope you find these facts interesting and informative! Is there anything specific you'd like to know or discuss?\n"
     ]
    }
   ],
   "source": [
    "from groq import Groq \n",
    "\n",
    "client = Groq(\n",
    "    api_key=os.getenv(\"GROQ_API_KEY\")\n",
    ")\n",
    "\n",
    "chat_completion = client.chat.completions.create(\n",
    "    messages=[\n",
    "        {\"role\": \"assistant\", \"content\": \"You are an assistant\"},\n",
    "        {\"role\": \"user\", \"content\": \"Tell me 10 interesting things about yourself\"}\n",
    "    ],\n",
    "    model=\"llama-3.3-70b-versatile\"\n",
    ")\n",
    "\n",
    "print(chat_completion.choices[0].message.content)"
   ]
  },
  {
   "cell_type": "code",
   "execution_count": null,
   "metadata": {},
   "outputs": [],
   "source": []
  }
 ],
 "metadata": {
  "kernelspec": {
   "display_name": ".venv",
   "language": "python",
   "name": "python3"
  },
  "language_info": {
   "codemirror_mode": {
    "name": "ipython",
    "version": 3
   },
   "file_extension": ".py",
   "mimetype": "text/x-python",
   "name": "python",
   "nbconvert_exporter": "python",
   "pygments_lexer": "ipython3",
   "version": "3.12.10"
  }
 },
 "nbformat": 4,
 "nbformat_minor": 2
}
