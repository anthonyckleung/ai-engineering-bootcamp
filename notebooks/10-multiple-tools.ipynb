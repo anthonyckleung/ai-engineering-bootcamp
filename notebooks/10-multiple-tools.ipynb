{
 "cells": [
  {
   "cell_type": "code",
   "execution_count": 5,
   "id": "b5a50d71",
   "metadata": {},
   "outputs": [],
   "source": [
    "from qdrant_client import QdrantClient\n",
    "from qdrant_client.models import VectorParams, Distance, PayloadSchemaType, PointStruct, MatchAny, FieldCondition, Filter, Prefetch, FusionQuery\n",
    "\n",
    "import pandas as pd\n",
    "import openai\n",
    "import json\n",
    "import tiktoken\n",
    "import re\n",
    "import string\n",
    "from nltk.stem import PorterStemmer"
   ]
  },
  {
   "cell_type": "code",
   "execution_count": 2,
   "id": "e12fc28f",
   "metadata": {},
   "outputs": [],
   "source": [
    "df = pd.read_csv(\"../data/fraud/fake_job_postings.csv\")\n",
    "\n",
    "df_sample = df.sample(n=50, random_state=123)"
   ]
  },
  {
   "cell_type": "markdown",
   "id": "fa4afe70",
   "metadata": {},
   "source": [
    "## Define function for preprocess job descriptions"
   ]
  },
  {
   "cell_type": "code",
   "execution_count": 3,
   "id": "c426a4d2",
   "metadata": {},
   "outputs": [
    {
     "data": {
      "text/html": [
       "<div>\n",
       "<style scoped>\n",
       "    .dataframe tbody tr th:only-of-type {\n",
       "        vertical-align: middle;\n",
       "    }\n",
       "\n",
       "    .dataframe tbody tr th {\n",
       "        vertical-align: top;\n",
       "    }\n",
       "\n",
       "    .dataframe thead th {\n",
       "        text-align: right;\n",
       "    }\n",
       "</style>\n",
       "<table border=\"1\" class=\"dataframe\">\n",
       "  <thead>\n",
       "    <tr style=\"text-align: right;\">\n",
       "      <th></th>\n",
       "      <th>job_id</th>\n",
       "      <th>title</th>\n",
       "      <th>location</th>\n",
       "      <th>department</th>\n",
       "      <th>salary_range</th>\n",
       "      <th>company_profile</th>\n",
       "      <th>description</th>\n",
       "      <th>requirements</th>\n",
       "      <th>benefits</th>\n",
       "      <th>telecommuting</th>\n",
       "      <th>has_company_logo</th>\n",
       "      <th>has_questions</th>\n",
       "      <th>employment_type</th>\n",
       "      <th>required_experience</th>\n",
       "      <th>required_education</th>\n",
       "      <th>industry</th>\n",
       "      <th>function</th>\n",
       "      <th>fraudulent</th>\n",
       "      <th>text</th>\n",
       "    </tr>\n",
       "  </thead>\n",
       "  <tbody>\n",
       "    <tr>\n",
       "      <th>11391</th>\n",
       "      <td>11392</td>\n",
       "      <td>House and Office Cleaners / Housekeepers FT/PT</td>\n",
       "      <td>US, GA, Atlanta</td>\n",
       "      <td>NaN</td>\n",
       "      <td>NaN</td>\n",
       "      <td>Hedge your bets - work with the best domestic ...</td>\n",
       "      <td>Do more of the work you love and earn more wit...</td>\n",
       "      <td>Requirements:* Must have own supplies and reli...</td>\n",
       "      <td>Pay is $15/hr (add tips and you make even more...</td>\n",
       "      <td>0</td>\n",
       "      <td>1</td>\n",
       "      <td>1</td>\n",
       "      <td>Other</td>\n",
       "      <td>Not Applicable</td>\n",
       "      <td>NaN</td>\n",
       "      <td>Facilities Services</td>\n",
       "      <td>NaN</td>\n",
       "      <td>0</td>\n",
       "      <td>House and Office Cleaners / Housekeepers FT/PT...</td>\n",
       "    </tr>\n",
       "    <tr>\n",
       "      <th>10396</th>\n",
       "      <td>10397</td>\n",
       "      <td>Director of Software Engineering</td>\n",
       "      <td>US, CA, San Mateo</td>\n",
       "      <td>Engineering</td>\n",
       "      <td>NaN</td>\n",
       "      <td>#URL_ddb080358fa5eecf5a67c649cfb4ffc343c484389...</td>\n",
       "      <td>As Director of Software Engineering's newly fo...</td>\n",
       "      <td>Requirements: At least 10+ years in software ...</td>\n",
       "      <td>Our core values drive our culture. This is wha...</td>\n",
       "      <td>0</td>\n",
       "      <td>1</td>\n",
       "      <td>1</td>\n",
       "      <td>Full-time</td>\n",
       "      <td>Director</td>\n",
       "      <td>Master's Degree</td>\n",
       "      <td>Marketing and Advertising</td>\n",
       "      <td>Engineering</td>\n",
       "      <td>1</td>\n",
       "      <td>Director of Software Engineering Company: #URL...</td>\n",
       "    </tr>\n",
       "    <tr>\n",
       "      <th>5484</th>\n",
       "      <td>5485</td>\n",
       "      <td>Accounting Manager</td>\n",
       "      <td>US, , Portland</td>\n",
       "      <td>NaN</td>\n",
       "      <td>65000-80000</td>\n",
       "      <td>Human capital is usually the biggest asset and...</td>\n",
       "      <td>Who are client is…An innovator in solar techno...</td>\n",
       "      <td>What you need to have….High integrity, ethics,...</td>\n",
       "      <td>NaN</td>\n",
       "      <td>0</td>\n",
       "      <td>1</td>\n",
       "      <td>1</td>\n",
       "      <td>Full-time</td>\n",
       "      <td>Mid-Senior level</td>\n",
       "      <td>Bachelor's Degree</td>\n",
       "      <td>Accounting</td>\n",
       "      <td>Accounting/Auditing</td>\n",
       "      <td>0</td>\n",
       "      <td>Accounting Manager Company: Human capital is u...</td>\n",
       "    </tr>\n",
       "    <tr>\n",
       "      <th>16446</th>\n",
       "      <td>16447</td>\n",
       "      <td>Community Support Manager (CSM)</td>\n",
       "      <td>US, SC, Fort Mill</td>\n",
       "      <td>NaN</td>\n",
       "      <td>NaN</td>\n",
       "      <td>We Help Create Communities that Withstand the ...</td>\n",
       "      <td>Job Title:         Community Support ManagerGe...</td>\n",
       "      <td>Job RequirementsAbility to listenGood written ...</td>\n",
       "      <td>NaN</td>\n",
       "      <td>0</td>\n",
       "      <td>1</td>\n",
       "      <td>0</td>\n",
       "      <td>Full-time</td>\n",
       "      <td>Entry level</td>\n",
       "      <td>High School or equivalent</td>\n",
       "      <td>NaN</td>\n",
       "      <td>Customer Service</td>\n",
       "      <td>0</td>\n",
       "      <td>Community Support Manager (CSM) Company: We He...</td>\n",
       "    </tr>\n",
       "    <tr>\n",
       "      <th>4144</th>\n",
       "      <td>4145</td>\n",
       "      <td>Sr. Systems Developer</td>\n",
       "      <td>US, NY, New York</td>\n",
       "      <td>NaN</td>\n",
       "      <td>NaN</td>\n",
       "      <td>We design, deploy, and maintain advanced techn...</td>\n",
       "      <td>We are looking for highly skilled developer to...</td>\n",
       "      <td>Practical Knowledge &amp;amp; Experience:Strong re...</td>\n",
       "      <td>At Fivesky, our employees are our greatest ass...</td>\n",
       "      <td>0</td>\n",
       "      <td>1</td>\n",
       "      <td>1</td>\n",
       "      <td>NaN</td>\n",
       "      <td>NaN</td>\n",
       "      <td>NaN</td>\n",
       "      <td>NaN</td>\n",
       "      <td>NaN</td>\n",
       "      <td>0</td>\n",
       "      <td>Sr. Systems Developer Company: We design, depl...</td>\n",
       "    </tr>\n",
       "  </tbody>\n",
       "</table>\n",
       "</div>"
      ],
      "text/plain": [
       "       job_id                                           title  \\\n",
       "11391   11392  House and Office Cleaners / Housekeepers FT/PT   \n",
       "10396   10397                Director of Software Engineering   \n",
       "5484     5485                              Accounting Manager   \n",
       "16446   16447                 Community Support Manager (CSM)   \n",
       "4144     4145                           Sr. Systems Developer   \n",
       "\n",
       "                location   department salary_range  \\\n",
       "11391    US, GA, Atlanta          NaN          NaN   \n",
       "10396  US, CA, San Mateo  Engineering          NaN   \n",
       "5484      US, , Portland          NaN  65000-80000   \n",
       "16446  US, SC, Fort Mill          NaN          NaN   \n",
       "4144    US, NY, New York          NaN          NaN   \n",
       "\n",
       "                                         company_profile  \\\n",
       "11391  Hedge your bets - work with the best domestic ...   \n",
       "10396  #URL_ddb080358fa5eecf5a67c649cfb4ffc343c484389...   \n",
       "5484   Human capital is usually the biggest asset and...   \n",
       "16446  We Help Create Communities that Withstand the ...   \n",
       "4144   We design, deploy, and maintain advanced techn...   \n",
       "\n",
       "                                             description  \\\n",
       "11391  Do more of the work you love and earn more wit...   \n",
       "10396  As Director of Software Engineering's newly fo...   \n",
       "5484   Who are client is…An innovator in solar techno...   \n",
       "16446  Job Title:         Community Support ManagerGe...   \n",
       "4144   We are looking for highly skilled developer to...   \n",
       "\n",
       "                                            requirements  \\\n",
       "11391  Requirements:* Must have own supplies and reli...   \n",
       "10396   Requirements: At least 10+ years in software ...   \n",
       "5484   What you need to have….High integrity, ethics,...   \n",
       "16446  Job RequirementsAbility to listenGood written ...   \n",
       "4144   Practical Knowledge &amp; Experience:Strong re...   \n",
       "\n",
       "                                                benefits  telecommuting  \\\n",
       "11391  Pay is $15/hr (add tips and you make even more...              0   \n",
       "10396  Our core values drive our culture. This is wha...              0   \n",
       "5484                                                 NaN              0   \n",
       "16446                                                NaN              0   \n",
       "4144   At Fivesky, our employees are our greatest ass...              0   \n",
       "\n",
       "       has_company_logo  has_questions employment_type required_experience  \\\n",
       "11391                 1              1           Other      Not Applicable   \n",
       "10396                 1              1       Full-time            Director   \n",
       "5484                  1              1       Full-time    Mid-Senior level   \n",
       "16446                 1              0       Full-time         Entry level   \n",
       "4144                  1              1             NaN                 NaN   \n",
       "\n",
       "              required_education                   industry  \\\n",
       "11391                        NaN        Facilities Services   \n",
       "10396            Master's Degree  Marketing and Advertising   \n",
       "5484           Bachelor's Degree                 Accounting   \n",
       "16446  High School or equivalent                        NaN   \n",
       "4144                         NaN                        NaN   \n",
       "\n",
       "                  function  fraudulent  \\\n",
       "11391                  NaN           0   \n",
       "10396          Engineering           1   \n",
       "5484   Accounting/Auditing           0   \n",
       "16446     Customer Service           0   \n",
       "4144                   NaN           0   \n",
       "\n",
       "                                                    text  \n",
       "11391  House and Office Cleaners / Housekeepers FT/PT...  \n",
       "10396  Director of Software Engineering Company: #URL...  \n",
       "5484   Accounting Manager Company: Human capital is u...  \n",
       "16446  Community Support Manager (CSM) Company: We He...  \n",
       "4144   Sr. Systems Developer Company: We design, depl...  "
      ]
     },
     "execution_count": 3,
     "metadata": {},
     "output_type": "execute_result"
    }
   ],
   "source": [
    "\n",
    "def preprocess_data(row):\n",
    "    text = f\"\"\"{row['title']} Company: {row['company_profile']} \n",
    "    Requirements: {row['requirements']}\n",
    "    Benefits: {row['benefits']} \n",
    "    Education: {row['required_education']} \n",
    "    Salary: {row['salary_range']} \n",
    "    \"\"\"\n",
    "    return text\n",
    "    \n",
    "df_sample['text'] = df_sample.apply(preprocess_data,axis=1)\n",
    "df_sample.head()"
   ]
  },
  {
   "cell_type": "markdown",
   "id": "77b665ef",
   "metadata": {},
   "source": [
    "## Define function for ML feature preprocessing"
   ]
  },
  {
   "cell_type": "code",
   "execution_count": 6,
   "id": "b70492e7",
   "metadata": {},
   "outputs": [],
   "source": [
    "def remove_URL(text):\n",
    "    url = re.compile(r'https?://\\S+|www\\.\\S+')\n",
    "    return url.sub(r'',str(text))\n",
    "\n",
    "def remove_emoji(text):\n",
    "    emoji_pattern = re.compile(\"[\"\n",
    "                           u\"\\U0001F600-\\U0001F64F\"  # emoticons\n",
    "                           u\"\\U0001F300-\\U0001F5FF\"  # symbols & pictographs\n",
    "                           u\"\\U0001F680-\\U0001F6FF\"  # transport & map symbols\n",
    "                           u\"\\U0001F1E0-\\U0001F1FF\"  # flags (iOS)\n",
    "                           u\"\\U00002702-\\U000027B0\"\n",
    "                           u\"\\U000024C2-\\U0001F251\"\n",
    "                           \"]+\", flags=re.UNICODE)\n",
    "    return emoji_pattern.sub(r'', str(text))\n",
    "\n",
    "def remove_html(text):\n",
    "    html=re.compile(r'<.*?>')\n",
    "    return html.sub(r'',str(text))\n",
    "\n",
    "def remove_punctuation(text):\n",
    "    table=str.maketrans('','',string.punctuation)\n",
    "    return text.translate(table)\n",
    "\n",
    "def decontracted(phrase):\n",
    "    # specific\n",
    "    phrase = re.sub(r\"won't\", \"will not\", phrase)\n",
    "    phrase = re.sub(r\"can\\'t\", \"can not\", phrase)\n",
    "\n",
    "    # general\n",
    "    phrase = re.sub(r\"n\\'t\", \" not\", phrase)\n",
    "    phrase = re.sub(r\"\\'re\", \" are\", phrase)\n",
    "    phrase = re.sub(r\"\\'s\", \" is\", phrase)\n",
    "    phrase = re.sub(r\"\\'d\", \" would\", phrase)\n",
    "    phrase = re.sub(r\"\\'ll\", \" will\", phrase)\n",
    "    phrase = re.sub(r\"\\'t\", \" not\", phrase)\n",
    "    phrase = re.sub(r\"\\'ve\", \" have\", phrase)\n",
    "    phrase = re.sub(r\"\\'m\", \" am\", phrase)\n",
    "    return phrase\n",
    "\n",
    "def final_preprocess(text):\n",
    "    stopwords = set(nltk.corpus.stopwords.words('english'))\n",
    "    text = text.replace('\\\\r', ' ')\n",
    "    text = text.replace('\\\\\"', ' ')\n",
    "    text = text.replace('\\\\n', ' ')\n",
    "    text = re.sub('[^A-Za-z0-9]+', ' ', text)\n",
    "    text = ' '.join(e for e in text.split() if e.lower() not in stopwords)\n",
    "    text = text.lower()\n",
    "    ps = PorterStemmer()\n",
    "    text = ps.stem(text)\n",
    "    return text\n",
    "\n",
    "def feature_preprocessing(text):\n",
    "    text = remove_URL(text)\n",
    "    text = remove_emoji(text)\n",
    "    text = remove_html(text)\n",
    "    text = remove_punctuation(text)\n",
    "    text = final_preprocess(text)\n",
    "    return text"
   ]
  },
  {
   "cell_type": "markdown",
   "id": "51417cfb",
   "metadata": {},
   "source": [
    "# Get embeddings"
   ]
  },
  {
   "cell_type": "code",
   "execution_count": 7,
   "id": "6dff5b08",
   "metadata": {},
   "outputs": [],
   "source": [
    "def get_embedding(text, model=\"text-embedding-3-small\"):\n",
    "    response = openai.embeddings.create(\n",
    "        input=[text],\n",
    "        model=model,\n",
    "    )\n",
    "    return response.data[0].embedding"
   ]
  },
  {
   "cell_type": "code",
   "execution_count": 8,
   "id": "590cbc22",
   "metadata": {},
   "outputs": [],
   "source": [
    "def get_embeddings_batch(text_list, model=\"text-embedding-3-small\", batch_size=100):\n",
    "    \n",
    "    if len(text_list) <= batch_size:\n",
    "        response = openai.embeddings.create(input=text_list, model=model)\n",
    "        return [embedding.embedding for embedding in response.data]\n",
    "    \n",
    "    all_embeddings = []\n",
    "    counter = 1\n",
    "    for i in range(0, len(text_list), batch_size):\n",
    "        batch = text_list[i:i + batch_size]\n",
    "        response = openai.embeddings.create(input=batch, model=model)\n",
    "        all_embeddings.extend([embedding.embedding for embedding in response.data])\n",
    "        print(f\"Processed {counter * batch_size} of {len(text_list)}\")\n",
    "        counter += 1\n",
    "    \n",
    "    return all_embeddings"
   ]
  },
  {
   "cell_type": "code",
   "execution_count": 9,
   "id": "1a0a6086",
   "metadata": {},
   "outputs": [],
   "source": [
    "qdrant_client = QdrantClient(url=\"http://localhost:6333\")"
   ]
  },
  {
   "cell_type": "markdown",
   "id": "07fa6159",
   "metadata": {},
   "source": [
    "# Hybrid Search"
   ]
  },
  {
   "cell_type": "code",
   "execution_count": 10,
   "id": "b67ef7e9",
   "metadata": {},
   "outputs": [],
   "source": [
    "from qdrant_client.models import Prefetch, Filter, FieldCondition, MatchText, FusionQuery"
   ]
  },
  {
   "cell_type": "code",
   "execution_count": 28,
   "id": "55801384",
   "metadata": {},
   "outputs": [],
   "source": [
    "\n",
    "\n",
    "def retrieve_data(query, k=5):\n",
    "\n",
    "    query_embedding = get_embedding(query)\n",
    "\n",
    "    results = qdrant_client.query_points(\n",
    "        collection_name=\"job-postings-collection-hybrid-search\",\n",
    "        prefetch=[\n",
    "            Prefetch(\n",
    "                query=query_embedding,\n",
    "                limit=20\n",
    "            ),\n",
    "            Prefetch(\n",
    "                filter=Filter(\n",
    "                    must=[\n",
    "                        FieldCondition(\n",
    "                            key=\"text\",\n",
    "                            match=MatchText(text=query)\n",
    "                        )\n",
    "                    ]\n",
    "                ),\n",
    "                limit=20\n",
    "            )\n",
    "        ],\n",
    "        query=FusionQuery(fusion=\"rrf\"),\n",
    "        limit=k\n",
    "    )\n",
    "\n",
    "    return results"
   ]
  },
  {
   "cell_type": "code",
   "execution_count": 29,
   "id": "d6c629cd",
   "metadata": {},
   "outputs": [],
   "source": [
    "result = retrieve_data(\"data scientist\")"
   ]
  },
  {
   "cell_type": "code",
   "execution_count": 30,
   "id": "292ab6e8",
   "metadata": {},
   "outputs": [
    {
     "data": {
      "text/plain": [
       "[ScoredPoint(id=37, version=2, score=0.75, payload={'text': 'Data Scientist Engineer Company: Mashape is the largest, most trafficked API marketplace/hub in the world.Mashape is a revenue generating startup powering thousands of APIs (both private and public) and Applications - it’s used in almost 100 countries by thousands of developers and adopted in every major industry including finance,\\n    Job Id: 11054\\n    Description: Mashape is seeking a talented and proven analytics expert to help investigate our data,\\xa0do research and analysis to help the company make data-driven decisions in moving the product forward at the speed of light.\\xa0You will work cross-functionally,\\xa0closely with engineers, growth hacker and our designer to help devise appropriate measurements and metrics, design randomized controlled experiments, and provide data-driven feedback to support rapid product iterations. You will also use our large distributed datasets to conduct analysis, working on projects such as building related APIs models.\\xa0We look for people with strong quantitative training, substantial experience in data manipulation, savviness with modern tools for working with unstructured data and automated processes, a passion for visualization, and the ability to communicate results clearly to non-technical colleagues.\\n    Requirements: Curiosity and passion for APIsB.S., M.S., Ph.D. in a scientific or quantitative fieldExcellent statistical intuition and knowledge of various analytical approachesCuriosity and passion for APIsSuperb communication skills and ability to explain your analysis clearlyFamiliarity with Python or similar scripting languageProven achievements resulting from data analysisPassion for learning and always improving yourself and the team around youWorking with large data setsExperience languages used for querying (Hive/Pig/SQL), preprocessing (unix/python), and statistical analysis (R/Matlab/Stata)\\xa0machine learning, natural language processing, time series analysis/forecasting, GIS, survey design,\\xa0Ability to shape creative data visualizations.\\xa0\\n    Location: US, CA, San\\n    Telecommuting: No\\n    ', 'job_id': 11054, 'department': 'Not Available', 'function': 'Information Technology', 'employment_type': 'Full-time', 'salary_range': 'Not Available', 'fraudulent': False}, vector=None, shard_key=None, order_value=None),\n",
       " ScoredPoint(id=80, version=2, score=0.5, payload={'text': \"Data Insights Analyst Company: WHAT WE DOWe create information systems that deliver an immediate and ongoing business advantage.We believe in the power of information systems to create a competitive edge. We also believe the best way to do this is to build partnerships with our clients and work collaboratively to deliver informat\\n    Job Id: 16456\\n    Description: We're looking for a junior to intermediate analyst – graduates will be considered to work with us in gaining new business insights from our client's datasets.\\xa0 This will cover building reporting suitable for dashboards and infographics, as well as building statistical models to gain deeper insights into customer behaviours.\\xa0 This is an opportunity to break new ground on a data set - and bring brand new information to the table.\\xa0We work with clients in a number of different industries - so the data sets and business needs are widely varied. \\xa0To be successful in this role you will be more than an analyst as\\xa0 you will be providing in depth analysis of what the data actually means and then be able to present this in visually stimulating ways for clients.\\xa0\\xa0\\n    Requirements: To be successful you will have:-\\xa0Experience using R, SAS, SPSS or similar- Interest in working with large data sets- Experience working with data to provide new or interesting insights- Confidence to work with both business stakeholders and developers\\xa0Also ideally you will have:- Experience working with SQL (Microsoft SQL Server Preferred)- Experience with data visualisation\\xa0\\xa0If you are keen on a role where you are involved in exploration, assessment, validation and development of data visualisation technologies this is a very good career development where you can make a difference.\\n    Location: NZ, N, Auckland\\n    Telecommuting: No\\n    \", 'job_id': 16456, 'department': 'Not Available', 'function': 'Data Analyst', 'employment_type': 'Full-time', 'salary_range': '45000-65000', 'fraudulent': False}, vector=None, shard_key=None, order_value=None),\n",
       " ScoredPoint(id=82, version=2, score=0.33333334, payload={'text': 'Data Engineer Company: hello worldtalents23_ drives the change in digital recruitment and develops the best quality filters for the selection of top talents.\\n    Job Id: 11791\\n    Description: The company is an independent technology startup with offices in Germany and the US. It uses scientific data analyzes to increase the user engagement in online shops – in real-time and onsite. It helps online shops to boost their bottom line through increased sales, conversions and average order value.Your Role:You define data requirements and plan data acquisition, data architecture, analytics\\xa0environment and best practices for analyzing very large data sets\\xa0You design new data extraction, transformation and loading processes to build\\xa0efficient &amp; reliable data pipelines for extraction of large data sets of structured and\\xa0unstructured data\\xa0You draft and implement Big Data infrastructure, scaling and monitoring NoSQL\\xa0clusters to ensure availability and performance\\xa0You contribute to the product vision from a technical perspective\\n    Requirements: University degree in Computer Science, Mathematics, Physics or related fields\\xa02+ years of experience in Big Data related Backend Development\\xa0Solid experience in custom ETL design, implementation and maintenance in the\\xa0context of Big Data\\xa0Experience with relational database techniques / tools and good SQL proficiency\\xa0Practical experience with NoSQL / Mapreduce techniques (e.g., Hadoop, MongoDB)\\xa0General understanding of statistical analysis tools (e.g., R, SPSS)\\xa0Good knowledge of:\\xa0PHP, Java, JavaScript,\\xa0MySQL/PostgreSQL,\\xa0Git/Github,\\xa0Big Data:NoSQL/Hadoop/MongoDB,\\xa0Amazon Web Services\\xa0Ability to work independently and in a team\\xa0Excellent communication skills, fluent in English, German is not mandatory\\xa0Demonstrate strong technical and problem solving skills\\xa0Follow good coding practices, apply design patterns\\n    Location: DE, BY, Munich\\n    Telecommuting: No\\n    ', 'job_id': 11791, 'department': 'tech', 'function': 'Not Available', 'employment_type': 'Full-time', 'salary_range': 'Not Available', 'fraudulent': False}, vector=None, shard_key=None, order_value=None),\n",
       " ScoredPoint(id=96, version=2, score=0.2, payload={'text': 'SYSTEM ENGINEER, ANALYTICS PLATFORM Company: Not Available\\n    Job Id: 17369\\n    Description: Experience Required:1-3 years\\xa0Education Required:Bachelors Degree\\xa0Job Description:This is an ideal opportunity for an experienced systems engineer to become an expert in Hadoop cluster management, bridging the roles of grid operations and applications engineering. The ideal candidate is experienced enough with distributed systems operations to hit the ground running, and with enough coding experience to be able to contribute at the applications level.\\xa0Job Responsibilities:Collaborate to the evolution of maintenance of ingestion, processing and presentation systems powering our mobile analytics platformMaintain uptime of mission-critical processing and reporting systemsOptimize analytics configuration, management and monitoring systems, including Puppet, Nagios and GangliaSupport system modernization, the transition to Hadoop 2Strong scripting skills in Shell, Python or Ruby, and system troubleshooting skills\\n    Requirements: Participate in production engineering on-call rotation3-5 years’ experience managing complex distributed systems at scale (Search, Advertising, Analytics, or other distributed systems experience)Hands-on experience with Hadoop/HBaseExperience with performance testing and profilingBS in Computer Science or equivalent experienceNice to HaveJava and/or Scala skillsExperience with Hadoop Ecosystem - Hive, Pig, OozieCompetent with AWS\\xa0\\n    Location: US, CA, San Francisco\\n    Telecommuting: No\\n    ', 'job_id': 17369, 'department': 'Not Available', 'function': 'Information Technology', 'employment_type': 'Full-time', 'salary_range': 'Not Available', 'fraudulent': False}, vector=None, shard_key=None, order_value=None),\n",
       " ScoredPoint(id=47, version=2, score=0.16666667, payload={'text': \"BI Practice Director Company: Visual BI is one of the leading and fastest growing firms focusing exclusively on BI &amp; Analytics. Our offerings cover end-to-end BI services, industry and domain-specific solutions, custom visualization controls (SAP Dashboards and SAP Design Studio) and cloud-based analytics.Headquartered in Pl\\n    Job Id: 6631\\n    Description: This role is primarily to farm and grow our Houston, TX based clients and prospects\\xa0Build Visual BI's BI Center of Excellence and BI Practice Competencies\\xa0Become Integral Part of Visual BI's Vision to be the Best BI Consulting and Solutions Firm\\xa0Execute BI Strategy by leveraging SAP BW and HANA capabilities as Enterprise Data Warehouse(EDW).\\xa0Provide solutions architecture oversight for new development projects in support of our client's BI programBuild Project Plan timelines and Ensure BI Project Executions to those timelines and budget.\\xa0Ensure adoption of best-in-class practices and standards for development, support, quality control and documentationWork with stakeholders to analyze business requirements, and define target SAP BI/BW solution architecture and associated technical specifications &amp; implementation planLead large cross functional teams including client staff and implementation team to accomplish successful completion of one or more solution requirements, architecture, or implementation deliverablesExcellent BI Thought Leadership and Content writing for Blogs and Visual BI News Letters\\xa0Write Detailed and Descriptive Proposals, Statement of Work (SOW), and Project Plans\\xa0Manage and Develop of Visual BI team of Consultants and Developers\\xa0Work independently with minimal supervisionWill be required to commit to 50% travel to client locations and is negotiable for right candidates \\xa0\\n    Requirements: 5+ Years of Experience in Managing BI Projects and Enterprise BI Architecture\\xa010+ years of hands-on experience in multiple SAP BW developments2+ Years of hands-on experience in HANA Modelling\\xa0Experience with Modeling and Architecting for Non SAP Datasources\\xa0Oil and Gas Industry Experience\\xa0Travel to Client Locations as Client Engagement Partner / Solutions Director\\xa0Business Objects Experience\\xa0Visualizations Tools Experience (TIBCO Spotfire) \\xa0\\n    Location: US, TX, HOUSTON\\n    Telecommuting: No\\n    \", 'job_id': 6631, 'department': 'Not Available', 'function': 'Information Technology', 'employment_type': 'Full-time', 'salary_range': 'Not Available', 'fraudulent': False}, vector=None, shard_key=None, order_value=None)]"
      ]
     },
     "execution_count": 30,
     "metadata": {},
     "output_type": "execute_result"
    }
   ],
   "source": [
    "result.points"
   ]
  },
  {
   "cell_type": "code",
   "execution_count": 15,
   "id": "95b28abc",
   "metadata": {},
   "outputs": [
    {
     "data": {
      "text/plain": [
       "[\"Data Scientist Company: Zaius is a digital intuition platform enabling companies to optimize consumer experiences across channels. \\xa0We're poised to make a huge dent in a $20B industry. \\xa0Zaius is led by veterans from successful software companies including Endeca, Netezza, and LogMeIn and backed by top-tier venture capital \\nDescription: Zaius is a startup building a SaaS product to give consumer companies and brands the digital intuition they need to better understand and engage their customers across any channel - to the benefit of the consumer.At Zaius we work on hard technical problems: world wide event collection, real-time processing, machine learning, big data analytics and data visualization, all at scale. We do this to build a product that our customers love and that benefits real people. We differentiate not just on our offering, but on the strength of our technology.Simply put, we solve interesting problems using the best technology alongside great people. Zaius is led by veterans from successful software companies including Endeca, Netezza and LogMeIn and backed by top-tier venture capital firm Matrix Partners.Your role will be to turn our most interesting and valuable data into meaningful and amazing information. By utilizing machine learning and data mining techniques you will get to conceive, develop and test algorithms and contribute to their design and implementation within the architecture. We are looking for an innovator that enjoys the complexity of problems but is driven by the usefulness of the solution's application.\\nRequirements: Master's Degree or PhD in technical field, such as computer science, machine learning, applied mathematics or similar field3+ years of experience in commercial or governmentExperience designing algorithms for scale (TB or PB) or latency (ms to seconds)Understanding of algorithms and data structuresExperience as a member of a software development teamKnowledge and practical experience with data mining techniques, such as clustering, decision trees, regression analysis, neural networks and othersExperience with tools such as R, Matlab, python (scipy) or othersAbility to communicate ideas and techniques for design and implementation\\nLocation: US, VA, Leesburg\\nTelecommuting: No\\n\",\n",
       " 'Data Modeler - SQL Data Modeling Agile Scrum Erwin - Washington, DC Company: We Provide Full Time Permanent Positions for many medium to large US companies. We are interested in finding/recruiting high quality candidates in IT, Engineering, Manufacturing and other highly technical and non-technical jobs.\\nDescription: Experienced Data Modeler is required having Oracle PL/SQL experience as well as extensive background in data modeling, data warehousing.\\nRequirements: 5+ years of experience in Data modeling, business intelligence and data warehousing, Erwin etc.Candidate must have Oracle PL/SQL experience as well as extensive background in data modeling, data warehousing.Experience with a data modeling tool such as ErWIN required.Understanding of star/snowflake schemas, indexing, aggregate tables, dimension tables, constraints, keys, and fact tables required.Experience with Agile Scrum a plus.Must be able to communicate effectively with the client and be onsite in DC 100%.Business Intelligence, Data Warehousing, Oracle, Data modeling, communication,performance tuning, client management, Agile ScrumEducational Qualifications:Bachelors or higher level degreeWe Provide Full Time Permanent Positions for many medium to large US companies. We have more than 1500 jobs available in our website. Our website has thousands of openings and these job openings are not posted anywhere else online. When you apply online through our website, it automatically forwards your information to the recruiter handling your applied job. If you are a close match, they will contact you immediately to discuss about the positions and do everything to get you an interview with the client as quickly as possible.\\xa0Visit\\xa0 : #URL_ec64af2b4fe2ca316e828f93b0cd098c22f8beba98dcac09d4dd7384b221a5e8#-#URL_9753a54b28303bf636a2816399b9c255d76fabb791336a4c748da2611a23264f#\\xa0\\nLocation: US, DC, Washington\\nTelecommuting: No\\n',\n",
       " 'Ruby Web Application Developer Company: Eagle develops products and services that help our clients organise, analyse and manage genomic data. We’re based at the Babraham Research Campus, in the heart of the vibrant Cambridge technology cluster. We’re a small, but rapidly-growing company. We have a startup culture where input from everyone\\nDescription: Due to continued success, Eagle Genomics, the leading bioinformatics software and consultancy company, is seeking to hire an outstanding Ruby\\xa0Web Application Developer.The successful applicant will work on a diverse and challenging range of projects at the forefront of genomic technology, personalised medicine and data-driven science.Tasks may include:Development of bespoke softwareCustomisation and modification of existing (primarily open source) softwareAnswering and resolving ad-hoc support questions from customers relating to usage, bugs in code, or customisation issuesCommunicating with customers to clarify design briefs, understand their requirements, and help with testingDesigning and delivering user/developer training courses and documentationAttending conferences and networking with potential customersSpecification of project requirements, system architecture, workflow and user interface designs for new customer projectsRegular direct interaction with customers by email, phone, IM, and on-site visits.Due to the collaborative nature of Eagle’s software development process, and the regular interaction with customers, good communication and presentation skills are essential.Of benefit is previous experience of working in a large project, to deadlines, in close collaboration with fellow team members, and with specific personal responsibilities. The applicant will also find it useful to have experience of working with large code bases and with systems which process large quantities of data.We are looking for highly motivated candidates with good communication and interpersonal skills. Furthermore, candidates should demonstrate solid problem solving skills, excellent attention to detail, and a desire to work in an international environment. English skills are a requirement.Ideally candidates will have a degree in a software-related discipline. A background in scientific software development or bioinformatics will be useful, but is not essential.\\nRequirements: Essential\\xa0- you must have expert-level experience:Ruby, Ruby on Rails, MySQL. Knowledge and experience of modern web application design techniques and frameworks. Interaction of web clients with RESTful backends.Desirable\\xa0- demonstrable experience of one or more of the following:Javascript, JQuery, HTML, CSS. Agile development experience, Amazon Web Services, virtualisation, web security, data security. Automated build and test tools. Perl, Java. NoSQL technologies, particularly Couchbase. Chef.Our interview process includes a technical test.\\nLocation: GB, CAM, Cambridge\\nTelecommuting: No\\n',\n",
       " \"Sales Executive  Company: Dice is a highly specialized online marketing and software development firm headquartered in Portland, Oregon—the heart of the Pacific Northwest. We are dedicated to helping our national clients effectively grow their sales thru the use of our proprietary services and the application of technology b\\nDescription: Dice is a highly specialized online marketing and software development firm headquartered in Portland, OR. For the past 4, years we worked diligently developing and providing best software and services for Automotive Dealerships.\\xa0Dice was created on the tenet of providing value and innovation - a principle that continues to drive the success and growth of our organization to this day.We\\xa0are currently seeking Sales\\xa0Executives for San Francisco\\xa0Metro area.\\xa0You will be representing and selling our software as a service to Automotive Dealerships. Our package is at least 40% better and 50% more affordable than competitors. The challenge is getting in front of a decision maker at a particular Dealership. Selling our service is a breeze; not only will Dice software increase the sales performance, but also decrease the overhead by almost 25%! \\xa0\\xa0Duties:Prospecting for new clientsCalling and emailing to generate leadsSetting up appointmentsConducting Sales Presentations over the web or in personMeeting with customers\\xa0Follow-up to ensure customer satisfactionAll training will be provided with necessary tools to swiftly close accounts.\\xa0Potential candidates will have an opportunity to apply for a Regional Sales Director position and manage own sales team.\\nRequirements: The right candidate must be smart, honest, tech-savvy, and goal driven. We won't be asking for your diploma or resume, we are interested in your character, skills and life goals. Tell us your story! We try to build on Biblical principles. The right candidate must under-promise and overachieve and\\xa0be able to fulfill all commitments,\\xa0verbal just as written. Be always on time and notify ahead when running late. Try to be perfect in all things.Recommended:Great verbal communicationFluent on computersGood technical terminologyProfessionally presentableAbility to multi-task, work independently\\xa0Organized and PersistentMust have a cell phone and reliable source of transportation.\\nLocation: US, CA, San Francisco\\nTelecommuting: Yes\\n\",\n",
       " 'Digital Sales Manager Company: The Beans Group is a media company that exists to empower young people to thrive. \\xa0We have been on an exponential growth spurt since our inception as #URL_8d1ca4faf2d2518ce9ec21b3fbe5c63e4b47f383d6bb1f0a681ff6cc801b4550# in 2005 and in 2013 we won Digital Business of the Year. The Beans Group owns t\\nDescription: Joining the existing business development team, you will manage a range of client accounts and also oversee the productivity of Business Development Executives. A competitive and goal oriented individual will thrive in our lively sales atmosphere where there’s never a dull moment.You will work across the sales cycle, from prospecting through to closing, meeting clients face to face whilst also selling in our products and campaigns over the phone. You will have an innate ability to read people, pick up on buying signals and build relationships quickly to ensure your prospects allocate their budget to you. You will act as the CEO of your own pipeline and manage the development of a high value of deals.\\nRequirements: Sales/ Business Development backgroundA proven track record for hitting targets in both face-to-face sales meetings and over the phoneStrong leadership skillsExcellent communication skillsManagement experienceAbility to build strong relationshipsGoal orientated and target driven individual\\nLocation: GB, , London\\nTelecommuting: No\\n']"
      ]
     },
     "execution_count": 15,
     "metadata": {},
     "output_type": "execute_result"
    }
   ],
   "source": [
    "texts = []\n",
    "\n",
    "for data in result.points:\n",
    "    texts.append(data.payload[\"text\"])\n",
    "\n",
    "texts"
   ]
  },
  {
   "cell_type": "markdown",
   "id": "e6d46b8f",
   "metadata": {},
   "source": [
    "# Model Inference Function"
   ]
  },
  {
   "cell_type": "code",
   "execution_count": 25,
   "id": "1c34a9d1",
   "metadata": {},
   "outputs": [],
   "source": [
    "import pickle\n",
    "import spacy\n",
    "import nltk\n",
    "from scipy.sparse import hstack\n",
    "from minio import Minio"
   ]
  },
  {
   "cell_type": "code",
   "execution_count": 17,
   "id": "c96fcc36",
   "metadata": {},
   "outputs": [],
   "source": [
    "minio_client = Minio(\n",
    "    endpoint = \"localhost:9000\",\n",
    "    access_key= \"minioadmin\",\n",
    "    secret_key= \"minioadmin\",\n",
    "    secure=False\n",
    ")\n",
    "\n",
    "response = minio_client.get_object('fraud-classifier', 'count_vectorizer.pkl')\n",
    "obj_bytes = response.read()\n",
    "\n",
    "COUNT_VECTORIZER = pickle.loads(obj_bytes)\n",
    "\n",
    "response = minio_client.get_object('fraud-classifier', 'model.pkl')\n",
    "obj_bytes = response.read()\n",
    "\n",
    "MODEL = pickle.loads(obj_bytes)"
   ]
  },
  {
   "cell_type": "code",
   "execution_count": 21,
   "id": "99482550",
   "metadata": {},
   "outputs": [],
   "source": [
    "nlp = spacy.load(\"en_core_web_sm\", disable=[\"parser\", \"ner\"])"
   ]
  },
  {
   "cell_type": "code",
   "execution_count": 23,
   "id": "7d61f5e1",
   "metadata": {},
   "outputs": [],
   "source": [
    "def get_prediction(text:str):\n",
    "    \"\"\"Classifies if a given job posting is real or fake.\n",
    "    Uses the top retrieved context from get_formatted_context as input\n",
    "    and return classification_result.\n",
    "\n",
    "    Args:\n",
    "        text: Input string of the job posting from retrieved_context from get_formatted_context\n",
    "    \n",
    "    Returns:\n",
    "        A dictionary of the classification label and prediction probability score.\n",
    "    \"\"\"\n",
    "    print(\"[DEBUG] get_prediction received job description:\", text)\n",
    "\n",
    "    if not text:\n",
    "        return {\"classification_result\": {\"error\": \"Missing job description.\"}}\n",
    "\n",
    "    import joblib\n",
    "\n",
    "    # clf_model = joblib.load(\"fraud_clf_decision_tree.pkl\")\n",
    "    # vectorizer = joblib.load(\"countvectorizer.pkl\")\n",
    "\n",
    "\n",
    "    text = feature_preprocessing(text)\n",
    "\n",
    "    doc = nlp(text)\n",
    "\n",
    "    X_text, X_pos = ' '.join([token.lemma_ for token in doc]), ' '.join([token.pos_ for token in doc])\n",
    "\n",
    "    X_text_transform = COUNT_VECTORIZER.transform([X_text])\n",
    "\n",
    "    X_pos_transform = COUNT_VECTORIZER.transform([X_pos])\n",
    "\n",
    "    X_in = hstack([X_text_transform, X_pos_transform])\n",
    "\n",
    "    proba = MODEL.predict_proba(X_in)[0][1]\n",
    "    is_fraud = proba > 0.5\n",
    "\n",
    "    return {\n",
    "        \"classification_result\": {\n",
    "            \"is_fraud\": is_fraud,\n",
    "            \"probability\": round(proba, 3),\n",
    "        }\n",
    "    }"
   ]
  },
  {
   "cell_type": "code",
   "execution_count": 26,
   "id": "bd3e0112",
   "metadata": {},
   "outputs": [
    {
     "name": "stdout",
     "output_type": "stream",
     "text": [
      "[DEBUG] get_prediction received job description: Data Scientist Company: Zaius is a digital intuition platform enabling companies to optimize consumer experiences across channels.  We're poised to make a huge dent in a $20B industry.  Zaius is led by veterans from successful software companies including Endeca, Netezza, and LogMeIn and backed by top-tier venture capital \n",
      "Description: Zaius is a startup building a SaaS product to give consumer companies and brands the digital intuition they need to better understand and engage their customers across any channel - to the benefit of the consumer.At Zaius we work on hard technical problems: world wide event collection, real-time processing, machine learning, big data analytics and data visualization, all at scale. We do this to build a product that our customers love and that benefits real people. We differentiate not just on our offering, but on the strength of our technology.Simply put, we solve interesting problems using the best technology alongside great people. Zaius is led by veterans from successful software companies including Endeca, Netezza and LogMeIn and backed by top-tier venture capital firm Matrix Partners.Your role will be to turn our most interesting and valuable data into meaningful and amazing information. By utilizing machine learning and data mining techniques you will get to conceive, develop and test algorithms and contribute to their design and implementation within the architecture. We are looking for an innovator that enjoys the complexity of problems but is driven by the usefulness of the solution's application.\n",
      "Requirements: Master's Degree or PhD in technical field, such as computer science, machine learning, applied mathematics or similar field3+ years of experience in commercial or governmentExperience designing algorithms for scale (TB or PB) or latency (ms to seconds)Understanding of algorithms and data structuresExperience as a member of a software development teamKnowledge and practical experience with data mining techniques, such as clustering, decision trees, regression analysis, neural networks and othersExperience with tools such as R, Matlab, python (scipy) or othersAbility to communicate ideas and techniques for design and implementation\n",
      "Location: US, VA, Leesburg\n",
      "Telecommuting: No\n",
      "\n"
     ]
    }
   ],
   "source": [
    "pred = get_prediction(texts[0])"
   ]
  },
  {
   "cell_type": "code",
   "execution_count": 27,
   "id": "67449302",
   "metadata": {},
   "outputs": [
    {
     "data": {
      "text/plain": [
       "{'classification_result': {'is_fraud': np.False_,\n",
       "  'probability': np.float64(0.124)}}"
      ]
     },
     "execution_count": 27,
     "metadata": {},
     "output_type": "execute_result"
    }
   ],
   "source": [
    "pred"
   ]
  },
  {
   "cell_type": "code",
   "execution_count": null,
   "id": "2cd7585b",
   "metadata": {},
   "outputs": [],
   "source": []
  }
 ],
 "metadata": {
  "kernelspec": {
   "display_name": ".venv",
   "language": "python",
   "name": "python3"
  },
  "language_info": {
   "codemirror_mode": {
    "name": "ipython",
    "version": 3
   },
   "file_extension": ".py",
   "mimetype": "text/x-python",
   "name": "python",
   "nbconvert_exporter": "python",
   "pygments_lexer": "ipython3",
   "version": "3.12.10"
  }
 },
 "nbformat": 4,
 "nbformat_minor": 5
}
