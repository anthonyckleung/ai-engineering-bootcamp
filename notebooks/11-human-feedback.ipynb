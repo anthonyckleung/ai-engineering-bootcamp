{
 "cells": [
  {
   "cell_type": "code",
   "execution_count": 1,
   "id": "490e34a0",
   "metadata": {},
   "outputs": [],
   "source": [
    "from langsmith import Client"
   ]
  },
  {
   "cell_type": "code",
   "execution_count": 2,
   "id": "10eacf5a",
   "metadata": {},
   "outputs": [],
   "source": [
    "client = Client()"
   ]
  },
  {
   "cell_type": "code",
   "execution_count": 3,
   "id": "c1df437c",
   "metadata": {},
   "outputs": [
    {
     "data": {
      "text/plain": [
       "Feedback(id=UUID('8a1cbbeb-3eef-45ef-961c-d347032d1088'), created_at=datetime.datetime(2025, 8, 2, 13, 17, 52, 928586, tzinfo=datetime.timezone.utc), modified_at=datetime.datetime(2025, 8, 2, 13, 17, 52, 928587, tzinfo=datetime.timezone.utc), run_id=UUID('273bc177-53ec-4a1a-b0a9-0814241edbcd'), trace_id=None, key='feedback_key', score=0, value=None, comment=None, correction=None, feedback_source=FeedbackSourceBase(type='api', metadata={}, user_id=None, user_name=None), session_id=None, comparative_experiment_id=None, feedback_group_id=None, extra=None)"
      ]
     },
     "execution_count": 3,
     "metadata": {},
     "output_type": "execute_result"
    }
   ],
   "source": [
    "client.create_feedback(\n",
    "    run_id=\"273bc177-53ec-4a1a-b0a9-0814241edbcd\",\n",
    "    key=\"feedback_key\",\n",
    "    score=0,\n",
    "    feedback_source_type=\"api\",\n",
    "\n",
    ")"
   ]
  },
  {
   "cell_type": "code",
   "execution_count": 4,
   "id": "3f226145",
   "metadata": {},
   "outputs": [
    {
     "data": {
      "text/plain": [
       "Feedback(id=UUID('df44057d-377e-4b45-b51b-390d3dca745e'), created_at=datetime.datetime(2025, 8, 2, 13, 19, 57, 647962, tzinfo=datetime.timezone.utc), modified_at=datetime.datetime(2025, 8, 2, 13, 19, 57, 647964, tzinfo=datetime.timezone.utc), run_id=UUID('273bc177-53ec-4a1a-b0a9-0814241edbcd'), trace_id=None, key='comment', score=None, value='This is a long free form comment on this trace that you should improve the system', comment=None, correction=None, feedback_source=FeedbackSourceBase(type='api', metadata={}, user_id=None, user_name=None), session_id=None, comparative_experiment_id=None, feedback_group_id=None, extra=None)"
      ]
     },
     "execution_count": 4,
     "metadata": {},
     "output_type": "execute_result"
    }
   ],
   "source": [
    "client.create_feedback(\n",
    "    run_id=\"273bc177-53ec-4a1a-b0a9-0814241edbcd\",\n",
    "    key=\"comment\",\n",
    "    value=\"This is a long free form comment on this trace that you should improve the system\",\n",
    "    feedback_source_type=\"api\",\n",
    "\n",
    ")"
   ]
  },
  {
   "cell_type": "code",
   "execution_count": null,
   "id": "a8efc586",
   "metadata": {},
   "outputs": [],
   "source": []
  }
 ],
 "metadata": {
  "kernelspec": {
   "display_name": ".venv",
   "language": "python",
   "name": "python3"
  },
  "language_info": {
   "codemirror_mode": {
    "name": "ipython",
    "version": 3
   },
   "file_extension": ".py",
   "mimetype": "text/x-python",
   "name": "python",
   "nbconvert_exporter": "python",
   "pygments_lexer": "ipython3",
   "version": "3.12.10"
  }
 },
 "nbformat": 4,
 "nbformat_minor": 5
}
